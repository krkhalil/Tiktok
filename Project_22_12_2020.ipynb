{
  "nbformat": 4,
  "nbformat_minor": 0,
  "metadata": {
    "colab": {
      "name": "Project-22-12-2020.ipynb",
      "provenance": [],
      "collapsed_sections": []
    },
    "kernelspec": {
      "name": "python3",
      "display_name": "Python 3"
    }
  },
  "cells": [
    {
      "cell_type": "markdown",
      "metadata": {
        "id": "z-Z1fdybhHle"
      },
      "source": [
        "**Here is first code block here i am getting all the files import**"
      ]
    },
    {
      "cell_type": "code",
      "metadata": {
        "id": "U-TolgQ4hofD"
      },
      "source": [
        "import pandas as pd\n",
        "import sys\n",
        "import numpy as np\n",
        "#for creating the word cloud\n",
        "import wordcloud\n",
        "from wordcloud import WordCloud\n",
        "import matplotlib.pyplot as plt\n"
      ],
      "execution_count": null,
      "outputs": []
    },
    {
      "cell_type": "markdown",
      "metadata": {
        "id": "ioMc6ZXxhjVO"
      },
      "source": [
        "**For Mounting the Drvie**"
      ]
    },
    {
      "cell_type": "code",
      "metadata": {
        "id": "ybB44dPmdYSj",
        "colab": {
          "base_uri": "https://localhost:8080/"
        },
        "outputId": "1ae7f296-e461-4582-e11c-9c3b45ec4e08"
      },
      "source": [
        "from google.colab import drive\n",
        "drive.mount('/content/drive')"
      ],
      "execution_count": null,
      "outputs": [
        {
          "output_type": "stream",
          "text": [
            "Drive already mounted at /content/drive; to attempt to forcibly remount, call drive.mount(\"/content/drive\", force_remount=True).\n"
          ],
          "name": "stdout"
        }
      ]
    },
    {
      "cell_type": "markdown",
      "metadata": {
        "id": "h3HCwplThwAd"
      },
      "source": [
        "**Get the file address into URL variable and for further process use pandas function pd with reding the file and set this data into a frame named df1**\n",
        "\n",
        "and  see the column name of the file"
      ]
    },
    {
      "cell_type": "code",
      "metadata": {
        "id": "Uxr5zEZ_kT3B",
        "colab": {
          "base_uri": "https://localhost:8080/",
          "height": 762
        },
        "outputId": "f4d9a218-543a-46f3-db36-e43f2eb0f568"
      },
      "source": [
        "url = '/content/drive/MyDrive/project_data/final_data.csv'\n",
        "df1 = pd.read_csv(url)\n",
        "df1"
      ],
      "execution_count": null,
      "outputs": [
        {
          "output_type": "execute_result",
          "data": {
            "text/html": [
              "<div>\n",
              "<style scoped>\n",
              "    .dataframe tbody tr th:only-of-type {\n",
              "        vertical-align: middle;\n",
              "    }\n",
              "\n",
              "    .dataframe tbody tr th {\n",
              "        vertical-align: top;\n",
              "    }\n",
              "\n",
              "    .dataframe thead th {\n",
              "        text-align: right;\n",
              "    }\n",
              "</style>\n",
              "<table border=\"1\" class=\"dataframe\">\n",
              "  <thead>\n",
              "    <tr style=\"text-align: right;\">\n",
              "      <th></th>\n",
              "      <th>comment_id</th>\n",
              "      <th>text</th>\n",
              "      <th>video_id</th>\n",
              "      <th>create_time</th>\n",
              "      <th>like_count</th>\n",
              "      <th>status</th>\n",
              "      <th>author.unique_id</th>\n",
              "      <th>author.nickname</th>\n",
              "      <th>author.is_private</th>\n",
              "      <th>author.language</th>\n",
              "      <th>author.signature</th>\n",
              "      <th>author.custom_verify</th>\n",
              "      <th>author.uid</th>\n",
              "      <th>author.sec_uid</th>\n",
              "      <th>author.avatar_thumb</th>\n",
              "      <th>author.region</th>\n",
              "      <th>author.ins_id</th>\n",
              "      <th>author.youtube_channel_title</th>\n",
              "      <th>author.youtube_channel_id</th>\n",
              "      <th>author.twitter_id</th>\n",
              "    </tr>\n",
              "  </thead>\n",
              "  <tbody>\n",
              "    <tr>\n",
              "      <th>0</th>\n",
              "      <td>6816879848683438085</td>\n",
              "      <td>But are you giving him a Tesla? Because he des...</td>\n",
              "      <td>6816821384652557574</td>\n",
              "      <td>1587178528</td>\n",
              "      <td>161</td>\n",
              "      <td>1</td>\n",
              "      <td>lissettecalv</td>\n",
              "      <td>Lissette | Influencer Coach</td>\n",
              "      <td>False</td>\n",
              "      <td>en</td>\n",
              "      <td>How to BUILD &amp; MONETIZE a digital biz with pur...</td>\n",
              "      <td>Verified account</td>\n",
              "      <td>1.332024e+17</td>\n",
              "      <td>MS4wLjABAAAAbX7SywQS04x1ilOoKHrpTZqhQ6lD32nRC6...</td>\n",
              "      <td>https://p77-sign-sg.tiktokcdn.com/musically-ma...</td>\n",
              "      <td>US</td>\n",
              "      <td>lissettecalv</td>\n",
              "      <td>NaN</td>\n",
              "      <td>NaN</td>\n",
              "      <td>NaN</td>\n",
              "    </tr>\n",
              "    <tr>\n",
              "      <th>1</th>\n",
              "      <td>6816846992812015622</td>\n",
              "      <td>David was just hoping for some help 😢</td>\n",
              "      <td>6816821384652557574</td>\n",
              "      <td>1587170875</td>\n",
              "      <td>1165</td>\n",
              "      <td>1</td>\n",
              "      <td>hellomyfriend0_o</td>\n",
              "      <td>Isaac micallef</td>\n",
              "      <td>True</td>\n",
              "      <td>en</td>\n",
              "      <td>In bed watching Tiktok video's 😴</td>\n",
              "      <td>NaN</td>\n",
              "      <td>6.744597e+18</td>\n",
              "      <td>MS4wLjABAAAADslkcxnt1mqt2oQwQEK8d0ybBHPuCO-geV...</td>\n",
              "      <td>https://p77-sign-sg.tiktokcdn.com/musically-ma...</td>\n",
              "      <td>MT</td>\n",
              "      <td>NaN</td>\n",
              "      <td>NaN</td>\n",
              "      <td>NaN</td>\n",
              "      <td>NaN</td>\n",
              "    </tr>\n",
              "    <tr>\n",
              "      <th>2</th>\n",
              "      <td>6816942564911628294</td>\n",
              "      <td>We ain’t forgot that time he tricked us all in...</td>\n",
              "      <td>6816821384652557574</td>\n",
              "      <td>1587193131</td>\n",
              "      <td>249</td>\n",
              "      <td>1</td>\n",
              "      <td>briancarrion_</td>\n",
              "      <td>Briancarrion</td>\n",
              "      <td>False</td>\n",
              "      <td>en</td>\n",
              "      <td>Might make you cringe 🤷🏽‍♂️\\n🇻🇪</td>\n",
              "      <td>Verified account</td>\n",
              "      <td>2.165547e+06</td>\n",
              "      <td>MS4wLjABAAAAKH09hef-gLcTyrzYygfGHMazAhFaLMML7-...</td>\n",
              "      <td>https://p16-sign-sg.tiktokcdn.com/musically-ma...</td>\n",
              "      <td>US</td>\n",
              "      <td>brian.carrion_</td>\n",
              "      <td>NaN</td>\n",
              "      <td>NaN</td>\n",
              "      <td>NaN</td>\n",
              "    </tr>\n",
              "    <tr>\n",
              "      <th>3</th>\n",
              "      <td>6816824764519301125</td>\n",
              "      <td>get him a tesla</td>\n",
              "      <td>6816821384652557574</td>\n",
              "      <td>1587165700</td>\n",
              "      <td>4038</td>\n",
              "      <td>1</td>\n",
              "      <td>slumpgodkayy</td>\n",
              "      <td>kaykay the slumpgod</td>\n",
              "      <td>False</td>\n",
              "      <td>en</td>\n",
              "      <td>👻:@ kaykayyishere\\nfollow my instagram💖</td>\n",
              "      <td>NaN</td>\n",
              "      <td>6.586423e+18</td>\n",
              "      <td>MS4wLjABAAAAI1dyIIb3qlBf3LhqS3-OJITdYuc3OcWlsd...</td>\n",
              "      <td>https://p16-sign-sg.tiktokcdn.com/musically-ma...</td>\n",
              "      <td>US</td>\n",
              "      <td>kaylemraley</td>\n",
              "      <td>NaN</td>\n",
              "      <td>NaN</td>\n",
              "      <td>NaN</td>\n",
              "    </tr>\n",
              "    <tr>\n",
              "      <th>4</th>\n",
              "      <td>6816821633249001477</td>\n",
              "      <td>david ur so hung</td>\n",
              "      <td>6816821384652557574</td>\n",
              "      <td>1587164971</td>\n",
              "      <td>100</td>\n",
              "      <td>1</td>\n",
              "      <td>_4den</td>\n",
              "      <td>dad</td>\n",
              "      <td>False</td>\n",
              "      <td>en</td>\n",
              "      <td>x kinda fell off</td>\n",
              "      <td>NaN</td>\n",
              "      <td>6.740419e+18</td>\n",
              "      <td>MS4wLjABAAAAykXQ0pVI4w-y3kI1omvYzOH2xnJN0iP3lf...</td>\n",
              "      <td>https://p77-sign-sg.tiktokcdn.com/tos-maliva-a...</td>\n",
              "      <td>US</td>\n",
              "      <td>_4den</td>\n",
              "      <td>aden burgess</td>\n",
              "      <td>UCe3pSCjGls_hByctWn91rqw</td>\n",
              "      <td>NaN</td>\n",
              "    </tr>\n",
              "    <tr>\n",
              "      <th>...</th>\n",
              "      <td>...</td>\n",
              "      <td>...</td>\n",
              "      <td>...</td>\n",
              "      <td>...</td>\n",
              "      <td>...</td>\n",
              "      <td>...</td>\n",
              "      <td>...</td>\n",
              "      <td>...</td>\n",
              "      <td>...</td>\n",
              "      <td>...</td>\n",
              "      <td>...</td>\n",
              "      <td>...</td>\n",
              "      <td>...</td>\n",
              "      <td>...</td>\n",
              "      <td>...</td>\n",
              "      <td>...</td>\n",
              "      <td>...</td>\n",
              "      <td>...</td>\n",
              "      <td>...</td>\n",
              "      <td>...</td>\n",
              "    </tr>\n",
              "    <tr>\n",
              "      <th>19577</th>\n",
              "      <td>6869372244288782338</td>\n",
              "      <td>@fr0ggy55 DJDJDJDJDJ</td>\n",
              "      <td>6869090178212842758</td>\n",
              "      <td>1599400364</td>\n",
              "      <td>2</td>\n",
              "      <td>1</td>\n",
              "      <td>crustydustyt0enail</td>\n",
              "      <td>Imasexybitchsoshushyounonce🥰</td>\n",
              "      <td>False</td>\n",
              "      <td>en</td>\n",
              "      <td>57 children in my basement :)\\nI- stop escapin...</td>\n",
              "      <td>NaN</td>\n",
              "      <td>6.833807e+18</td>\n",
              "      <td>MS4wLjABAAAAKq7lq02nmtgyG2KWlofkrVDU6MZkzY-iWO...</td>\n",
              "      <td>https://p16-sign-va.tiktokcdn.com/tos-maliva-a...</td>\n",
              "      <td>GB</td>\n",
              "      <td>xyeshanx_</td>\n",
              "      <td>NaN</td>\n",
              "      <td>NaN</td>\n",
              "      <td>NaN</td>\n",
              "    </tr>\n",
              "    <tr>\n",
              "      <th>19578</th>\n",
              "      <td>6869371922795446277</td>\n",
              "      <td>@ht06_ IM CRYING</td>\n",
              "      <td>6869090178212842758</td>\n",
              "      <td>1599400300</td>\n",
              "      <td>2</td>\n",
              "      <td>1</td>\n",
              "      <td>lucia_cringe</td>\n",
              "      <td>Lucia</td>\n",
              "      <td>True</td>\n",
              "      <td>en</td>\n",
              "      <td>My vids r cringey</td>\n",
              "      <td>NaN</td>\n",
              "      <td>6.698640e+18</td>\n",
              "      <td>MS4wLjABAAAAWfRgLAsdFQfAgbD6NgC7Vc6WA4ErU0y7dk...</td>\n",
              "      <td>https://p16-sign-va.tiktokcdn.com/tos-maliva-a...</td>\n",
              "      <td>US</td>\n",
              "      <td>NaN</td>\n",
              "      <td>NaN</td>\n",
              "      <td>NaN</td>\n",
              "      <td>NaN</td>\n",
              "    </tr>\n",
              "    <tr>\n",
              "      <th>19579</th>\n",
              "      <td>6869371708362096645</td>\n",
              "      <td>@daphne.tindall @sass.ie</td>\n",
              "      <td>6869090178212842758</td>\n",
              "      <td>1599400259</td>\n",
              "      <td>2</td>\n",
              "      <td>1</td>\n",
              "      <td>amelieblackham</td>\n",
              "      <td>amelie</td>\n",
              "      <td>False</td>\n",
              "      <td>en</td>\n",
              "      <td>NaN</td>\n",
              "      <td>NaN</td>\n",
              "      <td>6.633127e+18</td>\n",
              "      <td>MS4wLjABAAAA1DFXcQz5fohHysqq_vQVRlXKC1SnCC8iLi...</td>\n",
              "      <td>https://p16-sign-va.tiktokcdn.com/musically-ma...</td>\n",
              "      <td>AU</td>\n",
              "      <td>ameliieblackham</td>\n",
              "      <td>NaN</td>\n",
              "      <td>NaN</td>\n",
              "      <td>NaN</td>\n",
              "    </tr>\n",
              "    <tr>\n",
              "      <th>19580</th>\n",
              "      <td>6869371694567931910</td>\n",
              "      <td>@stella._.m2901</td>\n",
              "      <td>6869090178212842758</td>\n",
              "      <td>1599400254</td>\n",
              "      <td>2</td>\n",
              "      <td>1</td>\n",
              "      <td>itsgabby.07</td>\n",
              "      <td>✨Gabby✨</td>\n",
              "      <td>True</td>\n",
              "      <td>en</td>\n",
              "      <td>Snap: gabby_marston\\nInsta: g4bby_m4rston\\nTik...</td>\n",
              "      <td>NaN</td>\n",
              "      <td>6.640912e+18</td>\n",
              "      <td>MS4wLjABAAAAqHYcjYzAIVu-IcHQFSIQBoyvyHRFVc9xIP...</td>\n",
              "      <td>https://p16-sign-va.tiktokcdn.com/musically-ma...</td>\n",
              "      <td>CA</td>\n",
              "      <td>NaN</td>\n",
              "      <td>NaN</td>\n",
              "      <td>NaN</td>\n",
              "      <td>NaN</td>\n",
              "    </tr>\n",
              "    <tr>\n",
              "      <th>19581</th>\n",
              "      <td>6869371542825369606</td>\n",
              "      <td>@barberjade</td>\n",
              "      <td>6869090178212842758</td>\n",
              "      <td>1599400218</td>\n",
              "      <td>2</td>\n",
              "      <td>1</td>\n",
              "      <td>sarahhust0n</td>\n",
              "      <td>Sarah</td>\n",
              "      <td>T</td>\n",
              "      <td>NaN</td>\n",
              "      <td>NaN</td>\n",
              "      <td>NaN</td>\n",
              "      <td>NaN</td>\n",
              "      <td>NaN</td>\n",
              "      <td>NaN</td>\n",
              "      <td>NaN</td>\n",
              "      <td>NaN</td>\n",
              "      <td>NaN</td>\n",
              "      <td>NaN</td>\n",
              "      <td>NaN</td>\n",
              "    </tr>\n",
              "  </tbody>\n",
              "</table>\n",
              "<p>19582 rows × 20 columns</p>\n",
              "</div>"
            ],
            "text/plain": [
              "                comment_id  ... author.twitter_id\n",
              "0      6816879848683438085  ...               NaN\n",
              "1      6816846992812015622  ...               NaN\n",
              "2      6816942564911628294  ...               NaN\n",
              "3      6816824764519301125  ...               NaN\n",
              "4      6816821633249001477  ...               NaN\n",
              "...                    ...  ...               ...\n",
              "19577  6869372244288782338  ...               NaN\n",
              "19578  6869371922795446277  ...               NaN\n",
              "19579  6869371708362096645  ...               NaN\n",
              "19580  6869371694567931910  ...               NaN\n",
              "19581  6869371542825369606  ...               NaN\n",
              "\n",
              "[19582 rows x 20 columns]"
            ]
          },
          "metadata": {
            "tags": []
          },
          "execution_count": 141
        }
      ]
    },
    {
      "cell_type": "markdown",
      "metadata": {
        "id": "WiGVyx_q-OQ-"
      },
      "source": [
        "**Change the column name and Drop the Duplicate data from the data Frame**\n",
        "\n",
        "\n",
        "\n",
        "1.   initlize the list and get the column name into the list\n",
        "2.   ussing loop **replace** and **rename** function use for accessing the column bcz with double . in the name we can't access the column name\n",
        "3. and lastly used **drop_duplicate** functionfor better result of data frame ad get it as **fd** final data\n",
        "\n"
      ]
    },
    {
      "cell_type": "code",
      "metadata": {
        "id": "yTSQrZjJcfqu"
      },
      "source": [
        "#changing the column name for the access bcz of double . in name i can't acccess the column name \n",
        "cn = []\n",
        "cn = df1.columns\n",
        "for i in range(len(cn)):\n",
        "  a=cn[i].replace('author.','')\n",
        "  df1.rename(columns = {cn[i]:a}, inplace = True)\n",
        "\n",
        "#here i am droping the duplicate date from the origional data set \n",
        "fd = pd.DataFrame.drop_duplicates(df1)\n"
      ],
      "execution_count": null,
      "outputs": []
    },
    {
      "cell_type": "markdown",
      "metadata": {
        "id": "dWoHoMUCiMa-"
      },
      "source": [
        "**here i got the first 100 rows of comments from text column**"
      ]
    },
    {
      "cell_type": "code",
      "metadata": {
        "id": "8_go3Cxjs17h",
        "colab": {
          "base_uri": "https://localhost:8080/"
        },
        "outputId": "7d02b506-0d03-4f20-ab47-a02b4f05c874"
      },
      "source": [
        "fd.text[0:100]\n"
      ],
      "execution_count": null,
      "outputs": [
        {
          "output_type": "execute_result",
          "data": {
            "text/plain": [
              "0     But are you giving him a Tesla? Because he des...\n",
              "1                 David was just hoping for some help 😢\n",
              "2     We ain’t forgot that time he tricked us all in...\n",
              "3                                       get him a tesla\n",
              "4                                      david ur so hung\n",
              "                            ...                        \n",
              "95    𝗗𝗮𝘆 𝟭 𝗼𝗳 𝘁𝗿𝘆𝗶𝗻𝗴 𝘁𝗼 𝗴𝗿𝗼𝘄 𝗺𝘆 𝗮𝗰𝗰𝗼𝘂𝗻𝘁 𝗳𝗿𝗼𝗺 𝘁𝗵𝗲 𝗰𝗼...\n",
              "96                                         @slim.jadeey\n",
              "97                                      GO FOR IT DAVID\n",
              "98                        Bring back the vlogs David ✊✊\n",
              "99                               Give the man his tesla\n",
              "Name: text, Length: 100, dtype: object"
            ]
          },
          "metadata": {
            "tags": []
          },
          "execution_count": 143
        }
      ]
    },
    {
      "cell_type": "markdown",
      "metadata": {
        "id": "SSjXEJVVTKrM"
      },
      "source": [
        "**Variable Initlization**\n",
        "Here is all the variable that we are going to use during our project"
      ]
    },
    {
      "cell_type": "code",
      "metadata": {
        "id": "WTONEVobjzlI"
      },
      "source": [
        "li1=[]\n",
        "final_list=[]\n",
        "change=[]\n",
        "textlist = []\n",
        "strr = \"\"\n",
        "counts = dict()\n",
        "countss = dict()\n",
        "bad_words = []"
      ],
      "execution_count": null,
      "outputs": []
    },
    {
      "cell_type": "markdown",
      "metadata": {
        "id": "ISP8GcoaidVU"
      },
      "source": [
        "**Writting into a text file**\n",
        "\n",
        "\n",
        "1.   open a string stream with open function\n",
        "2.   using loop to  write the  reding comments into a text file **Note** here i am using \\n function for next line every comment goes onto next line\n",
        "3.   at the end a close function with variable of file f stream to close the text file after writing\n",
        "\n"
      ]
    },
    {
      "cell_type": "code",
      "metadata": {
        "id": "SeZ0goF3biFp"
      },
      "source": [
        "f= open(\"/content/drive/MyDrive/project_data/comments.txt\",\"w\")\n",
        "\n",
        "for i in fd.text:\n",
        "  f.write(i+'\\n')\n",
        "\n",
        "f.close()\n"
      ],
      "execution_count": null,
      "outputs": []
    },
    {
      "cell_type": "markdown",
      "metadata": {
        "id": "6KXk0UgX_feH"
      },
      "source": [
        "**Getting the data of Comments**\n",
        "\n",
        "\n",
        "1.   using condition chechking the mode \n",
        "2.   get all the data in **text** cariable using **read()** function\n",
        "\n"
      ]
    },
    {
      "cell_type": "code",
      "metadata": {
        "id": "WRVJTvo7jWfY"
      },
      "source": [
        "page = open('/content/drive/MyDrive/project_data/comments.txt', 'r')\n",
        "if page.mode == 'r':\n",
        "  text = page.read()"
      ],
      "execution_count": null,
      "outputs": []
    },
    {
      "cell_type": "markdown",
      "metadata": {
        "id": "p1-ZAuoR_6sK"
      },
      "source": [
        "**Text to Words**\n",
        "\n",
        "\n",
        "1.   text used **split function** and convert text into single words\n",
        "2.   assign these words to a **text** list\n",
        "\n"
      ]
    },
    {
      "cell_type": "code",
      "metadata": {
        "id": "yDHKDvOtoJPN"
      },
      "source": [
        "# text change to list\n",
        "change = text.split()\n"
      ],
      "execution_count": null,
      "outputs": []
    },
    {
      "cell_type": "markdown",
      "metadata": {
        "id": "92mX7ZKtAsy5"
      },
      "source": [
        "**String litral and List**\n",
        "\n",
        "\n",
        "1.   here is a string literal and a list\n",
        "\n"
      ]
    },
    {
      "cell_type": "code",
      "metadata": {
        "id": "YEvdE3zIjcUz"
      },
      "source": [
        "#ambiguatios words  \n",
        "punctuations = '''!()-[]{};:'\"\\,<>./?@#$%^&*_~'''\n",
        "\n",
        "uninteresting_words = [\"Tesla?\",\"giving\",\"But\",\"the\", \"a\", \"to\", \"if\", \"is\", \"it\", \"of\", \"and\", \"or\", \"an\", \"as\", \"i\", \"me\", \"my\", \\\n",
        "    \"we\", \"our\", \"ours\", \"you\", \"your\", \"yours\", \"he\", \"she\", \"him\", \"his\", \"her\", \"hers\", \"its\", \"they\", \"them\", \\\n",
        "    \"their\", \"what\", \"which\", \"who\", \"whom\", \"this\", \"that\", \"am\", \"are\", \"was\", \"were\", \"be\", \"been\", \"being\", \\\n",
        "    \"have\", \"has\", \"had\", \"do\", \"does\", \"did\", \"but\", \"at\", \"by\", \"with\", \"from\", \"here\", \"when\", \"where\", \"how\", \\\n",
        "    \"all\", \"any\", \"both\", \"each\", \"few\", \"more\", \"some\", \"such\", \"no\", \"nor\", \"too\", \"very\", \"can\", \"will\", \"just\"]\n",
        "\n"
      ],
      "execution_count": null,
      "outputs": []
    },
    {
      "cell_type": "markdown",
      "metadata": {
        "id": "-hz55RzTA75N"
      },
      "source": [
        "**Convert string Literal to a List**\n",
        "\n",
        "\n",
        "1.   Using loop access string part one by one\n",
        "2.   getting the part of string and insert into a list\n",
        "\n"
      ]
    },
    {
      "cell_type": "code",
      "metadata": {
        "id": "jGH1hJLdnKhk",
        "colab": {
          "base_uri": "https://localhost:8080/"
        },
        "outputId": "daeb3df9-2e14-4285-93fc-7a4e37b0dfd2"
      },
      "source": [
        "# for the conversition of punctuations literal  string into list\n",
        "for i in range(len(punctuations)):\n",
        "    li1.insert(i,punctuations[i])\n",
        "\n",
        "li1"
      ],
      "execution_count": null,
      "outputs": [
        {
          "output_type": "execute_result",
          "data": {
            "text/plain": [
              "['!',\n",
              " '(',\n",
              " ')',\n",
              " '-',\n",
              " '[',\n",
              " ']',\n",
              " '{',\n",
              " '}',\n",
              " ';',\n",
              " ':',\n",
              " \"'\",\n",
              " '\"',\n",
              " '\\\\',\n",
              " ',',\n",
              " '<',\n",
              " '>',\n",
              " '.',\n",
              " '/',\n",
              " '?',\n",
              " '@',\n",
              " '#',\n",
              " '$',\n",
              " '%',\n",
              " '^',\n",
              " '&',\n",
              " '*',\n",
              " '_',\n",
              " '~']"
            ]
          },
          "metadata": {
            "tags": []
          },
          "execution_count": 149
        }
      ]
    },
    {
      "cell_type": "markdown",
      "metadata": {
        "id": "MeNmAP21Bhuz"
      },
      "source": [
        "**Getting a CSV file having Swear Words**\n",
        "\n",
        "\n",
        "1.   getting file using **Open function**\n",
        "2.   Checking fie mode using **Condition**\n",
        "3.   after reading assign all text to a variable swearWords\n",
        "4.   using **Split()** function change text into words\n"
      ]
    },
    {
      "cell_type": "code",
      "metadata": {
        "id": "VbhKB6a0m16A",
        "colab": {
          "base_uri": "https://localhost:8080/"
        },
        "outputId": "3175d4f4-92cf-41f3-aa8b-d3edfbdcc8b3"
      },
      "source": [
        "page = open('/content/drive/MyDrive/project_data/swearWords.csv', 'r')\n",
        "if page.mode == 'r':\n",
        "  swearWords = page.read()\n",
        "\n",
        "swearWords_list = swearWords.split()\n",
        "swearWords_list"
      ],
      "execution_count": null,
      "outputs": [
        {
          "output_type": "execute_result",
          "data": {
            "text/plain": [
              "['\\ufeffword',\n",
              " 'anal',\n",
              " 'anus',\n",
              " 'arse',\n",
              " 'ass',\n",
              " 'ballsack',\n",
              " 'balls',\n",
              " 'bastard',\n",
              " 'bitch',\n",
              " 'biatch',\n",
              " 'bloody',\n",
              " 'blowjob',\n",
              " 'blow',\n",
              " 'job',\n",
              " 'bollock',\n",
              " 'bollok',\n",
              " 'boner',\n",
              " 'boob',\n",
              " 'bugger',\n",
              " 'bum',\n",
              " 'butt',\n",
              " 'buttplug',\n",
              " 'clitoris',\n",
              " 'cock',\n",
              " 'coon',\n",
              " 'crap',\n",
              " 'cunt',\n",
              " 'damn',\n",
              " 'dick',\n",
              " 'dildo',\n",
              " 'dyke',\n",
              " 'fag',\n",
              " 'feck',\n",
              " 'fellate',\n",
              " 'fellatio',\n",
              " 'felching',\n",
              " 'fuck',\n",
              " 'f',\n",
              " 'u',\n",
              " 'c',\n",
              " 'k',\n",
              " 'fudgepacker',\n",
              " 'fudge',\n",
              " 'packer',\n",
              " 'flange',\n",
              " 'Goddamn',\n",
              " 'God',\n",
              " 'damn',\n",
              " 'hell',\n",
              " 'homo',\n",
              " 'jerk',\n",
              " 'jizz',\n",
              " 'knobend',\n",
              " 'knob',\n",
              " 'end',\n",
              " 'labia',\n",
              " 'lmao',\n",
              " 'lmfao',\n",
              " 'muff',\n",
              " 'nigger',\n",
              " 'nigga',\n",
              " 'omg',\n",
              " 'penis',\n",
              " 'piss',\n",
              " 'poop',\n",
              " 'prick',\n",
              " 'pube',\n",
              " 'pussy',\n",
              " 'queer',\n",
              " 'scrotum',\n",
              " 'sex',\n",
              " 'shit',\n",
              " 's',\n",
              " 'hit',\n",
              " 'sh1t',\n",
              " 'slut',\n",
              " 'smegma',\n",
              " 'spunk',\n",
              " 'tit',\n",
              " 'tosser',\n",
              " 'turd',\n",
              " 'twat',\n",
              " 'vagina',\n",
              " 'wank',\n",
              " 'whore',\n",
              " 'wtf']"
            ]
          },
          "metadata": {
            "tags": []
          },
          "execution_count": 150
        }
      ]
    },
    {
      "cell_type": "markdown",
      "metadata": {
        "id": "jipzELKNCOWN"
      },
      "source": [
        "**Merger of three lists**\n",
        "\n",
        "\n",
        "1.   converting all data into a list and finally set all list into a final list using **+** operator\n",
        "\n"
      ]
    },
    {
      "cell_type": "code",
      "metadata": {
        "id": "_3YTwmzlnmHo",
        "colab": {
          "base_uri": "https://localhost:8080/"
        },
        "outputId": "80718f10-aaf9-45a5-bdcc-f3bd4be652c4"
      },
      "source": [
        "# both  punctuations and uninteresting_words in a single list\n",
        "final_list=li1+uninteresting_words+swearWords_list\n",
        "final_list"
      ],
      "execution_count": null,
      "outputs": [
        {
          "output_type": "execute_result",
          "data": {
            "text/plain": [
              "['!',\n",
              " '(',\n",
              " ')',\n",
              " '-',\n",
              " '[',\n",
              " ']',\n",
              " '{',\n",
              " '}',\n",
              " ';',\n",
              " ':',\n",
              " \"'\",\n",
              " '\"',\n",
              " '\\\\',\n",
              " ',',\n",
              " '<',\n",
              " '>',\n",
              " '.',\n",
              " '/',\n",
              " '?',\n",
              " '@',\n",
              " '#',\n",
              " '$',\n",
              " '%',\n",
              " '^',\n",
              " '&',\n",
              " '*',\n",
              " '_',\n",
              " '~',\n",
              " 'Tesla?',\n",
              " 'giving',\n",
              " 'But',\n",
              " 'the',\n",
              " 'a',\n",
              " 'to',\n",
              " 'if',\n",
              " 'is',\n",
              " 'it',\n",
              " 'of',\n",
              " 'and',\n",
              " 'or',\n",
              " 'an',\n",
              " 'as',\n",
              " 'i',\n",
              " 'me',\n",
              " 'my',\n",
              " 'we',\n",
              " 'our',\n",
              " 'ours',\n",
              " 'you',\n",
              " 'your',\n",
              " 'yours',\n",
              " 'he',\n",
              " 'she',\n",
              " 'him',\n",
              " 'his',\n",
              " 'her',\n",
              " 'hers',\n",
              " 'its',\n",
              " 'they',\n",
              " 'them',\n",
              " 'their',\n",
              " 'what',\n",
              " 'which',\n",
              " 'who',\n",
              " 'whom',\n",
              " 'this',\n",
              " 'that',\n",
              " 'am',\n",
              " 'are',\n",
              " 'was',\n",
              " 'were',\n",
              " 'be',\n",
              " 'been',\n",
              " 'being',\n",
              " 'have',\n",
              " 'has',\n",
              " 'had',\n",
              " 'do',\n",
              " 'does',\n",
              " 'did',\n",
              " 'but',\n",
              " 'at',\n",
              " 'by',\n",
              " 'with',\n",
              " 'from',\n",
              " 'here',\n",
              " 'when',\n",
              " 'where',\n",
              " 'how',\n",
              " 'all',\n",
              " 'any',\n",
              " 'both',\n",
              " 'each',\n",
              " 'few',\n",
              " 'more',\n",
              " 'some',\n",
              " 'such',\n",
              " 'no',\n",
              " 'nor',\n",
              " 'too',\n",
              " 'very',\n",
              " 'can',\n",
              " 'will',\n",
              " 'just',\n",
              " '\\ufeffword',\n",
              " 'anal',\n",
              " 'anus',\n",
              " 'arse',\n",
              " 'ass',\n",
              " 'ballsack',\n",
              " 'balls',\n",
              " 'bastard',\n",
              " 'bitch',\n",
              " 'biatch',\n",
              " 'bloody',\n",
              " 'blowjob',\n",
              " 'blow',\n",
              " 'job',\n",
              " 'bollock',\n",
              " 'bollok',\n",
              " 'boner',\n",
              " 'boob',\n",
              " 'bugger',\n",
              " 'bum',\n",
              " 'butt',\n",
              " 'buttplug',\n",
              " 'clitoris',\n",
              " 'cock',\n",
              " 'coon',\n",
              " 'crap',\n",
              " 'cunt',\n",
              " 'damn',\n",
              " 'dick',\n",
              " 'dildo',\n",
              " 'dyke',\n",
              " 'fag',\n",
              " 'feck',\n",
              " 'fellate',\n",
              " 'fellatio',\n",
              " 'felching',\n",
              " 'fuck',\n",
              " 'f',\n",
              " 'u',\n",
              " 'c',\n",
              " 'k',\n",
              " 'fudgepacker',\n",
              " 'fudge',\n",
              " 'packer',\n",
              " 'flange',\n",
              " 'Goddamn',\n",
              " 'God',\n",
              " 'damn',\n",
              " 'hell',\n",
              " 'homo',\n",
              " 'jerk',\n",
              " 'jizz',\n",
              " 'knobend',\n",
              " 'knob',\n",
              " 'end',\n",
              " 'labia',\n",
              " 'lmao',\n",
              " 'lmfao',\n",
              " 'muff',\n",
              " 'nigger',\n",
              " 'nigga',\n",
              " 'omg',\n",
              " 'penis',\n",
              " 'piss',\n",
              " 'poop',\n",
              " 'prick',\n",
              " 'pube',\n",
              " 'pussy',\n",
              " 'queer',\n",
              " 'scrotum',\n",
              " 'sex',\n",
              " 'shit',\n",
              " 's',\n",
              " 'hit',\n",
              " 'sh1t',\n",
              " 'slut',\n",
              " 'smegma',\n",
              " 'spunk',\n",
              " 'tit',\n",
              " 'tosser',\n",
              " 'turd',\n",
              " 'twat',\n",
              " 'vagina',\n",
              " 'wank',\n",
              " 'whore',\n",
              " 'wtf']"
            ]
          },
          "metadata": {
            "tags": []
          },
          "execution_count": 151
        }
      ]
    },
    {
      "cell_type": "markdown",
      "metadata": {
        "id": "pMeh19G7C4SO"
      },
      "source": [
        "**Processing Final List and Change Text**\n",
        "*   Firstly using **Loop** getting all the element of change list and assigning to **i** \n",
        "*   after getting into **i** making condition\n",
        "*   if change in exist in final list then these words go into **bad_words** list\n",
        "*   if not exist then it goes into a **textlist**\n",
        "*   finally its printing the **bad_words** and **textlist** total length\n",
        "\n",
        "\n",
        "\n",
        "\n",
        "\n"
      ]
    },
    {
      "cell_type": "code",
      "metadata": {
        "id": "gPTNPcGAtkm1",
        "colab": {
          "base_uri": "https://localhost:8080/"
        },
        "outputId": "461d039f-da3e-41c9-91e7-4658e7f11adb"
      },
      "source": [
        "# check for the punctuation and unintresting words\n",
        "for i in  range(len(change)):\n",
        "    if change[i] in final_list:\n",
        "      bad_words.insert(i,change[i])\n",
        "    else:\n",
        "        textlist.insert(i,change[i])\n",
        "\n",
        "print(len(bad_words))\n",
        "print(len(textlist))"
      ],
      "execution_count": null,
      "outputs": [
        {
          "output_type": "stream",
          "text": [
            "3757\n",
            "14479\n"
          ],
          "name": "stdout"
        }
      ]
    },
    {
      "cell_type": "markdown",
      "metadata": {
        "id": "vGTRX7TUIAe7"
      },
      "source": [
        "**Frequency of Text**\n",
        "\n",
        "*   List item\n",
        "*   List item\n",
        "\n",
        "\n",
        "here i am using dictionary has value and key "
      ]
    },
    {
      "cell_type": "code",
      "metadata": {
        "colab": {
          "base_uri": "https://localhost:8080/"
        },
        "id": "jaUpbYxMuEQT",
        "outputId": "13f1a734-6431-485c-821b-2c406fcb56fa"
      },
      "source": [
        "# word frquency\n",
        "for i in textlist:\n",
        "    if i in counts:\n",
        "        counts[i] += 1\n",
        "    else:\n",
        "        counts[i] = 1\n",
        "print(counts)"
      ],
      "execution_count": null,
      "outputs": [
        {
          "output_type": "stream",
          "text": [
            "{'Because': 1, 'deserves': 32, '😜': 1, 'David': 97, 'hoping': 1, 'for': 66, 'help': 5, '😢': 1, 'We': 7, 'ain’t': 4, 'forgot': 1, 'time': 2, 'tricked': 1, 'us': 4, 'into': 5, 'thinking': 1, 'could': 13, 'win': 1, 'Tesla': 161, 'get': 179, 'tesla': 144, 'david': 46, 'ur': 18, 'so': 96, 'hung': 1, '@nahhnothingtoseehere': 1, 'it’s': 10, 'true,': 1, 'I’m': 65, 'imagine': 11, 'getting': 33, 'notification': 1, 'says': 11, 'dobrik': 12, 'duetted': 1, 'video': 23, 'give': 70, 'man': 50, 'Please': 2, 'come': 4, 'El': 1, 'Paso': 1, 'hype': 1, 'house': 2, 'Get': 18, 'tesla,': 1, \"won't\": 3, 'he?': 1, 'Oh': 13, 'goodness': 1, 'David!': 1, 'tesla???': 1, 'Best': 7, 'thing': 10, 'ever': 13, 'I': 300, 'hear': 2, 'need': 3, 'D’autres': 1, 'français': 1, 'Lmao': 21, 'got': 28, 'exposed': 1, 'bruhhhh': 1, '😂': 81, 'please': 21, 'zoom': 2, 'prom': 1, 'tomorrow': 2, 'He': 29, 'caught': 1, 'lacking': 1, 'Today’s': 1, 'sponsored': 1, 'seat': 1, 'geek.....': 1, 'Lol': 36, 'This': 44, 'two': 1, 'hours': 4, 'spend': 1, 'doing': 1, 'gone': 2, 'waste': 1, 'now😥': 1, 'LMFAOOOO': 8, 'IM': 63, 'LAUGHING': 4, 'SO': 12, 'HARD': 1, '@maximusrusso': 8, 'WEAK': 1, 'OH': 31, 'MY': 29, 'GOD': 15, 'Give': 53, 'Tesla!': 1, '@daviddobrik': 38, '￼': 6, 'trying': 16, 'out': 8, 'zone': 3, 'doe': 12, 'When': 16, 'see': 15, 'hasn’t': 2, 'commented': 10, 'yet': 4, 'always': 4, 'wonder': 2, 'seen': 6, 'surprised': 1, 'he’ll': 1, 'opens': 1, 'tiktok': 8, 'You': 20, 'gonna': 22, 'doe?': 8, 'If': 4, 'cute': 1, 'lil': 1, 'silver': 1, 'Acura': 1, 'driving': 1, 'around': 2, 'mine': 4, 'n': 2, 'someone': 6, 'stole': 1, 'last': 2, 'night': 1, 'yooooo': 1, 'DAVID': 20, 'MISS': 1, 'YOU': 10, 'PLEASE': 9, 'VLOG': 1, 'Ok': 22, 'one': 65, 'me!': 1, 'definitely': 4, 'best': 15, 'trend': 1, '@tylergoodmoore': 1, '@tim.northfield': 1, 'IS': 66, 'HE': 7, 'GETTING': 2, 'THE': 62, 'TESLA': 8, 'OR': 1, 'NAH': 1, 'investing': 1, '316,100': 1, 'where’s': 1, 'tho??': 1, 'hahahhah': 1, 'probably': 4, 'closest': 1, 'I’ve': 5, 'came': 5, 'over': 3, 'say': 8, '“hey”': 1, 'back': 8, 'weeing': 1, 'actual': 1, 'GOLD': 5, 'though?': 5, 'Keep': 1, 'Tesla.': 1, 'want': 19, 'assistant': 6, 'Can': 18, 'join': 1, 'class': 1, 'next': 5, 'tueaday': 1, 'don’t': 15, 'shy': 1, 'HAHAHA': 23, 'JUST': 6, 'SAW': 2, 'HIS': 2, 'VIDEO': 13, 'Imagine': 4, 'flipped': 4, 'off': 5, 'OMGGG': 1, 'DUETTED': 1, 'The': 26, 'fact': 13, 'continues': 1, 'watching😎': 1, 'mom': 12, 'said': 31, '1000': 1, 'dollars': 1, 'contribute': 1, 'she’ll': 1, 'new': 11, 'car': 5, 'pls': 16, 'FIRST': 2, 'LOL': 9, 'noticed': 1, 'Just': 4, 'admit': 1, 'together': 5, 'ahhaha': 1, 'x': 1, 'Are': 13, 'Yess': 1, 'thank': 1, 'god': 12, 'saw': 8, 'speaking': 2, 'facts': 6, '\\U0001f92d': 2, 'В': 1, 'реках': 1, 'американцы': 1, '🗿🗿🗿🗿': 1, 'like': 79, 'mean': 11, 'messed': 1, 'up': 11, 'mind': 1, 'well': 12, 'didn’t': 15, 'tell': 10, 'tho': 31, 'oop': 1, 'Actually': 1, 'lowkey': 6, 'tried': 3, 'gotta': 9, 'buy': 26, 'now': 28, 'copies': 2, 'mrbeast': 2, 'money': 1, 'videos': 16, 'Okay': 3, 'kinda': 7, 'to😂': 1, 'david.': 1, 'anything': 2, 'ask': 3, 'FREE.': 1, 'make': 4, 'assistant.': 1, 'Why': 30, 'can’t': 17, 'happen': 9, 'me,': 1, 'except': 1, 'wanna': 6, 'meet': 1, 'that’s': 4, 'run': 1, 'modern': 1, 'warfare': 1, 'wit': 1, 'I’d': 1, 'step': 1, 'on': 71, 'lego': 1, 'clip': 1, 'vlog...anything': 1, 'vlog': 3, 'really': 27, 'wanting': 6, 'Natalie': 16, 'though': 6, 'So': 33, 'mans': 1, 'Dont': 1, 'look': 13, 'name': 6, 'tesla😔': 1, '😳😳ma': 1, 'face': 10, 'coz': 1, 'early': 33, 'liked': 4, 'before': 10, '100': 5, 'likes': 25, 'vid': 9, 'ok': 10, '@brooke.leffler': 1, 'hard': 6, 'work': 5, '\\U0001f97a': 16, 'HAHAH': 7, 'tho?😳': 1, 'Fax': 1, 'printer': 1, '🖨': 1, 'LMFAOAOAO': 1, 'KM': 1, 'CRYING': 7, 'know': 17, 'gets': 12, 'Does': 10, 'respond': 15, 'people': 19, 'birthdays?': 1, '😊': 4, 'guy': 9, 'wants!!!': 1, 'it!!!': 1, 'LMAOOOO': 20, 'lie': 5, 'okay': 3, 'tesla?...': 1, 'stayed': 3, 'watch': 5, 'vid....🙃': 1, '𝗗𝗮𝘆': 1, '𝟭': 1, '𝗼𝗳': 1, '𝘁𝗿𝘆𝗶𝗻𝗴': 1, '𝘁𝗼': 1, '𝗴𝗿𝗼𝘄': 1, '𝗺𝘆': 1, '𝗮𝗰𝗰𝗼𝘂𝗻𝘁': 1, '𝗳𝗿𝗼𝗺': 1, '𝘁𝗵𝗲': 1, '𝗰𝗼𝗺𝗺𝗲𝗻𝘁𝘀': 1, '🦋✨\\U0001f97a.': 1, '@slim.jadeey': 1, 'GO': 5, 'FOR': 2, 'IT': 7, 'Bring': 1, 'vlogs': 8, '✊✊': 1, 'good': 44, 'in': 35, 'dream': 1, '#pov': 1, 'looking': 7, 'HES': 1, 'LUCKY': 1, 'WHATT': 1, 'Let': 1, 'too😂': 2, 'yes': 1, 'Is': 12, 'tho?': 9, 'brutha': 1, 'recent': 5, 'itttt': 1, 'She’s': 1, 'assistant?': 2, 'bet': 6, 'won’t': 9, \"let's\": 1, 'honest': 1, 'invested': 1, 'Sliiiiiick': 1, 'af': 1, 'GIVE': 2, 'HIM': 5, 'Who’s': 2, 'Hahah': 1, 'YESSSS': 1, 'coming': 2, 'UP': 5, '🏎': 1, 'gon': 5, 'nah': 5, '😳': 43, '??': 5, 'oh': 11, 'wow': 1, 'should': 15, 'actually': 21, 'tho👀': 6, 'NOWW': 1, 'Hahaha': 9, 'HAHAHHAA': 2, 'FACT': 1, 'THAT': 28, 'HAS': 2, 'ME': 3, 'DEAD': 13, '„ayran': 1, 'mit': 1, 'köftespieß': 1, '„': 1, 'he’s': 4, 'not': 47, 'lying': 4, 'HAHAHAHHA': 1, 'Nah': 1, 'bc': 1, 'means': 4, 'needs': 5, 'content': 6, 'again': 2, 'Er': 1, 'hätte': 1, 'ja': 1, 'maddison': 1, 'haben': 1, 'können': 1, '😂😂': 53, 'Lmaooo': 5, 'sees': 1, 'koala': 1, 'we’re': 1, 'going': 6, 'after': 6, 'him!': 1, '🐨': 1, 'lmaooo': 3, 'Investing': 1, '11': 5, 'screaming': 3, 'HAHAA': 1, 'makes': 1, 'happy': 1, '@rolishop：Как': 1, 'выйти': 1, 'из': 1, 'френд': 1, 'зоны': 1, 'с': 1, 'помощь': 1, 'помощника.': 1, '(Ассистент).': 1, 'Теперь,': 1, 'когда': 1, '..': 1, 'здесь.': 1, 'Могу': 1, 'ли': 1, 'я': 1, 'получить': 1, 'Теслу': 1, 'Hahahaha': 5, 'great': 1, 'find': 3, 'lmk': 1, '@mitchellhaightt': 2, 'response': 1, 'talented': 1, 'HAHAHAHAH': 8, 'Genius': 1, 'bf,': 1, 'gf,': 1, 'etc.': 1, 'go': 9, 'link': 1, 'bio': 8, 'put': 1, 'app': 4, 'I’ll': 6, 'match': 1, 'who’s': 4, 'similar😚✌🏼': 1, \"I'm\": 9, 'only': 12, \"didn't\": 1, '🙄': 1, 'WHO': 1, 'SHIPS': 1, 'THEM': 1, 'TOGETHER': 1, '-----)': 1, 'U': 21, '😂😂😂': 40, 'like,': 1, 'tho...is': 1, 'table?': 1, 'HAD': 1, 'A': 18, 'DREAM': 1, 'LAST': 4, 'NIGHT': 1, 'WE': 1, 'BECAME': 1, 'FRIENDS': 1, 'AND': 3, 'BEGGED': 1, 'TELL': 2, 'ABOUT': 2, 'NATS': 1, 'RELATIONSHIP': 1, 'LMAO': 39, 'IDK': 2, 'WEIRD': 1, 'hi': 10, '!!!!': 1, 'pretty': 3, 'clever': 2, 'near': 1, 'girl': 4, 'bro': 8, 'think': 19, 'won': 1, 'tesla🤝': 1, 'tesla!!!!!!': 1, 'hope': 1, 'Hahahahah': 1, 'challenge': 1, 'you!!!': 1, 'Eat': 1, 'Buddy': 1, 'elf’s': 1, 'breakfast': 1, 'ate!!': 1, 'duet': 6, 'wait': 12, '@nimo2900': 1, 'playe': 1, 'way': 3, 'stuck': 1, 'you’ve': 1, 'made': 6, 'hole': 1, 'whenever': 1, 'bored.': 1, 'Zane': 1, 'Matt': 1, 'me.': 1, 'date😤.': 1, 'LMAOAOAOAOAOA': 1, 'exact': 1, 'copy': 8, 'tesla?': 17, 'isn’t': 1, 'true': 4, 'why': 28, 'offended???': 1, '\\U0001f928\\U0001f928': 1, 'wanted': 1, 'He’s': 1, 'sure': 1, 'aight': 1, 'AHAHHHAHAHA': 1, 'HAHHAHAHAHHA': 1, 'soo': 1, 'answer': 12, 'question?': 1, 'GE': 1, 'MADE': 1, 'HAHAHAHAA': 5, '....': 5, \"that's\": 1, 'amazing': 6, 'Lmfao': 5, '@julia_pea': 1, 'wins': 4, 'everything': 5, 'Where': 5, 'delivered': 1, 'quarantine': 1, 'orr': 1, '???': 1, 'about': 21, 'watch!': 1, 'Early': 2, 'there': 16, 'funny': 33, 'comment-': 1, 'LOVE': 21, 'OMFG': 2, 'Me': 5, 'comments:': 3, '*Where': 1, 'those': 4, 'celebrity’s': 1, '👁': 5, '👄': 4, '👁*': 1, 'i’m': 16, 'scientist': 1, '8': 1, 'guys': 7, 'first': 18, 'HAHAHAHAHAH': 2, 'testla': 1, 'comment': 54, '0': 1, 'PLZ': 1, 'GET': 2, 'owe': 5, 'IMAGINE': 4, 'DUETED': 1, 'BY': 1, 'DOBRIK': 1, 'CHARLI': 1, 'ADDISONS': 1, 'OUTFITS': 1, 'POSTED': 1, 'HERE‼️': 1, 'mustve': 1, 'fyp': 19, 'feel': 2, 'cause': 1, 'secret': 1, '😂😉': 1, 'listen': 1, 'yesssss': 1, '😤': 1, 'iphone': 1, 'even': 5, '💀': 17, 'Soooo': 2, 'Tesla??': 4, 'Want': 2, 'other’s': 1, 'page': 1, 'tik': 17, 'tok': 13, 'everyone': 9, 'tagging': 1, '\\U0001f97a\\U0001f97a\\U0001f97a': 1, 'caption': 1, '😎faxxx': 1, 'AHAHAHAH': 2, 'life': 1, 'What’s': 1, 'love': 27, 'kid': 5, 'BEST': 19, 'chance': 1, 'one😂': 5, 'jul': 1, 'Better': 1, 'That': 5, 'else': 9, '🤣🤣': 7, 'Good': 1, 'nights': 1, '...': 2, 'haven’t': 5, 'uploaded': 1, '\\U0001f97a?': 1, 'sese': 1, 'basın': 1, 'dediler': 1, 'bastik': 1, 'toddy': 1, '@bayanj24': 1, 'relatable': 1, 'HAHAHAHAHAHA': 1, 'far': 4, 'Buy': 8, 'gotta😂😂help': 1, 'em': 8, 'Wait': 16, 'not?': 1, 'stay': 2, 'Did': 9, 'REALLY': 1, 'DID': 7, 'AGHAHA': 1, 'TIKTOK': 16, 'EVEEEERRR😂❤️': 1, 'respect': 1, 'thought': 12, 'dating': 20, 'Liza': 1, 'koshi': 1, 'tho????': 1, 'send': 1, 'tesla-': 1, 'Dang': 8, 'lucky': 1, 'enough': 1, 'Dobrik': 1, 'That’s': 1, 'laughed': 1, 'also': 2, 'Hey': 11, 'Don’t': 2, 'shy,': 1, 'crushing': 1, 'natalie': 2, 'comedy': 1, '@livinasliv': 1, 'LMAOOO': 18, 'lol': 24, 'better': 9, 'Sooooo': 1, 'done': 5, 'Hello': 4, 'commenting': 4, 'bunch': 1, 'verified': 30, 'tiktokers': 7, 'posts': 1, 'reply.': 1, 'It': 5, 'would': 7, 'CRAZY': 1, 'replied.': 1, 'SCREAMING': 1, 'wedding': 1, 'ring': 10, 'finger???': 1, 'what?': 1, 'minute': 3, 'ILYA': 1, 'FELL': 1, 'IN': 9, 'WITH': 1, 'LMFAO': 16, 'Where’s': 1, 'favourite': 2, 'person': 4, 'dead': 10, 'AHA': 1, 'OMG': 72, 'Omg': 24, 'legend': 1, 'THIS': 67, 'TOO': 4, 'FUNNY': 18, '🤣🤣☠️☠️': 1, 'TRUE': 1, 'THOUGHHH': 1, 'yes?': 4, 'NAHH': 1, 'CANT': 25, 'BREATHE': 4, 'AHAHAH': 1, 'Start': 1, 'already': 6, 'me?': 1, '🤔': 9, 'tag': 4, '(sarcasm)': 1, 'Todd': 4, 'punching': 4, 'air': 1, 'rn😂😂😂': 1, 'Tutorial': 1, 'take': 9, 'someones': 1, 'PURE': 1, 'GOLD😂😂': 1, 'Deaddddd': 1, 'What': 1, 'HAAHH': 1, '@paytonnmackay': 1, 'LMFAOOO': 6, 'wishing': 4, 'nat': 1, 'YOO': 1, 'upload': 1, 'fly': 1, 'Lmaoo': 1, 'Gold': 1, 'Like': 9, 'HILARIOUS': 2, 'KING': 1, 'HAHAHAHA': 12, 'OWE': 1, 'HAHHA': 2, '￼￼hashahhshahshah': 1, 'Too': 4, 'hahah': 4, 'CAR': 1, 'Man': 1, 'joked': 1, 'interested': 1, 'tho🤣': 1, '\\U0001f97a👉👈': 1, 'honor': 1, 'Dead': 1, 'first!!!!!': 1, 'LMFAOOOOOOOO': 4, 'too😔': 1, 'post': 4, 'VIDOE': 1, 'watching': 14, 'toks': 5, 'vids': 2, 'rn': 2, 'most': 8, 'LMAOO': 4, 'HAHSGSHDHAGAH': 1, '1': 13, 'wants': 4, 'Tesla,': 4, 'fair': 1, 'play': 5, '👏🏽😂': 1, 'ship': 1, '@sanane716': 1, 'ik': 1, 'zweer': 1, 'iconic': 2, 'still': 4, 'confused': 1, 'many': 12, 'baddies': 1, 'never': 13, 'factssss': 1, 'im': 15, 'worked': 1, 'HAHAHAHAHA': 10, 'LmaoooOO': 1, 'Funny!🤣🤣😭': 1, '@whyurcoochsmell': 1, 'Hi': 34, '😂😂😂😂😂😂😂😂😂': 5, 'Hahahahaha': 2, 'hahahahahahahahahahahahahahahahahahahahahahahahahahahahahahahahahahahahaha': 1, '@r.roxi': 1, '@yuna.bella': 1, 'hops': 1, 'genommen': 1, \"don't\": 6, 'addison': 13, 'ya': 1, '54': 1, 'seconds': 4, 'ago': 10, 'use': 4, 'catfishing': 1, 'celebrities': 1, 'W': 1, 'ICONIC': 4, 'JAJAJAJAJA': 1, '\"iRi': 1, 'I3il4NG': 1, 'B0$$\"': 1, 'Got': 1, 'JAJAJAJAJAJAJA': 3, 'HI': 8, 'Ye': 2, 'Melody': 2, 'itni': 2, 'Chocolaty': 2, 'Q': 2, 'Hai...????.': 2, 'My': 16, '@ktreehughes': 4, '@sofiaxvillegas': 4, 'perioddd': 4, 'يحقق': 2, 'الاماني@_pmx': 2, 'Cod': 3, 'cod': 6, 'Do': 4, 'fortnite?': 4, '@ferdyland': 3, 'played': 3, '18000th': 3, '@amandz2212': 4, '@claireokamoto_': 3, '@rissross639': 4, '@flinn_14': 3, 'Hahahahahahahaha!!!!!': 3, '@delinnnaaaaaaaaaaaa': 3, '@clarokis': 3, 'um': 8, 'comments': 27, 'glitching': 4, 'think.': 4, 'right.': 4, 'There’s': 4, '68': 4, 'comments?😶': 4, 'relized': 2, 'robins': 2, 'voice-': 2, \"What's\": 7, 'understand?': 3, '#makeJesustrend': 3, '❤️': 4, 'pink': 4, 'Chevy': 4, 'Cruze': 4, 'realized': 3, 'posted': 7, 'b': 3, 'day': 7, 'VENMO': 3, 'ME!!!!': 3, 'Venmo:': 3, '@EmmaClark243': 3, '：This': 3, 'robin': 3, 'stranger': 6, 'things': 6, 'audio': 3, 'Now': 7, 'hes': 6, 'away': 3, 'lets': 6, '#davidstesla': 3, '@jeniyami1': 4, 'Someone': 7, 'told': 8, 'secretly': 4, 'older': 7, 'videos?': 4, '✨ooOOOoOOH': 4, 'GOooOOON✨..': 4, 'HAHAHAHAHAHAHAAHAHHA': 2, 'Meh': 4, 'something': 10, 'Y’all': 3, 'Oscar': 3, 'How': 15, 'ge': 4, 'Tesla?!?': 4, '2': 8, 'mins': 8, '@toddysmith': 3, 'air..': 3, 'natalina': 3, 'GOSH': 3, 'EARLY': 3, 'respond??': 3, 'bob': 3, 'Make': 3, 'CEO': 3, 'reply': 28, '👁👄👁': 11, 'BAHAHAHAH': 4, 'GOTTEM': 3, 'firsts': 3, 'MINUTS': 4, '🎂🎂for': 3, 'reason': 3, 'w': 3, 'emoji': 3, 'famous': 5, '55': 4, 'SECONDS': 4, 'i’ve': 3, 'First': 5, 'right': 6, '🤔❤️ILYSM': 4, 'profile': 3, 'pic': 3, 'text': 3, 'Ironman': 4, 'wife': 5, 'used': 4, '*Proceeds': 3, 'intro': 3, 'music*': 3, 'Me:': 3, 'guess': 3, 'now,': 3, 'earned': 3, 'million': 7, '3': 8, '?!?!?!?!': 3, '@showmyasslikeastankhoe': 3, '@izzyisawesome2007': 3, '@ari_2021': 3, 'Okay.': 3, '@roridebruge': 3, '@emilylucchetta': 3, 'die': 3, 'omfg': 4, 'haha': 8, '@swoleberry_': 4, 'Tesla...': 4, 'HAHA': 13, 'Needed': 4, 'Dropped': 4, '👑': 10, 'SHIP': 6, 'bahah': 3, 'Gimme': 7, 'Pretend': 3, 'bro,': 3, 'sad': 3, 'there.': 3, 'cuz': 3, 'David’s': 10, 'taking': 3, 'lessons': 3, 'HAHHAH': 3, 'Ha': 3, 'aren’t': 3, 'asking': 9, 'because': 13, 'nice!': 3, '“it': 3, 'saves': 3, 'world”': 3, 'promise': 3, 'People': 2, 'eat': 2, 'bats🤡🤡🤡🤡': 2, 'Facts': 3, 'bruh😂😂😂': 3, 'Will': 3, 'All': 7, 'these': 17, '➡️': 3, 'IDOL': 3, '❤️❤️❤️❤️😂😂😂': 3, 'y’all': 7, 'friend': 6, '🤡': 4, 'bored': 4, 'wheres': 3, 'WWOOOWWW': 3, 'Mr': 4, 'adopt': 4, 'min': 11, 'father': 2, 'it?': 6, 'track?': 4, 'what’s': 6, 'answe': 3, 'Ooh': 3, 'L': 3, 'car!!!!!': 3, 'video[thinking][thinking][thinking][thinking]': 3, 'HahahahahahahahahahahhHahHhHhHhH': 4, 'shorturl.at/apORW': 3, 'Hhffhg': 4, 'For': 6, 'real': 7, 'ahahahahahaha': 7, 'ich': 6, 'sterbe😂😂😂😂😂😂😂': 3, 'sir': 3, 'y': 3, 'finger': 6, 'smooth': 3, 'Bruhhh😂😂😂': 3, 'Niceeeeee': 4, 'Look': 3, 'song': 3, '🤣🤣￼': 3, 'Brooo': 2, 'date': 2, 'Maddison!!!': 2, 'Pls': 3, 'notice': 3, '“NATALIE,': 3, 'ORDER': 3, 'TESLA”': 3, '😂😂😂😂': 27, 'rip': 3, '@jadawelin': 3, 'Shots': 3, 'XD': 10, '🔫🔫🔫': 3, 'Nice': 3, 'pillow': 3, 'And': 3, 'ROAEDSTER': 3, 'PLSSSSS': 3, 'replied': 3, 'charlidamelio': 3, '😳😳😳': 4, 'Loki': 4, 'then': 8, 'Tesla\\U0001f928\\U0001f9d0': 3, 'sound': 13, 'Robin': 3, '😌': 3, 'delete': 3, 'Very': 3, 'Haha': 7, 'tick': 3, 'Wat': 3, 'kaka': 3, 'Or': 3, 'other': 3, '@that.bitch.britt': 3, 'usually': 5, 'that..': 4, 'do?': 3, '😂😂😂😂😂': 22, 'number': 4, '87': 4, 'looks': 8, 'phineasss': 4, 'charli': 3, 'tok!': 3, 'smart': 3, '🤣🤣🤣🤣🤣': 6, 'iPhone': 3, 'Tesla\\U0001f929': 4, 'sooo': 3, 'WHAT': 33, 'SONG🔥🔥🔥🔥': 3, '🤣give': 4, 'Tehehehehe': 2, 'kann': 3, 'mir': 2, 'einer': 2, 'den': 2, 'erklären': 2, '@maxwinters99': 3, 'roshan': 3, 'Watch': 7, 'tiktoks': 4, 'Classic': 4, 'AHH': 2, 'EARLYY': 2, 'married': 4, 'There': 3, \"can't\": 3, '60+': 2, '\"first\"': 2, 'WAS': 15, 'READY': 4, 'ILY': 3, 'well....': 4, '👀': 9, 'early\\U0001f973': 4, 'Not': 3, '😞': 6, 'NEEDED': 3, 'loml': 4, 'POV:': 4, 'miss': 4, 'scrolling': 4, 'through': 4, 'answering': 3, 'DESERVES': 3, 'Knowing': 2, \"he'll\": 2, 'him.': 2, 'plzz': 4, 'hun': 4, \"he's\": 1, 'zone,': 1, 'him😭': 1, '4': 6, '14h': 3, 'ago😳': 3, 'bruh😂😩': 3, 'GOTTA': 4, 'Jim': 4, 'energy': 4, 'HOW': 6, 'DO': 8, 'PEOPLE': 3, 'EDIT': 3, 'PLS': 3, 'respond?': 3, 'IF': 3, 'DONT': 3, 'THEM:🤡🤡': 3, '(friends': 3, 'style)': 3, 'hoodie': 3, 'Who': 10, \"they're\": 3, 'dating.': 3, 'username': 4, 'truth': 4, 'Anyone': 6, 'dobrick': 2, 'HAH': 3, 'Tesla!!!': 4, 'dead!!': 3, 'TikTok': 9, 'seen!!': 3, 'so...when': 3, '@heythereimgaia': 4, 'Soooooo': 4, 'wearing': 3, 'left': 6, 'hand': 3, 'tho?...': 3, 'THEY': 3, 'GOT': 4, 'MARRIED': 3, 'SECRET': 3, 'coming????': 3, '✊🏽': 3, 'пояснительная': 3, 'бригада,': 3, 'вы': 3, 'где????': 3, 'you’re': 9, 'telling': 6, 'NOT': 15, 'NSAKSISHEH': 2, 'LMFAOOOOO': 8, '@myka.fluty': 3, 'Lets': 3, 'talk': 7, 'hecka': 3, 'smiled': 3, '@toxickenny4597': 4, 'bruh': 6, 'boy': 3, '👏🏾😂': 4, 'youuuuu': 2, '@eden_stander': 3, 'surprise': 3, '🤣': 10, 'HAGAHAGA': 3, 'strongly': 3, 'disagree': 3, '🤦🏽\\u200d♂️leave': 3, 'broskii’s': 3, 'alone😅': 3, 'Crying': 4, '@connormccarthy111': 3, '@catelanglois.22': 3, '@emily..dw': 3, '@öłîvįå': 3, '@sydneyh460': 3, 'POST': 3, 'ON': 8, 'FREAKING': 3, 'YOUTUVE': 3, 'ITS': 5, 'BEEN': 4, 'MONTH': 3, '\\U0001f97a\\U0001f97a\\U0001f97a\\U0001f97a\\U0001f97a': 3, 'question': 3, 'tesla???🤔': 3, 'AGAHAHHAHA': 3, 'finger👀': 3, 'uncle': 4, 'David,': 4, 'prove': 4, '@enriquesori_': 4, 'wrong!': 4, '❤️.': 4, 'newest': 4, '.❤️.': 4, 'geeking': 3, 'Damn': 3, 'PLEASEEEE': 4, 'lmfaoooo': 4, '100k': 3, 'Sneaky!!!': 4, 'dude': 3, 'than': 3, 'YESSS': 6, 'while': 3, 'Quality': 4, 'earlyyyy': 4, 'dropped': 6, 'spitting': 4, 'tube': 4, 'waiting': 4, 'video\\U0001f97a\\U0001f97a': 4, 'AHAHAHHAHAHAHAHAHAHHAHAHAHAHAHAHAHAHAHAHAHHAHAHAHAHAHAHAHA': 3, 'phone': 3, 'blushing': 3, 'towards': 3, 'clean': 4, 'gaga': 4, 'dueting': 4, 'acctually': 3, 'quite': 3, 'heard': 26, 'doesnt': 3, 'anymore': 3, 'one?': 4, 'nice': 4, 'Bruh': 4, '14k': 4, '💯💯💯': 4, 'Lmaoooooo': 2, 'amendments': 4, 'ima': 4, 'dog': 5, 'read': 4, 'food': 4, 'Dave': 4, 'Hiiiiiiiii❤️': 3, 'JSHSHSHSJXJD': 3, 'capping': 3, 'Ilysm': 3, 'ahahaha': 3, 'original': 3, 'mad': 3, 'advice': 6, 'lookin': 3, 'Remember': 3, '-17': 3, 'golden': 3, 'birthday': 4, 'watched': 4, 'it....': 3, 'heRe': 4, 'beForE': 4, 'tHis': 4, 'bLows': 4, 'Up': 4, '😅😅😅': 5, 'Ik': 6, 'cant': 3, 'atleast': 3, 'wrong,': 4, 'mean..': 4, 'great!😂': 3, 'GOOD': 3, 'him!!!!!!!!!!!': 3, 'So,': 3, 'travica': 3, 'having': 3, 'spinal': 3, 'surgery': 3, 'summer': 3, 'wondering': 3, 'record': 3, 'luck.': 3, '💗\\U0001f97a': 3, '@the.tofuu': 3, 'okkk': 2, 'HAHAHSHAHAHHA': 3, 'Hi!': 3, 'reminder': 3, 'smile': 3, 'today': 3, 'so...': 3, 'It’s': 3, 'LMAOOOOO': 15, 'wreckeddd': 3, 'HAHHAHA': 3, '@cms.samk7': 3, 'me:': 4, 'Liked': 4, 'Creator': 4, 'let’s': 3, 'fr': 3, 'ligit': 3, 'wow...': 3, 'poppin': 3, '3)': 3, 'Tesla—>': 3, 'ago!!!❤️❤️❤️♥️😭😭': 3, 'exposing': 3, 'HAHAHAH': 9, 'ago!': 3, 'well.....': 4, 'reapond': 3, 'ZOOM': 2, 'realize': 3, 'top': 4, 'comment✌🏼': 3, '@oliviaaaaa42': 1, '@pinkgogojuice': 1, 'idk': 1, 'wby': 1, 'me😭': 1, '@mimit.aksha': 1, '@samanthaaamarieeee': 1, '@genesiss_1': 1, '@jaelynneys': 1, 'Alguein': 1, 'traduce': 1, ':(?': 1, '@oliviaaa879': 1, '@bluesagoodcolor': 1, 'CANT.': 1, 'WHY': 6, 'TO': 7, '@zzzoelea': 1, '@hea.ther69': 1, 'omg🙄': 1, 'leave': 4, 'alone': 1, 'boomer': 1, '@.simplyyjazx': 1, 'CANTTTT': 1, 'tea': 1, 'kettle': 1, 'went😂': 1, '@paulaspamsss': 1, '@lazy.duo': 1, '@pain_zz': 1, '@..heidir': 1, '@heididylangrazer': 1, 'BAHAHAH': 4, 'YES': 1, 'bed': 2, 'sheri😳': 1, 'SHERI': 32, 'LANAKAOOAAOOA': 1, '@_carlisle__': 1, '@montyjlopez': 17, 'Your': 1, 'drowning': 1, 'keep': 8, '🐕': 1, '!!!!!!!!': 1, '@uhhh._.carly': 1, '@mggwhore': 1, '@tay2186': 1, '🌚': 1, 'HAGAFWGWHWHHE': 1, '@kyli3nicole': 1, '💀💀💀': 7, '@gavin_dober': 1, 'AMAZING': 1, 'dying': 4, '@callmetracer': 1, '@dary_sofi_': 1, '@daniel_marzec': 1, \"Addison's\": 1, '@__jordan__1414': 1, 'DEADSDDHDGEUSHGS': 1, 'Kl@kierra______': 1, 'Monty': 16, 'like:': 4, '👁💧👄💧👁': 7, '@@daijawittek': 1, '@certified.foreigner': 1, 'CRYINNNNN': 1, 'expect': 11, '@lizzy_586': 1, '@barnacleboyman': 1, 'Hahahahahaha😂😂😂😂😂😂': 1, '@_lena.rch_': 1, 'HAAHAHAHHAHAHAHHAHAHAHAAHHAHAHAHAHAHAHAHAHAHAHAHHA': 1, '@therealradiorebel___': 1, '@_.angiefranke': 1, '@annie_belle3': 1, '@jiyaaa_x': 1, '@josefa.talavera': 1, '@katie_your_babie': 1, '@parkerhenrotin5': 1, '@xlilaroberts': 1, 'LAMO😂😂😂😭': 1, '@emily.hie123': 1, '@._mariah_.aqween': 1, '@k11.xkourtney91011': 1, '@4kratt': 1, '😭😭': 8, '@nina.sade': 1, 'LmAOooooooooo': 1, '@sara.paul': 1, 'hahahah': 4, '@__celine__52': 1, '😂ich': 1, 'checks': 1, 'nicht': 2, '@madiyahadrees': 1, '@avaasuckslol': 1, '@sherinicolee': 5, 'favorite': 8, 'person😂': 1, '@_garrythesnail_': 1, '@coquinebeland': 1, 'OOPS!': 1, 'Oop': 1, '@dumblondeeeeee': 1, 'cheating': 1, 'portman😾': 1, 'AHHHDHSYFYD': 1, 'WASNT': 1, 'EXPECTING': 4, '💀😂😂😂😂': 1, '@ssimpforrodrickk': 1, '@_h.a.y.l.e.e': 1, '@sarahsmiles_9': 1, 'dint': 1, 'Addison': 52, 'savage': 1, '@emily_foy': 1, 'LMAAOOOOO': 1, 'Okey': 1, 'full': 1, 'valume': 1, 'I-😬': 1, 'have🔵✔': 1, '@isobel_twist': 1, ':/': 1, 'SHERIN': 1, 'ICOLE': 1, '😂😂😂😂😂😂😂😂': 6, '@laylaclayson0': 1, '@lay_laybuggie': 1, '@stankimjonghyun': 1, '😳😳￼': 1, 'Sheri': 15, 'Siri': 2, 'hey': 1, '@e...lise': 1, 'YEO': 1, '@myfloof_': 1, '@@officallhaydengerson': 1, '@nonfictionfacts': 1, '@savanna_chloe': 1, '@atzi.a': 1, 'omgggg': 1, '@cecilie.tk': 1, '@user616182837': 1, '@supersejesasha': 1, '@laurlaurbean': 1, 'BAHAHAHAHAHAHA': 1, 'DEADDD😂😂': 1, '@sophiemenz_': 1, '@ashleydooleyy': 1, 'WHATTTT': 1, '@th3yl0vekay': 1, '@jake_sheff99': 1, '@kennedyxhofer': 1, 'whole': 5, '😂😭😭': 2, '@igl.lem': 1, '@chaddisons.am': 1, 'FaWk': 1, '@charlotte_chalamet': 1, '😂😂😳': 1, '@hannahmopmop': 1, 'comments😂': 1, '@theppswag': 1, '@s.m.b3': 1, 'CRYINGGG': 1, '@yo_it_is_kt': 1, '@diarrheafartking': 1, 'net': 1, 'mehr😂😂😂': 1, '@sadie.clark08': 1, 'david’s': 1, 'infamous': 1, 'falling': 1, 'friends': 1, 'moms': 1, '@dayanaracoreas2': 1, 'HAVE': 2, 'NEVER': 2, 'LAUGHED': 2, 'HARDWE': 1, '@tala_abualhawa123': 1, 'video!!!': 1, 'EVERRRR': 1, '@yellowsquares3': 1, '@justaconfuzzledchild': 1, '@uh.pog': 1, '@sir_palabok': 1, '@jairichardson.1021': 1, 'crying': 21, '@brigieandsophie': 1, 'Oof': 1, 'KEEP': 3, 'STRAIGHT': 4, 'FACE': 3, 'I-': 36, '😹💀': 1, '@sl3ttypig_': 1, 'HAHHA😭😂😂😂😂😂': 1, '@giannasig': 1, 'Sheri!!!': 1, 'She': 2, 'playingggg': 1, '@callllllllllista': 1, '@bbellawoodd': 1, '@wyattsharted': 1, '@haha_jackie': 1, 'BAHAHAHAHAHAHAHA': 1, '@ann_washlow': 1, '@prettyluh..nevaeh': 1, '@_sabrinaleung': 1, '@mexican_ana': 1, 'you?😂': 1, '@a..d..d..y..s..o..n': 1, 'I/': 1, '@crackhead.potato69': 1, '@eva.r28': 1, '@andreapulido63': 1, \"she's\": 2, '@tommysamson38': 1, '@https._.blake._.moses': 1, '@gabrielthearchangel': 1, '@@@@@@@@@': 1, 'home': 3, '👁💧': 1, '💧👁': 1, 'awesome!!!': 1, '😁😅': 1, '@@@@@@@@@@@@@@': 1, '@1____milly____1': 1, '@@@@@@@@@@': 1, '@ms.pumpkin_spice_latte': 1, '@i_amnotcomp_i': 1, '@avarenee9286': 1, '@julia..hogan': 1, '@claudiafundis': 1, '@emmamerchak': 1, '@emma.madelyn': 1, 'SCTEAMEDDDD': 1, '@adysenziegler': 1, '@beyza_saa': 1, 'bajxhsushahah': 1, '@lilpeepstattoos': 1, 'good?': 1, '@sockrattease': 1, 'SHOULDNT': 1, 'FUNNYABHSDDHHD': 1, '@mhaley13': 1, 'DEAD-': 1, '💀💀': 8, 'BAD': 5, 'BLEEP': 7, 'KICKED': 1, 'OUT-': 1, '😹': 1, 'jajajajajajaj': 1, 'bruh😂😂😂😂😂😂😂😂😂': 1, 'Lol@addi.wood2': 1, '@sarah_3989': 1, '😂😂😂😂😂😂😂': 6, 'BAHAHAHAHA': 2, '@_peepeepoopoo_': 1, 'THATS': 1, 'HER': 13, 'MOM': 6, 'WAY': 2, 'SHE': 7, 'KEPT': 1, 'WHEN': 2, 'HAHJEK': 1, '@5639x': 1, '@mia_v_16_01': 1, '@hell0kittycor3': 1, 'THISBDHSHDHS': 1, 'SHERIII': 2, '@raluca_185': 1, 'mood': 1, 'believe': 1, 'addsions': 1, 'treats': 1, 'daughter': 1, 'sayed': 1, 'bad': 9, 'word': 1, 'Alot': 1, 'tiktoker': 1, '@elliesnotgrass': 1, '@nareesnod': 1, 'stop': 1, 'funny😂😂😂😂': 1, '@kennylolsohigh': 1, '@nabihaxx': 1, '@ferdousi_': 1, 'SHSBSBDHSJ': 1, '@abbypowell.x': 1, '😭😭😭': 13, 'broke': 1, 'rewatch': 1, 'button😅': 1, '@shelby_martin0': 1, '@dayen.ddo': 1, '@jazzyk32': 1, 'hitting': 2, 'different': 1, '@lydialittlex_': 1, 'ahahahah': 1, '@s.o.p.h.i.e.e.e': 1, 'HDJDJDJJDDJDJDJDJDJ': 1, 'NAME': 1, 'OF': 9, 'DORA': 1, 'EXPLORE': 1, 'HDJDJJDJDJDJDJD': 1, 'WHEEZING': 4, '😂😂😂😂😂😂😂😂😂😂😂😂': 2, '@gucciboyytaee': 1, 'no❤️': 1, '@_karlyates': 1, 'NO': 9, 'ONE': 1, 'GONNA': 5, 'TALK': 1, 'DAVIDS': 1, 'LAUGH': 5, 'SOOOOOOOO': 1, '😆': 1, '@itz_aylie': 1, 'tee': 1, 'Well': 1, 'raise': 1, 'stepdad': 1, '@addisonre': 2, 'girlfriend': 1, '@z.ja3far': 1, '😳😳😳😳': 6, '@av.brennan': 1, 'Bhahajvgbhh💀😂': 1, 'J’ai': 1, 'ris': 1, 'alors': 1, 'que': 1, 'je': 4, 'comprend': 1, 'mm': 1, 'pas': 4, '🤣😭': 2, '@bxnni_3': 1, 'POPPED': 1, 'HLIFDSHB': 1, '@elli_maxwell': 1, '@medlinweddd': 1, '@karlie.kemp': 1, '@@.hannahmosa': 1, '😭💀': 1, '@zariya_brantley1': 1, 'BAHABAHAJAJAJAJAHAHHAHAAHAHAHHAAHHAHAHAHAHAHAHAH': 1, '@bennn23455': 1, '@didsomeonesayprince': 1, '@charleyhx': 1, '@eved756': 1, '@sophienamdevv': 1, '@thatgirlwcurlyhair': 1, 'KIJK': 1, 'TOT': 1, 'DE': 1, 'EINDE': 1, 'DIE': 4, 'MOEDER': 1, 'ECHT': 1, 'SAVAGE-': 1, 'WHAHBAHASHS': 1, 'achi': 1, '@millieellickerx': 1, '@coverdalekaitlyn': 1, '@sitxstay': 1, 'BAHQHAHHAHAHAHAHSHSHSHHSHEHWNSHE': 1, '@avahr0se': 1, 'XNSNDNDNNFF': 1, '@jessicaadamczyk': 1, '@leah....w': 1, '💀💀😭': 1, '@allisonliberge': 1, '@gracie_bertram133': 1, '@.rosestanzlp': 1, '@animedrawsxd': 1, '@ceylan.ekk': 1, '@sarahgraham812': 1, '@sup.im.jared.im19': 1, 'XD!!!!!!!!!!!!': 1, 'POOR': 1, '@mrgrinchbanana': 1, 'push': 1, 'Sheris': 1, 'straight': 9, 'face-': 1, 'yOu': 1, 'HeArd': 1, 'HAm': 1, '9ItCh,': 1, 'pAcK': 1, 'uR': 1, 'sTuFf😂😂😂😂😂😂😂😂😂😂😂😂😂😂😂😂😂😂😂😂😂😂😂😂😂😂😂😂😂😂😂😂😂😂😂😂😂😂😂😂😂😂😂😂😂😂😂😂😂😂😂😂😂😂😂😂😂😂': 1, '@j4irr': 1, '@katrinaacameron5': 1, '@3mmiiiii_': 1, '@ameliahudlin6': 1, 'wheezing': 1, '😭😭😭😭😭😭': 1, '@nnatalia.st': 1, '@theoriginalbabydunkin': 1, 'JFGOKHFDM': 1, 'sheris': 1, 'bleep': 8, '@laceyhayesm': 1, 'nobody:': 1, '￼🔵✔️': 1, '@...bxtterfly....chxrli': 1, 'lamo😂': 1, 'heared': 1, 'biss': 1, 'Awwww': 1, '@sunflower.addison19': 1, '@elle_mccall': 1, '@avagf_33': 1, '@joanne_mcelgunn': 1, 'DYING': 6, '@hayleyysschultz': 1, '@elizabethmaeeee': 1, '@skylettsmith20': 1, 'normal??': 1, 'Lollll': 1, '@kinga.mckeex': 1, 'hdhdhdvdhdb': 1, '@p.kap_dawg': 1, '@yasmineee.am': 1, '@amberbloemberg2.0': 1, '@brecklynhonan': 1, '@claraarm_23': 1, 'uHSJSISGIDBDOJ': 1, '@nocontentherelol': 1, 'JAAHAHAH': 1, '@jamootv': 4, 'wer': 1, 'ist': 1, 'deutscha': 1, '@chloeewilsonn_': 1, 'AHHAHALJHFHLHDKGOYRT': 1, '@feeyzaaaaa': 1, '@sarah.5910': 1, 'NEIN': 1, 'Isn’t': 1, 'mom?': 1, '@aannawilcox': 1, '@country_hannah69': 1, 'LOL😂😂😂😂😂😂': 1, 'tokers': 1, 'here?': 1, 'FRICKING': 1, 'Dating?😂': 1, 'dam': 4, '@hunni_xara': 1, 'mum': 3, 'section': 12, '￼For': 1, 'verified￼': 1, '@cichonic': 1, '@twojamloda': 1, 'DIED': 5, '@spicy.ethnic.co0chie': 1, 'NOOR': 1, '@lacey123489': 1, '@becky_slade': 1, '😳😂': 2, 'WHEEZZZZIIIINNNNGGGGGGGGGGGGGGGG😂😂😂😂': 1, '@xcar_osheax': 1, '@luc.vanderveenn': 1, 'late': 1, 'yall': 1, 'dating?': 4, '@karaduffie': 1, '@uservswmictzwu': 1, '@kierahalls09': 1, '@m.a.r.l.e.y.o': 1, '@julieanne_collins': 1, '@a.d.r.i02': 1, '@a.d.r.i.a.n.n.aa': 1, '@kokichi.roblox707': 1, 'BAHDH': 1, 'JSVAUVAUGJSBIBW': 1, 'SUNSINWIND': 1, 'Millionen': 1, 'ahahhaha': 1, 'Bryce': 1, 'quiet..': 1, '@_alexandra_45': 1, '@wiki_toriaa': 1, '@julllllllaaaaa': 1, '@natali.a.aa': 1, 'Xd': 1, '@ronjaa_dk': 1, 'funny😂😂😂😂😂😂😂😂😂😂': 1, '💀💀💀💀': 4, 'ha': 1, '@luv.s4vannah': 1, '@hannah_schnapp': 1, 'ooooo': 1, 'lmaoooooooooo': 1, 'mfit': 1, 'wrong': 2, '😂😂😂😳😳': 1, '😂😂😂lmao': 1, '@faith.2108': 1, '@riley.lyons': 1, '@leah___': 1, '😂\\U0001f97a\\U0001f97a\\U0001f97a😂😂😂😂': 1, 'Ne': 1, 'seeing': 1, '🔵🔵🔵🔵🔵🔵🔵🔵🔵🔵🔵🔵': 1, '@froggrace': 1, 'OMGGGGGGGH': 1, '@kaylea_o13': 1, '@kovalrylie24': 1, '@_ainsleymitchell_': 1, '@olivia.liebovich': 1, 'jail': 1, '@jazdhillonn': 1, '@_.tanishaxo': 1, 'mums': 1, 'leng': 1, 'HSUEHSHDHUEHEH': 1, 'LMAO😂': 2, 'HAHAHAHAHAAHAHAAHA': 1, 'CRYINGGGGG@tiamilliex': 1, 'HA': 2, 'Bruh😂😂😂': 1, '@lianadave': 1, '@..hiiiiio': 1, 'Pov:': 1, 'reading': 1, 'peoples': 1, '@itskaydeee': 1, '@itz.autumn1234': 1, '@its_britta': 1, '@annikahildebrand': 1, '@josieisgamer': 1, 'ILOVETHISSSSS😭😭😭😭': 1, '@nea.aaa': 1, 'i-': 5, '@izzyhinks': 1, '@testamikea': 1, '11.1M': 1, 'much': 5, '@lilymcdowell_': 1, 'BAHAHHAHA': 4, '@arandomgirlinthestreets': 1, 'HADJWJXQJDJ': 1, '“': 1, 'bitch”': 1, 'Braddddisin': 1, '@its_lil1046': 1, 'Mulțumesc': 1, 'looked': 5, 'followed': 1, '￼￼@haffyw': 1, '@serenalentichia': 1, 'anybody': 1, 'sitting': 1, 'toilet': 1, 'HAHAHAHAHA@aris._.drink._.butera': 1, 'HAHHAHAHAHAHAHAHA': 1, 'Dying😂😂😂😂😂😂': 1, '@bonsta_monsta': 1, 'Lannan': 1, '\\U0001f970\\U0001f970': 1, '@remytyler_': 1, 'laugh': 3, 'she’s': 4, 'serious': 1, '@skii_fullbuster': 1, '@serena.schin': 1, '@emma_joest': 1, '@gemmaglitterr': 1, 'sorry': 4, 'maar': 1, 'vind': 1, 'dit': 4, 'heeeeeel': 1, 'grappig': 4, 'CRYING@goodvibecara': 1, '@kimchfriedrice': 1, '@fujaraciwpupke': 1, '@matt098765432100': 1, '@jasmijnkosters': 1, 'BYE': 6, 'THJS': 1, 'acting': 1, 'skills': 1, 'pov': 5, '@a.toxiic': 1, 'jsjsjsjsoaka': 1, 'OMG-': 2, 'bhaha': 1, 'exist': 1, '@laurenlovesu1234': 1, '@s6naina': 1, '@hayleymcmahann': 1, '@graciexhale': 1, '@melstrobel': 1, '“U': 1, 'pack': 10, 'stuff”🤣': 1, '@smellliie': 1, '@rogannwatson_': 1, '@anna.17.rose': 1, '@kamilla.055': 1, '@mylilfatbackshawty': 1, '😳😳': 1, '@g.r8cie_e': 1, 'fr?': 1, '@samira_xv': 1, '@bigrab3': 1, '@give_me_that_pp': 1, '@weirwilliam21': 1, '@ryleehenderson75': 1, 'schau': 1, 'auf': 1, 'meinen': 1, 'namen!!': 1, '@hannahmayorrr': 1, '@gabby_206': 1, '@makenzyslough4': 1, '@god_forst': 1, '@bcfc187504': 1, '@minniecalvert': 1, 'i-😳': 1, 'GAHAHHAAHHA': 4, '@frosch8': 4, '@onlyliaa': 4, '@m.ajaaaaaa': 3, '@lavaberta': 3, 'must': 3, 'rly': 4, 'weird': 6, 'explain': 3, 'process': 3, '@hollyparkinsonxx': 4, '@shaunakeenan360': 4, 'fails': 4, '@crystal_va': 2, 'Haaghahahhahahahaa': 4, '@hxaxnxnxaaa': 4, '@demilouisee._': 3, '@kayla_goddard15': 4, '@cassie_8109': 4, '@willywonkasrighttoe': 2, '@alesha.___': 2, 'dzldgoydticu': 2, '@emandemmydudez': 3, 'CKXISHAHH': 3, '@clauutubb': 2, '@alexisss_r': 3, '@icks5': 3, '@jasminmeziane': 2, '@neeahynninen': 4, '@oonalepppanenn': 4, '@dudewhoslylabrown': 3, '@armanda.lh': 4, '@kacey.02': 3, '@adrkasins': 3, 'Hahahah': 3, '@keiragg': 4, '@yassoubebou': 3, '@lilliespamm': 3, '@gecs0ck': 3, '@p1nkdrugs0': 3, '@udonum': 3, 'like👁👄👁': 4, '@_euanpirie': 2, 'NA': 2, 'HAHAHAHAHAHAH': 2, '@x.__chloep': 4, '@madi123457890': 3, 'CACKLING': 2, '@its_ebony06': 2, '@merryconnor': 3, '@linaakiy': 3, '@evegerrard1': 3, '😂😂😂😂😂😂😂😂😂😂😂😂LMFAOOOOOOO': 3, '@hannah...bananaa': 3, 'SCREAMED': 8, '@morgancmx': 3, '@gracie_dixonxx': 2, 'pov:': 3, 'comes': 3, 'youtube': 3, 'covid': 3, 'ends😅\\U0001f97a😳': 3, '@zuzannastefanowic1': 4, '@liv.sta_': 4, '@alliesomersxo': 2, '@amypoopybutt': 3, '@aliciaraii': 4, '@maadiileighh': 3, 'LMFOAWBWBW': 3, '@ninamatthewsx': 3, '@laylabeingstupid': 3, '@06nes06': 4, '@sadhbhnaughtonxxx': 4, 'weakk': 4, 'Aww': 10, 'poor': 7, '@audreyisconfused1': 3, 'BAHAHAHA': 3, 'Mom': 4, 'mean￼': 4, '@blueplate02': 3, '@vipxraee': 2, '@28.mxchelle': 2, '@_nika.0811_': 2, 'PAUAHAHSHDHJAHAHAHAHA': 2, '@dlanax': 3, '@aleksandra_ligaj': 3, '@raph.des': 3, '@brooklynharrissss': 4, '@iii_sxmmer_iii': 4, 'CACKLED': 3, 'HAHAHAHAHAHAHA': 7, '@halle.marie.c': 3, '@dilaragulaydin': 3, '@halilibrahim6400': 4, '@.shaila06': 4, 'BABAHSHAHSSH': 4, '@badvibeswithluca': 3, 'dieses': 3, 'whyyy\\U0001f970': 3, '@simp.l0ser': 4, '@annimensch': 3, 'funny😂😂': 5, 'OkKkK': 3, 'free?!..??': 3, 'HAHAHAHAHAHAHHA': 3, '@martharoselunn': 3, '@laravangeyte': 3, 'Her': 2, 'Father': 2, '@kay.roseee': 3, '@annaka.martin97': 3, '@onlynatalia_x': 2, '@payneseb69': 3, '@antonowiczoliwia': 4, '@lilyyouel': 3, 'JAKEJJAJDKQJWJDHEJQKDBQOLT': 4, 'Saphir': 2, 'en': 2, 'sueur😂': 2, '@.marwa.05': 4, 'jpppp😭😭😭': 4, 'PHAHAHAHWJSJ': 3, '@princesspeach_984': 4, '@ashhtrooworldd': 4, '@josiimk': 4, 'LMAOOOOOOOOOO': 2, 'mum?': 3, 'moi': 7, 'ou': 7, 'elle': 11, 'à': 3, 'dis': 6, 'mouais': 3, 'deaddd': 4, '@jemima__hebden': 2, 'section✅': 4, '@ur.local.llama.lover': 4, '@willyg04': 3, 'ARE': 3, 'YAL': 3, 'DATING': 3, '😁': 3, '🤣🤣🤣🤣🤣🤣': 3, '@madisonwinter16': 2, 'BHAHAHHAHA': 3, '@wishinzoex': 3, 'EM': 3, 'GEE': 3, '@_leaaaaaaaaa._': 3, '@sophiescott.2005': 3, '@kiahevemain': 3, 'Ay': 4, '5M': 4, 'WAP': 4, 'dance😂': 4, '@aintmeee': 2, 'LMAOOOOOOO': 2, '@smellybum47': 4, '@x.zara.x12': 4, '@laura_cri': 2, '@leyton_dew': 3, '@unknown_furyhunter': 2, '@daisykindaedits': 3, '@.ju1i4': 3, 'HXKSBZKSHSKSNS': 3, 'WTF': 6, '@itzzzsophiexx': 3, '@carlasmythe': 3, '@emspamaccount': 2, '✨FAWK✨': 2, 'wheeze': 4, '@valeriaaa.cc': 2, '@fiorelh': 2, '@ilikesleep': 3, '@bxa_07': 3, '@kiriwitch': 3, '@es1lya': 2, 'HAHAHHSHAHAHAHHA': 2, 'this:👁👄👁': 2, 'comments:🔵✔️': 3, 'veux': 3, 'avoir': 3, '99+': 6, 'stpppppppp\\U0001f97a': 3, '@bekazlam': 4, '@kodou.ge': 4, 'i...': 4, '@gbaraj02': 3, 'un': 3, 'comfy': 3, '@x..i.s.l.a..x': 3, '@im0gen_x0x': 3, 'AHAHAHHAHAHAHA': 3, 'EXPECT': 9, 'POP': 3, '@giancarlo.aquino': 2, '@lauren_joy2': 3, 'lmaooooooooooooooo': 4, '@jas672': 1, '@cmccann1234': 4, '80%': 4, 'verified?': 4, 'realy': 2, '⭕✅': 2, 'WAIT': 5, 'GOING': 4, 'HERE': 4, '@ummchileanyways16': 2, '@m0nster_energy_dr1nk': 2, '@itssreaa': 1, '𝓝𝓞': 2, '@papi.peyton': 4, '@shineaddi1': 3, '@annisdaddy': 2, '@lolaaeh': 2, 'MOM?😂💀': 3, '@trumpsg0rillagripbussy': 3, '@strwberrymilktae': 2, '@vx.rinesa': 2, 'AHAHSHAHAHAHHAHAHAHAAHHAHAHAHAHAHAHAHHAHAHAHAHA': 2, '@kathycelestinoo': 3, 'Rea': 2, 'wat': 2, 'zegen': 2, 'ze': 2, '@marcus.monredondo': 3, 'hahahahah': 4, '🤣😭💀': 2, '@xwittlegremlinx': 3, '@astridrobertsonx': 3, '@juju.333': 2, 'PLSSS': 3, 'jsnsjslskenene': 3, 'ahhahahahaha': 3, '@_s.o.p.h.i.s.s_': 3, '@ikatis': 3, '@nimahsid': 4, '@naomi_mezh': 4, 'DIDNT': 13, 'dyingg😂😂': 3, '@keilee_ryan28': 3, '@bayar06': 3, '@sellimmb': 3, 'gooo': 3, 'typing': 5, '@katie_leex': 3, 'WOAHHHH': 3, 'PFFF': 2, 'HAHAHFHXHFHSUXJ': 2, '@kara.hooper': 3, '@priyaxoi05': 2, '@abbi_pierce05': 3, 'icon': 3, '@fatjuicyass666': 2, 'LWHROWHHOEIT': 2, 'Have': 2, 'laughing': 6, 'head': 2, 'off😂￼': 2, '@lailaapower': 3, 'polska': 4, 'kto': 4, 'przetłumaczy?': 4, 'KAJABGDHSID': 3, 'AAAAAKKAKAKAJ': 3, 'HWIIQ': 3, '@zainosafii_': 2, '“Why?”': 2, 'HAHAAHA': 2, '@.modelchqrl': 3, '@sofstinz': 3, 'art': 3, '@feyzaaaaaa23': 3, '@k0uvr_.x._fanpage': 3, 'Poor': 3, 'addition': 3, 'sleep': 3, 'omgshhhhhhh': 3, '@sian.dmt': 2, '@clodagh248': 2, '@lottie_27.x': 3, '@lucky191929': 3, '@xo._.vika': 3, '@albahxa': 3, '@_liv_x_happiness': 3, '@jemmx_o': 3, 'Mdr': 4, 'dort': 8, 'maquiller': 4, '@itsholzjones': 1, 'mouth': 3, '😹😆🤣': 2, 'BLDHLGODJGDOHDO': 2, '@heidiiviiolet': 2, '😭😭😭😭😭😭😂😂😂😂😂😂😂😂😂😂😂💀💀💀💀😭😭😭😭😭😭💀😭😭😭💀💀💀💀💀💀': 2, '@dodozbi': 2, 'addisons': 5, 'little': 4, 'puppy': 2, 'eyes': 2, '@elliehenrick1': 4, 'times?🤷🏽\\u200d♂️': 3, 'witnesses': 2, '👁️👄👁️🤣': 2, 'that😂': 3, 'Wtf': 3, 'should’ve': 3, '😂m': 3, '@aubxy': 4, 'sherri': 4, 'wap😏': 4, '@hinataisatinygiant': 3, 'ONEISJSISJSJ': 3, '@spamvanliene': 3, '@dankdank23': 3, '@paige0707': 4, '@kelsiesmith13': 4, '@saleh_ta': 2, 'can‘t': 2, 'HAHAHAHAHAHAHAHAHAHAHAHA': 2, 'Hagfish': 3, 'fun': 3, 'hejdhsdhcvcjshsdh😂😂😂😂😂': 3, 'Wha-': 3, '@casey_mcleod': 3, '@spacecosmo.cosplay': 4, '@sara.nicole8': 3, '@lexiedoesdances2008': 4, 'HAHHAHAA': 3, '@basiclettuce': 3, '😏😳': 3, '@shadowmardin': 3, '@zara.bakvet_': 3, '🤣🤣🤣🤣die': 3, 'moeder😂😂': 3, '@lina.prvv': 3, '@only3sther': 2, '@pastapants69': 4, 'tbh': 3, 'acc': 3, '@iamirishpotato': 2, '@thisisnotmarlenn': 3, 'Fyp': 4, '@violetisakween': 3, 'AKJSJSJD': 3, '💀😂': 5, '@x.vivl1231.x': 3, 'HAHAHAHAAHAHAHH': 4, '@gecgecgrr': 3, 'genuinely': 3, 'making': 3, 'angry': 3, '@nbx95': 3, '@teagan.glanville': 2, 'HAHAAHAHHAHA': 4, '@thesoniccc': 3, 'sbbdbdbdhdbffb': 3, '@shannon.meek': 4, '@llkyrahll': 3, '@rxwrs': 3, '@.itssemmaa': 3, 'HAHAHHAHAHAUWIWJWNW': 3, '@karolina.tx': 3, 'meeeeeeeeeeeeeeeeeeeeeeeee': 3, 'Almost': 3, 'every': 3, '@divya123_6': 4, 'GOD...': 4, '@pf_xavier': 3, '@@breckin_13': 3, '@thattopolosekkid': 3, 'PLEASE-': 4, '@berneremily': 3, '@sami_b03': 3, '@malakaidamelio': 4, '@abbie.crowther': 3, 'wut': 6, '@howlismyspiritanimal': 2, '@sof.iaaa': 3, 'earth': 3, '@for_the__boys1': 4, '@jackpot2k10': 4, 'gasped-': 4, 'Wt': 3, '@lara.1302': 2, 'sheri': 8, 'HAHAHAHAHAHAHHAAH': 2, '@eunchan_08': 3, '@_rafa.tjr_': 4, 'OE': 4, 'QUE': 4, '@emmaachapmannn': 3, '@leila.el.18o7': 3, '😂😂😂😭😭😭': 3, '@kaitlyn.brown_': 3, 'LMFOAJDOEJDOEJ': 4, '@jaze_playz_roblox': 2, 'omg😂😂': 2, 'great😭😭': 3, '@lara.schmitte': 3, '@elliebethers': 4, 'YEAR✨✨': 4, 'knew': 6, 'swore': 4, '@katiebruce15': 4, '@bostynnn0201': 3, '@woahhh.itzz.mia': 3, 'Morí': 3, '😂😂😂😂😂😂😁': 3, '@half._.laugh': 3, '@cayden.a.22': 3, 'Jajajaa': 4, '🤣🤣🤣': 4, 'lolll': 3, '😂😂😂😂😂😂😂😅😅😅😅😅': 3, '@xflower._.dameliox': 3, '@the_cheese_crusader': 3, '@femboycrusader': 3, '@s4ltykun': 3, '@bitter.bones': 3, '@stefanas69': 2, 'lmaoo': 3, 'bi+(h': 3, 'stuff😂😂': 3, '@lilmaddon': 4, '@gugu889': 2, 'hahahaha': 2, '@nerv_nicht57': 4, '@xw_i_kt_o_ri_ax': 3, '@animalsrights2020': 3, 'hilarious': 4, '@jette.2005': 4, '@meeshcolucci': 3, 'NOOOO': 3, '@yoursofreakingugly': 3, '@mrduberhimself': 4, '😭💀.': 3, '@sarahlinden.127': 3, '@this.d4ddy': 3, 'JAJWJWJAKKKQKAKAKSKKAKSJEA': 3, '@hagbab': 2, 'musste': 2, 'lachen': 2, '@gracemuirhead_': 3, '@w4if00': 3, '@x__freya__lobley__x': 3, '@yummykidd0s': 3, '@megannnconnollyyy': 2, 'STOP': 2, 'AT': 7, 'THUS': 2, '@eveperryy': 2, 'NOOO': 4, 'davison\\U0001f970?': 2, '@kaylasayshello': 4, '@cali000005': 3, 'WHAT-': 4, 'big': 4, 'fan': 4, 'DAMN': 4, 'funnyyy': 4, 'ahahahhah': 4, '(I’m': 4, 'liking’': 4, '@leonille.vdv': 4, '@leoniiieftne': 4, 'c’est': 4, 'avec': 4, 'du': 4, 'maquillage': 4, '@conniejessicashirt': 2, '@thats_michelle': 2, 'HAHAHWJABAHAHAGAVAVSVS': 2, '@harryjames0504': 4, '@usedflavoredearbuds': 3, '@happy.hogan': 3, '@egirlwithtoes': 3, '@chloe_chaz03': 2, 'chui': 2, 'perdu😂😂': 2, '@mel.bres02': 4, '👉🏼👁👄👁👌🏼': 2, '@men.sluta': 2, '@vanessarere13': 3, '@chile.lily': 3, '@_bunny._.girl_4': 2, 'АХАХАХАХАХ': 2, '@erindoran22': 3, 'Alguém': 2, 'traduz': 2, 'aí': 2, 'para': 2, 'mim?': 2, '@mrs.monoma': 2, 'DAVE!!!😂😂😂': 2, '@stoopidkatie': 3, '@isla_waugh': 3, '@myajones.xx': 3, '@polanastaj': 2, '@betina.mi': 3, '@jahmilla_': 3, 'CRYYYY': 4, '@jeannoumalo': 3, '@priv_jessxx': 2, '@lilstelltherapper': 3, '@annalemieux09': 3, '@ellaaaaburnssss': 3, '@larawilliams0': 3, 'HAHAHAHHAHAHAH': 4, '@kt.horne': 3, '@iozefine.m': 3, 'PAUAHAHAHAHAHAHHAAHAHHAAHHAHAHA': 3, '@😂😂😂😂😂😂😂': 3, 'OMLLLL😂😂😂': 3, 'face￼￼': 3, 'SHSHSH': 3, '@estherajeniya': 3, '@elladambis_x': 3, '@the_lion_channel': 3, 'funniest': 3, 'TIK': 3, '@_emylkamilka_': 2, 'lmao-': 2, '@byczkumozemonsterka': 3, '@lizzy_0077': 4, '@wiscomommaof3': 1, '@lexiedupuis': 1, 'prime': 1, 'notifications': 2, 'AHHAHAHA': 1, 'THOGHT': 1, 'NATALY': 1, '@shortgirl36': 1, '@myqueenischarli0': 1, '@maggie_wassup_': 1, 'BYEEEE': 1, '@sc4rlett.g1ss4ra': 1, '@zoe.holloway14': 1, '@ashleyy.1237': 1, 'SCREAM': 1, 'LET': 1, 'OUT': 1, '@ycwv': 1, '@madisongouine': 1, '@danica_romsos': 1, '@sageeeeeeeeeeeeeeeeee': 1, '@bbwlotion': 1, 'anyways...': 1, '@fluorrrrrrrr': 1, '@notastra': 1, 'LMFAOOOOOOOOOOOOOOOOO,': 1, 'SOMEONE': 4, 'HELP': 5, 'BAHAHAHAHAHAHAHHAAHAHAHAHAHAHAHAHAHAHAHAHAHAHAHAHAHAHAHAH😂😂😂😂😂😂😂😂😂😂😂😂😂😂AHHHHHHHHHHHHH': 1, '@itz_brileyyy': 1, '@_ava_besson_': 1, '@jessica.danielle_': 1, '@brooklyndordal': 1, '@haylegrace': 1, '@ogmaggie': 1, 'blew': 1, 'upppp': 1, '@nolanweiner': 1, '@peterbeeley': 1, '@elise.mrqz': 1, '2012': 1, 'Ford': 1, 'Focus': 1, '@kiritotuckito': 1, '@jordanrwhite_': 1, '@averymotta': 1, 'Road': 1, '1k': 1, '@lexislefttit': 1, 'HECK': 1, 'FACE-': 1, '@creampiff': 1, 'plot': 1, 'twist': 1, '2020': 1, 'THISS': 1, 'THOUGHT': 1, 'WOULD': 1, 'CUSS': 1, '@x._hype.house.fandom_.x': 1, '@yuri_flamingo': 1, 'wow😂': 1, 'Comments': 4, 'said:': 5, '✅': 1, '✔': 1, '@vibing_chanel': 1, 'JDIFIRU': 1, 'BAHAHHHAHAHAH': 1, 'SAID': 4, '😏': 4, '@x.mia.dawn.x': 1, '@kathrynmhey': 1, '@iamemg': 1, '@solo.sierra': 1, 'rlly': 2, 'expecting': 5, '😭': 7, '@214aalynnaa_': 1, '@ramennoodles_124': 1, '@dude._.its._.tt': 1, '@speciaii': 1, 'AHAHHAHAHAHSHAHAJSHSHHSLZUXBDYS': 1, 'OMLLLL': 1, '@haley.wurban': 1, 'ahahahahha': 1, '@msfoxypants': 1, '@_robinlikesanime_': 1, 'djdjfjejbfkdkrjenjdudjejjr': 1, 'TF': 1, '@rh0bynnnnn': 1, '@xxrickaair_08xx': 1, '@emmarxe': 1, '@.bxddie..raee': 1, '@trxpical.x.sunkins': 1, '@..glxssyxavaddi': 1, '@.badbleepcharlii': 1, 'hahahahhahshshshajkakakakakak': 1, '@.leyna12': 1, '@ava_lienau': 1, 'OMG🤣🤣🤣': 1, '@goalie1shutout': 1, '@jackie.gomez1': 1, 'ignore': 1, 'times': 1, '@kendall.reesess': 1, '@emilykferreira123': 1, '@jelinaalol': 1, 'HAHAHAHSHSJXJSISIE': 1, '@mareeaaaa': 1, '@amnotnoursoleave': 1, 'i-NO': 1, '@smhshania': 1, '@no_this_is_jocelyn': 1, '@kmskyia': 1, '@uceeyboo1234': 1, '@rollie.b': 1, '@pickllleerick': 1, '@alexia.1008': 1, '@mariacastilllo': 1, '@finaa_inaa': 1, 'DJDGHJFNDNCNCNNC': 1, 'C': 1, '@cloutpemb': 1, '🔵✔️': 11, '@kcough_': 1, '@maddymensingg': 1, 'OKG': 1, '@pyt_alicia': 1, '@itss.rayaaaaa': 1, '@_crystalk.28': 1, '@x.eniola_x': 1, '@gr3jsi': 1, '@youalreadyknow18_': 1, '@tianna_1414': 1, '@sophia5069': 1, 'edited': 1, 'bu': 1, 'BHAHAHA': 1, '@idk_tj2': 1, '@tfchars': 1, 'typeing🐵🐙👻...': 1, 'ALL': 4, 'VERIFED': 1, '@amalshah_': 1, '@mikaela_h15': 1, 'WHA-': 1, '@mariazulfikar': 1, '@juhi.xo': 1, 'rae': 1, 'during': 1, 'this?': 1, '@salty.caterpillar': 1, '@cookingcowheads': 1, 'SQUEALING': 1, 'FLBGSWFGUB': 1, '@dailydoseofjadenhossler': 1, 'FRICK': 1, 'CRYINGGGGG': 1, '@kadence.jones': 1, '@anna.oleary': 1, '@juliaraevela': 1, '@bella.kreydich': 1, '😭😭😭😭': 11, 'LMAOOOOOO': 1, '@d1lan49': 1, '@xlxynx107': 1, 'BU': 1, 'NE': 1, 'AHJXUX': 1, 'monty': 5, '@yasamina234': 1, 'coming😂😂😂': 1, '@itzz.amora': 1, '@elitebutsadbarb': 1, '@ellie.cornell_': 1, '@dshntd': 1, 'BYEEE': 1, '💀😭😭': 1, '@bri.paez04': 1, '@uhhhhhisa': 1, '@lizbeth_7362': 1, '@ellism_13': 1, 'is😂➡️': 1, '@vibinq.lilly': 1, 'dang': 2, '@rejiar2': 1, '@hannahalexxandra': 1, 'm': 1, '@audreeycastillo': 1, '@daphnewolthoff': 1, 'hahaha': 2, 'dat': 1, 'haar': 1, 'moeder': 1, '@angieporterintheflesh': 1, '@yasminmakey': 1, '@ellaflanaganx': 1, 'actor': 1, '@ellgracee': 1, '@callumrking': 1, '@kennedy.templet': 1, '@evie__forsyth': 1, '@adoreevash': 1, '@itz_judayy': 1, '@m3sha0': 1, '@lauren.agostino': 1, '@unoriginaldumbass': 1, '@kyloren300': 1, '@lisamariesveen': 1, '@ruffen321': 1, '@ironstar207': 1, '@stephanie00694': 1, 'OML😭😂': 1, '@jaquelinecastanon28': 1, '@kim_delaj': 1, '@ashley_brown7': 1, 'HAHAHHAHAHAHAHAHAHAHAHAHAHHAHAHAAHHSHAHAH': 1, '@lora.chandler': 1, '@mandyhazelgrove': 1, '@lilian.chamberlain': 1, 'BAJAJSHEHEJEJ': 1, '@_gucciflipflops0': 1, 'ayo': 1, '@iilazy_potatox': 1, '@gabby_r.m': 1, 'breathe': 1, '@hello.alisa': 1, 'died': 4, 'laughter': 1, 'funeral': 1, '5:00pm😂😂😂': 1, '@kkkkianaaa': 1, '@libbymerchant': 1, '@safa1111111': 1, '@diana...77': 1, '@idamarie.w.rasmussen': 1, 'HAHAHAHHQHQHQHQH': 1, '@_georgia_miller_': 1, '@melanie.mikaelson': 1, '@your_gurl_gc': 1, '....😹💀': 1, 'Bad': 1, 'bleeps': 1, 'kicked': 1, '￼￼😂😂😂😂😂😂😂😂😂😂😂😂😂😂😂😂😂😂😂😂😂😂😂😂😂': 1, 'it-': 1, '(Addison': 1, 'David)': 1, 'BAHAHAHAHHA': 1, '🔵🔵🔵🔵🔵🔵🔵🔵🔵🔵🔵🔵🔵🔵🔵🔵🔵🔵🔵🔵🔵🔵🔵🔵🔵🔵🔵🔵🔵🔵🔵🔵🔵🔵🔵🔵🔵🔵🔵🔵🔵🔵🔵🔵🔵🔵🔵🔵🔵🔵': 1, '40': 1, 'views???': 1, 'OMF': 1, '@tessakola': 1, 'FUNNIEST': 4, 'THING': 7, '@uh.carolineeeee': 1, 'Everyone': 1, 'under': 1, 'EVER': 10, 'dating￼': 7, '2020!!!!!!!': 1, '@summer_ives': 1, '@rileytotty': 1, 'too!!': 1, '@marthachasemoreeee': 1, '@meisyw': 1, '\\U0001f9da\\u200d♀️￼✨': 1, '￼Uncomfy￼￼': 1, '✨': 1, '\\U0001f9da\\u200d♂️￼￼￼￼': 1, '@mackathena': 1, '@goawayriley': 1, 'pt': 1, 'ph': 1, '@uh.chill': 1, 'hfycjcyfyxjcucu': 1, '@ilovehisokamorow': 1, 'LMFOAOOOAOOAO': 1, 'OHMYGODD': 1, 'NOOOOOO': 1, 'BRUH': 2, 'MOMENT': 1, 'behind': 1, 'dying😂😂😂😂😂😂😂😂😂😂😂😂😂😂😂😂😂😂': 1, 'notifications😡': 1, 'DJDGSJDVA': 1, 'DHA': 1, 'DYING-': 1, '@megan.rita': 1, '@chantelleflett': 1, '@airini3': 1, '@itssruweydaa': 1, 'GOALS': 1, 'JCISIEKES': 1, '@dayanaa.rf': 1, 'JE': 1, 'SAIS': 1, 'TA': 1, 'DÉJÀ': 1, 'VU': 1, 'MAIS-': 1, 'BAHAHHSSGSUSSIJ': 1, '@hockeyluke9': 1, '@logan.haltom': 1, '@brennan..coleman': 1, '@not_brady_bolivar': 1, '@eshacrole': 1, '@willowrose_': 1, '@um_noo': 1, '@nysh_656': 1, '@chase.forehand': 1, 'Imaooooo': 1, 'went': 1, '🙂🙁\\U0001f928😳😂😂😂': 1, 'BABAHHAAHHHAAH': 1, '@michaelaburris': 1, '@jahzaraburris': 1, '@traduction_fr2': 1, '@siner2.0': 1, '@zenagurly': 1, '@broke.glossy': 1, '@nyxdoar': 1, '@ariam930': 1, '10': 1, 'mil': 2, '5': 1, 'wap': 1, '@maria_sant': 1, 'LMAOOOOOOOOOOO': 1, 'PLOT': 2, 'TWIST@isabellamtaylor': 1, 'AHHHHHHHHHHHH': 1, '@esiilva': 1, '@avamcgeehan': 1, 'idea': 1, 'this?!?': 1, 'ppl': 1, '@.dxddykeiraa2': 1, '@evee_rod': 1, '😂😂OMG': 1, 'SHERIIII': 1, '@laylaa.08': 1, '@_farfoora': 1, '@thejadonortiz': 1, 'said:🔵✔️': 1, '@lileggy23': 1, '@katewunderlich': 1, '@getting.those.gaines': 1, '@grace.johnsson': 1, '“You': 6, '*bleep*': 1, 'stuff”': 6, 'IVE': 1, 'WHILE': 1, 'LMFAOO': 4, '@jazmyneroy': 1, '@kenadie80': 1, '@k.a.t.e.l.y.n.0.8': 1, '@kpopobsessed101': 1, '@emily.leandra': 1, 'excepting': 1, 'out-': 1, 'LOLLLL': 1, '@jemcarey': 1, '@charlotte.c14': 1, '@karlajones15': 1, '@georgia.brill': 1, '@davidjr.vega': 1, '@official.eva3': 1, '@mianell43': 1, '@ox.heidi.ox': 1, 'screamed-': 1, '😭😭😭💀': 1, '@blue_skyes32': 1, '@baylee61': 1, '@st00pid_rat': 1, '@.charsraeee': 1, '@abby_moonie': 1, '@_.sk8ter.egg._': 1, '@irinalovebuga': 1, '@emmavanlokven_': 1, '@berny.saleb': 1, '@chicken_noodle_souupp': 1, 'vide': 1, 'same': 1, 'wapppp￼': 1, '😡\\U0001f92c': 1, '@peytonsouthall24': 1, '@cmitchell06': 1, '@laufbylauf': 1, 'Wow': 2, '@aniiikabtw': 1, '@maddiefuhr': 1, '@shradha.gudiseva': 1, '@urfavpersonalyssaaaa': 1, '@angelina_kalousis': 1, '@kochovos': 1, '@ihaveagiraffeobsession1': 1, '@shanikwa.johnson': 1, 'poped': 1, 'Perfect': 1, 'couldn’t': 1, '@alease1': 1, '@morris1622': 1, '@tristanhames16': 1, '@domwetzell': 1, '@.oliwia.14': 1, 'BAHAHHAHAHAHA': 1, 'COJEST': 1, 'fav': 1, '@elliehalls': 1, '@katyxmccormick': 1, 'finna': 1, 'soon': 1, '@_mxisx': 1, '@lindaa.ax': 1, 'side': 1, '@chloesmith3417': 1, '@millamcewen': 1, 'Yo': 1, 'tiktok.': 1, 'FAVORITE': 5, 'acts': 1, 'shed': 1, 'before😅😂': 1, 'sleeping': 2, 'addison?': 1, 'bro?': 1, '@paigywaigy_1': 1, '@maggieee_123': 1, '@kenzie_ur_local_werdio': 1, 'BAHAHAHHAHAHAHAHHAHAHAHAHAH': 1, 'LITERALLY': 1, 'THIS😂😂😂': 1, 'frfr': 1, 'school😟': 1, '🍛🥘Anyone': 1, 'Some': 1, 'Anime': 1, 'Food??': 1, '@_ballie_': 1, 'WhY': 1, 'oml': 1, '@meisbored69': 1, 'BAHSHSHAHABBAHSHAH': 1, '@kacey5654': 1, '@saskia.barton.x': 1, '@alisha.b2': 1, '😳😅😂': 1, 'LMAOOOOOOO🤣@skye22322': 1, '@analise7270': 1, '@charli_dunkin4952': 1, '@its_amira_1234': 1, '@hajarr_btsluv': 1, '@x_.agatka._x': 1, 'WTFFHEHDHEBEB😭': 1, '@whotfisanayancinunez': 1, '@lindsaymtz0910': 1, '@lupe123.mac': 1, 'BAHAHGAHAGSHWHWHWHYWYWYW': 1, '@taliebasz': 1, 'OM': 1, 'F': 1, 'DDDFFB': 1, 'lmaooo😂😂😂😂': 1, '@hannah.girdley': 1, '@premium_tax_evasion': 1, '@khunt2098': 1, '@lilycp_0819': 1, '@its.your_daghter': 1, '@haley.neuman_': 1, '@maycie_jayeeeeee': 1, '@sophia.cady': 1, 'not-': 1, '@maddie_hope1213': 1, '@arielle.jg1357': 1, '💀💀😂': 1, '@trevona_123': 1, '@will_506': 1, '@brynn_krug': 1, '@enbysru1e': 1, '@diana_5848': 1, '@rionhymilarmh': 1, '@feyyzzzaa': 1, 'nE😀': 1, '@_bella4202': 1, 'WEAKKKK': 1, 'ASFFFF': 1, '@laurenlim6': 1, '@no_one_cares_tara': 1, '@annetaaa07': 1, 'lol😂😂': 1, '@thisisnotjolene': 1, '@kenziebobenzie': 1, '@iloveosama23': 1, '@cilaaaa.99': 1, '@addison_ray_fampage_69': 1, '@masssap67': 1, '@andrew_1403': 1, '@simbahlayx': 1, '@_sxmiraxox': 1, 'dayum': 1, '@sanashahid_18': 1, '@uglyburntfrenchfry': 1, '@sana.426': 1, 'YOOOOOOOOOOOOO': 1, '@_onlyxjelena_': 1, 'tho😂': 1, '@_anureets_': 1, '@addianddixiefpx': 1, 'LMFAOAOAOAOAOAOAOAOAOSOAOAOAOAOAOAOAOAIAIAOAOAOANSBDDJJD😂😂😂😂😂😂😂😂': 1, '@taylor.is.swaggy': 1, '@urfav.leahh': 1, '@qt._.set': 1, '@thediamonpug': 1, '@itz_jvmmm': 1, 'BROOO': 1, '@juulflavored.juulpod': 1, '@.weebs': 1, 'مترجم': 1, 'يالكائنات': 1, 'place?': 1, 'choosing': 1, 'Addison’s': 1, 'her😂😭￼': 1, '@maryammm.b': 1, '@annabellaiswatching': 1, '@sharinakilan': 1, '@shanzad_': 1, 'wildin’': 1, '@i.d.k.h.e.r': 1, 'Omg-++%+%7jfkffkroifjfkfjffidjhrh': 1, '@nakiahhhhh': 1, '@graciepineda03': 1, '@alexcurrieee': 1, '@simply_bekah': 1, '\\U0001f970': 1, '@ashtonnm': 1, '@flo.cascardo': 1, '@aliyah.okhomina': 1, 'shittt': 1, '@emileetomlinsonstyles': 1, '@hellokittyluvr33333': 1, '@peymcdaddy': 1, 'La': 1, 'suite': 1, 'sur': 1, '\\U0001f7e7⬛️': 1, '@alebracero': 1, '😂@cleo_asher_blessed103': 1, '@idkwhycami': 1, '@shudhitakalra': 1, '@juliettedgirouard': 1, '@zkm_therat': 1, '@uh.gracieee_': 1, '@em_the_rat': 1, 'ash': 1, 'kash': 1, '“why”': 1, '@avalyn03': 1, '@sannesanse': 1, 'took': 1, 'dub': 1, '@__addys0n__': 1, 'ahhhhhh': 1, '@appplejuiceee': 1, '@sophhhiaa': 1, '@punktsadriana': 1, 'AHKGJZRYS': 1, 'KP': 1, 'BET': 1, 'SIS': 1, 'IR': 1, 'LOTI': 1, '@yesmicrowave': 1, '@hannalovesjesus': 1, 'interact': 1, '@bruh.what6': 1, '@uh.kensley': 1, 'killed': 1, '@_eve_1111': 1, 'LUV': 1, 'MUCH': 1, 'EJWBA': 1, '@mahidahh18': 1, '@uh.joyhazel': 1, '@celina.smht': 1, '@epxx68': 1, '@badcamera.quality': 1, '@willywonkabadnutz': 1, '@grisel_pelaez': 1, '@chill_canihaveajoe': 1, 'AKALSKNFNDNEJJSJSJDJ': 1, 'SH': 1, 'CHNDJEJDJJEWJS': 1, 'DRUGS': 1, 'DISJDJDJDJJRJFJRJRJJRJRJEFJJR': 1, '@alexaposchh': 1, '@sophia.marks07': 1, 'literally': 1, 'shes': 1, 'old': 1, 'Δεν': 1, 'ήξερα': 1, 'ότι': 1, 'λέει': 1, 'και': 1, 'τέτοια': 1, 'η': 1, 'μάνα': 1, 'της': 1, 'STUTTER': 1, '@daisy.bayer': 1, '@lucy.w.5': 1, 'word?': 1, 'bitch,': 1, '@icyth0tnbakuh0e': 1, '@jeremelle': 1, '@ecemerkovan': 1, 'AWESOME': 1, '@majkenpajken123': 1, '@shrek.se': 1, 'PAHAHAHHAHAHA': 1, '@sweetsoph0101': 1, '@emily_7021': 1, '@charlifphearts': 1, 'AHHAHAHAAHAHAHAHA': 1, '@bailey.mz2': 1, '@aydenarat': 1, '@killuas.girl': 1, '@kaylinraee': 1, '@olilondonsgreasyspatula': 1, '@jasmin3jakhu': 1, '@ama.pia': 1, '@lillysingleton': 1, '@kacey_roooster': 1, '@ezafelhasznalonev': 1, '@nagy.fanni12': 1, '@dzsasztinnn': 1, '@zbgnr13': 1, '@sabrinabienstock': 1, '@elizabethbrandman0': 1, '@imcristinacomito': 1, '@devontey38': 1, '@sabrinashafferr': 1, 'BAHAA': 1, '@ashlyn.marie082': 1, '@judynotfound': 1, '@maria.serranor': 1, '@mrabassag': 1, '@ifernandez_04': 1, '@inessaavedra__': 1, 'sos': 1, '@_its.maddieeee_': 1, '@auggie.kuiken': 1, '@notautumnlecuyer': 1, '@suniya_23': 1, '@localdealerz': 1, '@babenicolle': 1, '“YOU': 1, 'HEARD': 1, 'PACK': 1, 'YOUR': 1, 'STUFF”': 1, '@phoebexhagan': 1, '@mikey._3': 1, 'LMAK': 1, '@madison.reep': 1, '@juliana.damico': 1, 'SJJGKSKDHR': 1, 'TWIST': 1, 'LMAOOOOOOOO😂😂😂😂😂': 1, 'OMG😂😂😅': 1, '@katerina_shafer': 1, '@x.amandax': 1, '@luanateixeirasaraiva_': 1, '@uhmnocomment': 1, '@easyyisa': 1, '@ayliiinnnn._': 1, 'ΤΟ': 1, 'ΛΑΤΡΕΨΑΑΑΑΑ😂😂😂😂': 1, '@aesthetic_of_girls_': 1, 'ANAO': 1, 'KAJSJDJFJF': 1, '@_laurxn': 1, '@l.i.bb.y_': 1, '@carteravl': 1, '@madelynnnoelle': 1, 'Traduzione': 1, 'di': 1, 'quello': 1, 'che': 1, 'dicono': 1, '?Grazie😅': 1, '@.ram.ram': 1, '@citlalymartinezzz': 1, '👁💧👄👁💧': 1, '@bby.care': 1, 'срочноооо': 1, 'пеерееевоод': 1, '@emma.kennedyy': 1, '@vanesssasselio': 1, '@1yasminkhan': 1, '@sarah.prah': 1, '@amanah_ahmed00': 1, '@rintominto': 1, '@t4hirx': 1, '@okkea.alex': 1, 'SUCH': 1, 'AN': 1, 'ICON': 1, '@cindy.zoldyck': 1, '@natalia.garciamejia': 1, 'русские?': 1, '@spamkyraaa': 1, 'salty': 1, 'dom': 1, '@ariannaavila07': 1, '@kassidy_dabratt': 1, '@.miasuzette': 1, '@certi_.xhx': 1, '@jigglewiggle789': 1, '@texas.girl': 1, '@sydney.hall0112': 1, 'bryce': 1, 'hall': 1, 'typing........😭': 1, '@rinesaasllanii': 1, '@lileyyp': 1, '@meritas.hasani': 1, 'deka': 1, '@iwilldeleteyourkneecaps0': 1, '@madeline_shakes': 1, '@missvalentino99': 1, '@isharted___': 1, '@spam.nazareta': 1, '@fatimahb13': 1, 'LOL😭🤣': 1, '@manessa243': 1, 'addsion': 1, 'bolling': 1, 'Walter': 1, '@katie.mcvicker2': 1, '@ho3z_mad456': 1, '@romcll': 1, '@rearrangemyorgans': 1, 'IM-': 1, 'INAHALAJAOAKWA': 1, '@hollywood.ary': 1, '@its.grace.m': 1, '@beaninbaby': 1, 'DAUGHTERRR': 1, 'chu': 1, '@remmyksb': 1, '@thatoneyemenigirl': 1, 'KANXOSKS': 1, '@milenag2008': 1, '@antonia_1849': 1, '@d_akota': 1, '@paytonely': 1, 'CRYING😭😭😭😂': 1, 'dying😂😂😂😂😂😅😅😅😅😂😂😂😂😂': 1, 'NOOO😭': 1, '😟😂😂': 1, '@lil._.bailey7': 3, '@alyssa44444440': 4, 'lmaoooooooo': 4, 'END': 4, '😂💀': 4, '@my_fish_drowned_sad': 2, '@deppressed_rehan': 2, 'dyingggg': 2, '😭😭😭😭😭': 2, 'aww': 3, 'addi': 3, 'R.I.P': 3, 'scrolled.': 3, 'why!?': 3, 'LMAOOOOOOOO': 3, '@martaoudishow': 4, '@lavinayousif1': 4, '@mirna.manns': 4, '@lmannz': 4, '@Addison': 3, '@_.j0sie._': 3, 'S09': 3, 'DIEING': 3, 'HagamosEstoViral!!': 3, '🔴:#⚠️ArgentinaSeIncendia⚠': 3, '#JusticiaParaKaren': 3, '#NacimosParaSerLibresNoAsesinadas💜✊': 3, '#MasacreEnColombia': 3, '@ruby_duarte90': 3, '@heitkamp': 4, 'AM': 4, '@nylaisthebestdancer1': 3, 'lol😂😂😂😂': 3, '@laurenb0895': 3, 'nooo': 3, '@ananya_malfoy': 3, 'LFMAOO': 3, 'WINS': 3, '@phatxxidiot': 3, 'Mom’s': 3, 'l': 3, 'GEEKING': 3, '@breanna.n0': 4, '@.gabisilva': 4, 'After': 3, '🤰': 3, '@i_play_roblox_cherry': 3, 'HELPPP': 3, '@destiny.spamzz21': 3, '@chip0tlee': 3, '@kailey.yeliak': 3, '@akixoxo': 3, '@marie_course': 3, 'TIME': 3, '@deeea00': 2, '@patyy.m22': 2, '@saulean_georgiana': 2, '@purrrlaaaa': 4, '@jaylatejeda': 4, 'LMFOAOAOOAAO': 4, 'sont': 4, '@swaggykdub': 3, '@katieadkinsss': 3, '@ryleeshae06': 3, 'closely': 3, 'bed😳': 3, '@its.jada.aaa': 3, '@lilyrisner': 3, '@autumn_rupel': 3, '@___izzyyyy': 2, '@ciara_.odwyer': 2, '@uh.mena0506': 3, '@paris_padilla0': 4, '@j3nnifer.7': 3, '@amy._2006': 3, '@its.lit.lol': 3, '@gru..minis': 3, '@pizza.chqrr': 4, 'SKALDNSKLALA': 4, 'lazar': 6, '🐐': 3, '@adison.miller': 3, '@sadie_duchin_': 3, 'everybody': 3, '@paulina_bartel': 3, 'Looooool': 3, '@aminomgfanpage': 3, '@_sonyauskach': 2, '@dana_motiz': 2, '@draco_malfoy_up_my_guts': 2, '@uh.lolaryan': 3, '@ew_gross_stop': 3, '@uh.rooszumzum': 3, '@friedathijs1': 3, 'AHAHAHAHAHGAGAYSGQYGSAAHAHA': 3, 'LMAO!!!': 2, '@ady_m235': 2, '@21cjwagner': 2, '@leah.devers': 3, 'LMFAOAOAOAOA——': 3, '@bellabackus2': 3, '@jduuubb': 3, 'LMSDF': 3, 'baddie😁': 1, 'Lmaoooo': 3, '@snailicornky': 3, 'WTFFF': 3, '@lailaa_lovess': 3, '@xx.izabelle': 3, 'Sto': 4, 'morendo': 4, '@ch1gx': 4, '@uh.hasti': 3, '@duh._.itslauren': 2, '@uh.bobduncan': 2, 'OMGG': 3, 'EXPECTED': 3, 'Omllllll': 3, 'slow': 3, 'down': 3, 'buddyyytttt😂😂😂😂😂😂😂😳😳😳😳😳😳😳': 3, 'LAWDDD': 4, '@txijch': 2, 'funny😩🤛🏽': 2, 'beam': 3, '@x.georgia28.x': 3, '@si.ennxrana': 3, '@kkyliegracee': 3, '@kamryn_haloe': 3, 'opened': 3, '@bailey9746': 3, '@natalieevans070': 3, 'get+99': 3, 'notification😳😳': 3, '@leocooper01': 3, 'siri': 4, 'bleep😂': 3, '@harppdawggmarryme.pls': 3, '@leah.douglas_': 3, '@hiimgladys': 3, 'OKAY': 3, 'BUT': 3, 'STAN': 3, 'SHERRI': 3, 'seesh': 4, '@greysiek': 4, '@simplysahana': 4, '@taniya...snoppy': 2, '@maddydays': 2, 'omgg😂': 2, '@xx...ava.cardo...xx': 2, '@aoife.mcc': 3, '@eimearcrozier': 3, '@gmccollum123': 3, '@bronagh_crozier': 3, 'Wh': 3, 'what??!!!': 3, 'Noooo': 3, 'wayyy': 3, '@macy..marie': 3, '@kensoto56': 3, 'bryces': 4, '@angievaru_geese': 3, '@thiri.spam': 3, '@pufflecrocs': 2, '@tikketoker': 2, 'nsndmaNNSJDWKKW': 2, 'WHHEEHWHFF': 3, '@_demireeves': 2, '@maribethpower_': 3, '@sarahrobertson07': 3, 'JESUS': 3, 'CHRIST': 3, '@carmelagemma': 3, '@xxaaliyahx': 3, '@.marryum': 3, '@uhh.sabriin': 3, '@xnayab.i9': 3, '@idkwhyihavethisapplol4': 4, '@username...04': 4, '💀💀💀look': 4, '@lindsayfitzpatrick_': 3, '@tinabeena6': 3, \"It's\": 4, 'Laugh': 4, 'Me😂': 4, '@ilovetheslumpgod29': 3, '@itzx.alex': 3, '@chamille_smith': 3, '@ayanna_33': 3, '@ilonasvyy': 3, 'Ahahaha': 3, '@christina.22.06': 4, '@noobfelicia': 3, '@xoxox.victoria': 3, '@hehe_itszoey': 3, '@akaashi_bokuto1': 3, '@sophiathe.first': 3, '@adina_0724': 3, '@lamijaaaaaaa.a': 3, 'HAHAHAHGAUAHAHS': 3, '@nataliaaa818': 3, '@usualdamelio': 4, 'HAHAYWHSTSKABZ': 4, '@rdgznessa': 4, '@amarissalgado': 4, '@fallingfromcl0ud9': 3, 'CANT-': 3, '@carter_miyah22': 4, '@aliyahcarter23': 4, '@natalynnjackson': 4, 'LMAOSOO': 4, '@leahdoup': 3, '@a.n.i.t.s.i.r.c': 3, '@mozlmozlmozl': 3, '@angie01162011': 3, '😂WOW': 3, '@elliesplanet': 3, '@hola.itz.abi': 3, '@christian..hoff': 3, '@lucasilli7': 3, '@jettbott93': 3, '@trincess7': 3, '@mairead_flem10': 3, '@.theyluvvictoria': 3, '@gottaluvv.swedinn': 4, '@isabxllaxrose': 4, '@iloveunicornsandfairies': 4, '@chokemedraco_': 4, '@sophialovesbigogrecoc': 4, '@blue_eyed_blondie2': 4, '@carson_gasser': 3, '@dayzhee': 4, '@nasalspray69': 4, '@jazwozz': 4, '@yoonbumsx': 2, 'rn👁👄👁': 4, '@uh.evxe': 2, '@sadie.jay8': 4, '@ijustwantsomemexicanfood': 2, '@l.ilymairileyyy': 2, '@molly.romeo': 4, '@carlllbrice': 4, 'ACCENT': 4, 'ALSJDKDHDK': 4, '@kaylee_hauge': 3, '@cadence1267': 3, '@shkurte.lsj': 2, 'das': 2, 'kam': 2, 'unerwartet': 2, '@oidaleah': 3, '@sophia.lsc': 3, '@mariah_uana': 3, '@ardenfarden': 4, '@rachel.l1n': 4, 'IMA': 3, 'house?': 3, 'lol😂': 3, '@.....kenziiee': 3, '@..g.i.u.l.i.a.n.a': 4, 'GURL😌❤️😂': 4, 'ilyg': 4, '😂❤️': 4, '@kbkb26': 3, '@rreilly75': 3, '@platypusunicorn': 4, '@yasmin_abu05': 4, '@camrynn.cruz': 4, 'FON': 4, 'DEADDD': 4, '@schmidty.16': 4, 'BAHAHAJJAJAAJ': 2, 'IK': 2, 'SCHREEUWW': 2, '@haneyah..1': 2, 'DAVIDD': 3, '@notajoke1': 4, '@ffionlintzz': 4, '@breili_': 2, '@derpy_1': 3, '@shahids2007': 3, '😂\\U0001f92a': 3, '@mia_roserodriguez': 3, '@nevaehb_11': 3, '@bill_cipers_daughter': 2, '@calm.down.love.its.eva': 2, '@seunghofatc0ochie': 2, '@imsourtype': 2, 'JDKGKDKDJJDDNDNND': 2, 'EVER😂😂😂😂😂😂😂': 4, '@hazza7373': 3, '@beccaxhannon': 3, '@sami_.2006': 2, '@zaraaaa123s': 2, '@yase_yase': 2, '@guelnaz.asanovska': 2, 'pahahahahhaha': 2, 'Hahahahahah': 2, '@uh.brookey': 4, '@i_eat_frogs_': 4, 'UPAOHAHAAHUQ': 3, '@harrystylessugarbby1': 2, '@rxndom_edits1': 2, '@becca.hiles': 2, 'BAJAHSKDHDLSJ': 2, '@thebobamasteravery': 3, '@lexitowerrrr': 3, '@lilyyy.cheeek': 3, '@_emina.z': 3, '@silkech_': 3, 'ahabaha': 3, 'deze': 3, 'wel': 3, 'chat': 4, '@cass.and.ra_': 4, '@savannahbabyyyy': 4, '@tyraking': 4, '@peyton.rhys': 3, '@skylargreenberg1': 3, 'HAHAHHAHA': 3, '@peytonalexx😹😹': 3, 'Sherri': 4, 'super': 4, 'hero': 4, '@donaldtrumpscrustypad': 3, '@imthathan': 3, 'god-': 3, '@piper_tehe': 4, '@oliviabrunson07': 4, 'OMG😂😂😂😂😂': 3, '@ghostingrandex': 3, '@simpsavy': 3, '@_grace_ong_': 2, '@anthea_t_': 2, '@.sherryla': 2, '@itsmejuweriya': 3, '@ava.magee24': 4, '@madisonkmagee20': 4, '@nitzy_princess8': 4, 'uhm': 4, '@cnwfrl': 4, '@kam.kammm': 4, '@char.char._.binx': 4, '@kallelundberggg': 3, '@audreyyharbour': 3, '@rileyhardinnn': 3, '@margaretcamak': 3, 'huil😂😭😭😭😭': 3, 'geweldig': 3, '@jessmaryusep': 3, '@larissabreanne': 3, '@brooklyn0219': 3, 'NOOOO😭😭': 3, '@whoissienna': 4, '@bronwynhornbeck': 4, 'AHAHAHAHHAHAHAHAHHAHAHAHA': 3, 'GOLDEN': 3, '@padraigomahoney': 4, '@richie_delaney05': 4, '@billy.keogh': 4, '@meganritchie08': 4, '@natalee.tano': 3, '@alice.wenzel03': 3, '@fejzic_e1': 4, '@haav1n': 4, '@d1lan1116': 4, 'joke': 4, 'becuz': 4, 'entire': 4, 'world': 4, 'simps': 8, 'steals': 4, '@megrh': 3, '@leahhfordd': 3, '@kiely.grace': 3, '@maya_nicole_': 3, '@fr0ggy55': 3, 'DJDJDJDJDJ': 3, '@ht06_': 3, '@daphne.tindall': 3, '@sass.ie': 3, '@stella._.m2901': 3, '@barberjade': 3, '@bandoaves': 3, '@eloiserebeccax': 3, '@scarlett.joness': 3, '@emily_donahue15': 4, '@przlraph': 3, '@prettyynicc': 3, '@mykayle.c': 3, '@jcs452': 3, '@whyineedtherapy': 3, 'HUH-': 3, '😃': 3, '@kiera.francisx': 3, 'plop': 3, 'stwist😂': 3, '@peppapigs.co0chie.lips': 2, '@lemonkeh0e': 2, 'sum': 2, 'Bqjbavavz': 2, '@hell0.kittz': 3, '@_ashley_tan_': 3, '😳💀': 3, 'ending💀': 4, 'omg@mstavares': 3, '@mggsbigpeen': 3, '@kevin.percy': 3, 'HSHGEH': 3, '@tideoladiranx': 3, '@eleanorcamburn07': 3, '@kiera.ellisx': 3, '@gracepoll1': 3, '@briannaarubio': 4, '@cameronj956': 4, '@uh_fionamay': 4, '@abigotts05': 4, '@hairysponge': 4, '@x.lemya.x': 2, 'AHHAHAHHAHA': 2, '@every.den': 2, '@efaaaaaaaaaa': 2, '@annawhibbbbb': 2, '@amywats0n': 2, 'AHAHHAHAHAHHA': 2, '@greenleejade2': 3, '@..helaena': 4, '@.simpinjanan': 4, '@issabellahhh': 3, '@johnwilly60': 3, 'ramen': 3, '\\\\__🍜’\\\\__/': 3, '@keke.amour.05': 3, '@milyyyiscool': 3, '@910yarelyy': 3, '@lidia_is_the_queen': 3, '@jocelynortega152': 3, '@abby_77_love': 3, '@sydneygodfrey_': 4, 'JAILLLLL': 4, '@uh.aly.kaye': 4, '@gracepruetz': 4, '@iittsslyss': 4, '@angie_m101': 3, '@faeaerie': 3, '@xokaycie_x': 2, '@mike_wazocki': 2, 'dont': 2, '@kamrynbrooks4': 3, '@.paayton29': 3, '@leddenjulia': 3, '@jeanpaulzambrano0': 3, '@joshvtomaz': 3, '@kennedy.eliza0': 3, '@old.rickety': 3, '@janelle23__': 4, '@cierax_': 2, '@x.izzyxlewis': 2, 'bae': 2, 'COLLAB!!': 3, '@jadeeeeeeyyyy': 2, '@sher_a2': 2, '@sierra_gummels': 2, 'HAHAHAHAAHHAHA@chaim.chehin': 2, '@moona.fi': 3, '@uh.hilla': 3, 'oh-': 3, '@7..mia': 2, '@azyiscute': 2, '@chxrlie.on.joycons': 2, '@x.e_f_e.x': 2, '@m.g7354': 2, '@lahvleyy': 3, '@klaudiaelezix': 3, '@alice7262626': 3, 'hon': 3, 'går': 3, 'ingen': 3, 'stans': 3, 'utan': 3, 'hennes': 3, 'mamma': 3, '@allisonmey': 3, '@jozzyraygoza': 3, '@suaiba.x': 3, 'urmmm': 3, '@uhm....chile': 3, '@.littlefroglover': 3, 'GHAAHHAHAJSJDKEE': 3, '@lezlyrivera': 3, '@ciarabbbbbbbbb': 2, '@kk_janes': 2, 'hahahhahaaaa': 2, '@miss._.mercury': 3, '@jaqcuesbieber': 4, '@mara.nobis': 4, '@namine.mae': 3, 'BLEEPED': 3, 'ZISHWBSHJSSBSBHWWJNZBXJSHSJSJWBSBS': 3, '@alva.yanowitz': 2, '@.lilyr': 2, '@isasmellfartin': 2, '@its_jc.tik.tok': 2, '@shreyaa.patell': 2, '@starvibezzs': 4, '@godoftueunderworld': 4, '@fatelephant11': 4, 'DGNRGNRYNRYNETGWRGERBETNRYMRYM😂': 4, '@manjnderkaur_23': 1, '@lakelaharris': 4, '@freezedriedbussy': 4, '@heyy.amina': 3, 'AHAHHAHAHA': 3, '@elpantera0916': 3, '@yvetterodz9': 3, '@mitchell_allonby_': 3, '@barfp3po0': 4, 'popped': 4, '@evierolo': 3, 'SAYS': 3, 'THO-': 3, '@cassidywithac': 2, '@cammy__wammy': 2, '@iyesha2x': 3, '@addiktaylor': 3, '@emr.xo': 3, '@xriiax': 3, 'grandma': 3, '😍😍😍!!': 3, '@uwu.violett': 4, '@gracejohnsto': 4, 'BYEAHAHAH': 3, '@baby_.neisha3': 3, '😂😂😂😂😂😂😂😂😂😂💀💀💀💀💀😭': 3, '✅verification✅': 3, '@olivia.nierman': 4, '@isabel_marian': 4, 'непон': 3, '@zaina_albeige': 3, 'SHERRJ': 3, '@leeannesnoubar': 3, '@annaa803': 3, '@fred.charron': 3, '@00_.username._00': 3, '@darackeeeer': 3, '@royalty.kiaaa1': 4, '@adoremiyahna': 4, '💀💀💀💀💀💀💀': 4, 'JKKKKKJJJJJJKKKLGAARUKKKKKKIjAAQYONGDAILKKKK': 3, '@chisom_lush': 3, '@emilyclarkexo': 3, '@_kyler__': 3, '@k.e.l.l.i.e.c.e': 4, '@da.ojah': 4, '@_mariah.perkins_': 3, '@_noplayadriii': 3, '@aelannnnnniiiiiii': 3, '@kateeee143': 3, '@j.uliet.a': 4, '@judithvaldezb': 4, '@biancaari06': 3, '@kaywhateverxx': 3, 'OMGGGGG': 4, '@iampringlesman': 4, '@rubysilvaaa': 4, 'pardon😃': 4, '@colin_lax15': 3, '@midgelord24': 3, 'started': 3, '@sofimontenegro4': 3, 'funny😅': 3, '@kathryn_jhoward': 3, '@averqx': 3, 'AHSADGAF-': 3, '@b0bthetikt0ker': 2, 'SM': 2, 'HESITATE': 3, '10000000000000000000000': 3, '@rhylea_x': 3, '@bbxcky': 3, 'Ummm\\U0001f92f\\U0001f92f\\U0001f92f\\U0001f92f': 3, '@_o.l.i.v.e._': 4, '@morg063': 4, '@electrarat': 4, 'WHATTTTSBSIBDS': 4, 'THEEEKWNSIDB': 4, 'HECKKKKKSIDKSSB': 4, '@amelia_hayesxxx': 2, '@loiskoiter': 2, '@revolver65': 3, '@reaghan.hall': 3, '@brittannicole': 3, '@sydddddd._': 3, 'KKKKKKKKKKKKK': 3, 'MDS': 3, '\"whyy\"': 3, 'reminded': 3, 'certain': 3, '@pinexapple_bri': 3, 'amazing...': 3, '@sherelle._xo': 2, '@_nicoleee.x': 2, 'ahhahhahahah': 2, '@uh.katiana': 3, '@ca.r.o.l.i.n.e_': 3, '@macenzie_08': 3, '@bxby_kaliyah': 3, 'HAHGFSSSH': 3, '@lyssepoo_': 3, '@uh.sagine': 3, '@sisithedad': 3, '@ackelemi': 3, 'gee': 3, '@avaklink0': 3, '@shayna_316': 3, '@uh.rhyliee': 3, '@r33s3y': 3, '@eemmiillyy_': 3, 'I’LL': 3, 'SEE': 3, '@itzzz..ashlynn': 1, '😯': 1, 'SORRY': 4, 'THID': 4, 'AJJSJE': 4, '@ne0n.appleju1ce': 4, '@sela.r': 4, '@uh.gracen1': 3, 'almost': 6, '@xo.luhv': 3, '@baylee.hogan123': 3, 'هذا': 2, 'شو': 2, 'يصير': 2, 'لاديسون': 2, '@layla_swint12': 3, '@stelinaa_': 3, '@fratseska_tri': 3, '@tzasprit09': 3, '@lilshortyjaky': 3, '@hedwig.pedwig': 4, '@nelliesundstroom': 4, '@shunorina': 4, '@emilychow._': 4, '@hwalshhussey': 4, '@silemariepricklypickles': 4, '@rowen_mxo': 4, 'heck': 4, 'typing💀❤️✨.....': 4, 'Переведите': 4, 'пж': 4, '@connie.xo8': 3, '@_sam.the.simp_': 4, '@ghetto_val': 4, 'OS': 3, 'EXIST': 3, '@luuciaamartin_': 3, 'jajajajjjja': 3, '@kaitlynnsmithhyy': 3, 'LOL😂': 3, '@marilena_poblete': 3, '@maya22136': 3, '@kennahoov_': 3, '@_anna_1506_': 3, '@_lilo_1506_': 3, '@kierstynhalopka': 3, '@emma_halopka': 3, '@badbitchbrookk': 3, 'DYINGGGGGGG': 3, '@kammytherealone_yeah': 4, '@.toph.tehe': 4, 'LMAOSDXCVVBJWWWT': 4, '@jawan2332': 3, 'متتتت': 3, 'موووود': 3, '😭😭😭😂😂😭': 3, '@elvirasjl': 3, '@simran_ax': 3, '@moonira.a': 3, 'HAHHWHA': 3, 'WAATTTTT': 3, 'Я': 2, 'не': 2, 'поняла': 2, 'что': 2, 'сказала': 2, 'её': 2, 'мать\\U0001f97a': 2, '@a_v_a_24': 3, '@thehwlol': 3, 'OML😂😂😂': 3, 'Traductor': 3, 'por': 3, 'favor': 3, '🙏🏻': 3, '@chxdo.x': 4, 'whys': 4, '@lloulou45': 4, '@uglyassrat7': 3, '@staceyyy.1': 3, '@y.felizeee_': 3, '@nia.18': 3, '@amalxia': 4, 'pentru': 3, 'GOODBYE': 4, '@radieschen44': 3, '@freepandaz': 3, 'DAS': 3, 'EHRLICH': 3, 'GEIL': 3, 'HAHAHAHAAHAH': 3, '@.ansleyyy': 4, '@rgwoodham': 4, '@addie123ags': 4, '@sarahak_1234': 4, 'Awe': 3, 'Addisons': 3, '@damonsalvatoreswifeyyyy': 3, '@shelby.bryan': 3, '@jasmine.lk': 3, '@payton.n.08': 3, '@jaceyself2': 3, 'AHAHHAHAHAGAGAGGGAGHAHAHAH': 3, 'BRUHHHH': 3, 'ABAHAHAJAJNEKAKSKSJ': 3, '@n.a.o.m.i.ldn': 3, 'omgggg😭😭.': 3, '@erinj4': 1, 'OMDSSSSSS': 2, '@gal_azulay_': 2, '@lucy.nolann': 2, 'AHAHSGIVSHABA': 2, '@imogengooney': 4, '@emilybroadfoott': 4, '@chelsea_tiktok_walker': 4, '@hgeorgia46': 4, '\\U0001f9da\\u200d♀️✨': 4, 'MANY': 3, 'VERIFIED': 3, 'PPL': 3, 'COMMENTS': 3, '@kayemeff115': 4, '@valeria__anaya': 3, '@elliemckelvie': 4, '@winnieblues_': 4, 'Lmooooooooooo': 3, 'WHEEZEDDDDDDDD': 4, '@ksander.13': 3, '@_maaadiii': 3, '@elaa.mls': 3, '@sara.2561': 3, '@erikau11': 2, '@juliabraylevin': 4, '@sisikosto': 4, '@gracekhuz': 4, '@mialovesdijk': 3, '@spam.alaina': 3, 'bahahahahhaha': 3, '@jovanaa.jokic': 3, 'jankk@helinn._': 3, '@anna_lpi': 2, '@_nant1a_von': 2, '😂😂😂😂😂😂😂MLK': 2, 'H': 2, 'KOILIA': 2, 'M': 2, 'PONAEI😂😂': 2, '@user2309990943310': 3, '@hudaa.fredericks': 3, '@iemaan.fredericks': 3, '@_anasandu_': 4, '@itz.addie22': 4, '@lexi_787': 4, '@kyan_duvall': 3, '😂😂@weebffl': 3, '@heikesteyn1234': 2, 'oo': 2, 'shibit': 2, '@lilsh3p': 3, '@emmalecsico': 3, 'TELLING': 3, 'MONTY!!!!!!!!!!': 3, '@jackpace._': 3, '@loner4life.exe': 3, 'dumped': 3, 'liza': 3, '👁️👄👁️😂': 4, '@._imfive5': 3}\n"
          ],
          "name": "stdout"
        }
      ]
    },
    {
      "cell_type": "markdown",
      "metadata": {
        "id": "ZE2hhna-muvG"
      },
      "source": [
        "**Frequency of Swear Words**\n",
        "\n",
        "*   List item\n",
        "*   List item\n",
        "\n",
        "\n",
        "here i am using dictionary has value and key "
      ]
    },
    {
      "cell_type": "code",
      "metadata": {
        "colab": {
          "base_uri": "https://localhost:8080/"
        },
        "id": "Lmv5eCotxO8W",
        "outputId": "689adfa0-348c-4125-d3cf-6c3159272da5"
      },
      "source": [
        "#next frequency\n",
        "for i in bad_words:\n",
        "    if i in countss:\n",
        "        countss[i] += 1\n",
        "    else:\n",
        "        countss[i] = 1\n",
        "\n",
        "print(countss)"
      ],
      "execution_count": null,
      "outputs": [
        {
          "output_type": "stream",
          "text": [
            "{'But': 22, 'are': 49, 'you': 172, 'giving': 8, 'him': 198, 'a': 313, 'Tesla?': 17, 'he': 204, 'it': 70, 'was': 96, 'just': 27, 'some': 6, 'that': 138, 'all': 18, 'we': 18, 'the': 296, 'your': 50, 'this': 236, 'his': 50, 'to': 139, 'but': 62, 'can': 80, 'my': 107, 'does': 21, '?': 16, 'u': 65, 'is': 233, 'by': 17, 'do': 55, 'be': 60, 'of': 48, 'if': 28, 'and': 68, 'how': 31, 'when': 29, 'from': 21, 'at': 35, 'being': 1, 'me': 65, 'or': 27, 'what': 22, 'as': 3, 'with': 18, 'have': 34, 'i': 97, 'will': 15, 'no': 14, 'their': 2, 'did': 45, 'were': 6, 'our': 2, 'very': 1, 'who': 11, 'they': 13, 'an': 5, 'too': 26, 'lmao': 16, 'been': 6, 'each': 4, 'where': 5, 'am': 8, 'them': 11, 'here': 18, 'omg': 43, 'its': 2, 'damn': 8, 'has': 8, 'job': 2, 'she': 38, 'more': 7, 'end': 8, 'her': 33, 'had': 1, 'lmfao': 1, ':': 3, 'bitch': 4, '-': 1, 'c': 3, '@': 4, 'such': 1, 'shit': 1, 'k': 5, 'wtf': 6}\n"
          ],
          "name": "stdout"
        }
      ]
    },
    {
      "cell_type": "markdown",
      "metadata": {
        "id": "qpQszRnLm2MB"
      },
      "source": [
        "**List to text Conversion**"
      ]
    },
    {
      "cell_type": "code",
      "metadata": {
        "id": "IKLygQURuHZb"
      },
      "source": [
        "# final list convet to text \n",
        "for i in range(len(textlist)):\n",
        "    strr+=textlist[i] + \" \"\n"
      ],
      "execution_count": null,
      "outputs": []
    },
    {
      "cell_type": "markdown",
      "metadata": {
        "id": "5Rn-_Qplm97I"
      },
      "source": [
        "**Upload a File**\n",
        "here i want to upload a PNG picture"
      ]
    },
    {
      "cell_type": "code",
      "metadata": {
        "id": "l7v_42xFI4zY",
        "colab": {
          "resources": {
            "http://localhost:8080/nbextensions/google.colab/files.js": {
              "data": "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",
              "ok": true,
              "headers": [
                [
                  "content-type",
                  "application/javascript"
                ]
              ],
              "status": 200,
              "status_text": ""
            }
          },
          "base_uri": "https://localhost:8080/",
          "height": 109
        },
        "outputId": "ac68add5-b535-4470-a443-ca98222288c4"
      },
      "source": [
        "#upload PNG file here where all the text i am going to write \n",
        "from google.colab import files\n",
        "files.upload()"
      ],
      "execution_count": null,
      "outputs": [
        {
          "output_type": "display_data",
          "data": {
            "text/html": [
              "\n",
              "     <input type=\"file\" id=\"files-ef89013d-c541-494e-966c-0a1ec101ed96\" name=\"files[]\" multiple disabled\n",
              "        style=\"border:none\" />\n",
              "     <output id=\"result-ef89013d-c541-494e-966c-0a1ec101ed96\">\n",
              "      Upload widget is only available when the cell has been executed in the\n",
              "      current browser session. Please rerun this cell to enable.\n",
              "      </output>\n",
              "      <script src=\"/nbextensions/google.colab/files.js\"></script> "
            ],
            "text/plain": [
              "<IPython.core.display.HTML object>"
            ]
          },
          "metadata": {
            "tags": []
          }
        },
        {
          "output_type": "stream",
          "text": [
            "Saving download.png to download.png\n"
          ],
          "name": "stdout"
        },
        {
          "output_type": "execute_result",
          "data": {
            "text/plain": [
              "{'download.png': b'\\x89PNG\\r\\n\\x1a\\n\\x00\\x00\\x00\\rIHDR\\x00\\x00\\x00\\xe1\\x00\\x00\\x00\\xe1\\x08\\x03\\x00\\x00\\x00\\tm\"H\\x00\\x00\\x00\\x9fPLTE\\xff\\xff\\xff\\x02?\\x88\\x00)\\x7f\\x00=\\x87\\x00\\'~\\x009\\x85\\x007\\x84\\x00;\\x86\\x00*\\x7f\\x005\\x84\\x00$}o\\x86\\xb0\\x000\\x82Rp\\xa3\\x003\\x84\\xf7\\xf9\\xfc\\xcd\\xd6\\xe4\\x00.\\x81\\xe0\\xe7\\xf0\\xa9\\xb7\\xd0\\xe8\\xee\\xf4\\x85\\x99\\xbc\\x0bF\\x8d\\xef\\xf3\\xf8\\xd3\\xdb\\xe7\\x1eM\\x90\\x00\"}Ji\\x9f<_\\x99\\xc5\\xcf\\xdf\\x00\\x00u\\xe5\\xea\\xf1\\x96\\xa7\\xc4\\xba\\xc6\\xd9\\x00\\x12x\\x8f\\xa1\\xc1\\xd9\\xe1\\xeby\\x8f\\xb5\\x00\\x19{a|\\xaa\\xad\\xba\\xd1\\xa3\\xb2\\xcc\\xb7\\xc2\\xd63[\\x98\\xc0\\xcb\\xddu\\x8b\\xb3\\x00\\x08w\\'Q\\x92\\x00\\x1d|Om\\xa1\\\\x\\xa8\\x00\\x0cv\\x00\\x00m\\xfb:\\x88\\xef\\x00\\x00\\x16\\x1cIDATx\\x9c\\xed]\\xe9v\\xaa\\xcc\\x12e\\x1e\\x04\\x99dP\\x81\\x88\\x11\\x82\\x88\\x06\\xe3\\xb9\\xef\\xffl\\xb7\\'\\x86\\x06\\xcc\\xc9I\\xd4\\xf8\\xad\\xc5\\xfea\\x10\\xd1\\xf4\\xa6\\xba\\xab\\xaa\\xab\\xab\\x0b\\x86\\x990a\\xc2\\x84\\t\\x13&L\\x980a\\xc2\\x84\\t\\x13&L\\x98\\xd0\\xc2t\\x97\\xc7=::d&>\\xf1\\xab\\xed\\xb99\\xb63?\\xcaw\\xe80{9\\xc2?\\xd1\\xf9W\\x1bt+XI\\xb2\\xc4\\x07es\\xee\\xa2]\\xc0k\\xcc\\xfb\\xe8]\\xba\\xf2\\x8e\\xe6o4\\xed&\\x08\\xaarw:\\xa1C\\x87o\\xceF\\x96\\x02^W\\xfb\\n\\xbdK\\xb4Cn\\x94c\\xdf\\xfe/\\x80/\\x9aC\\xd3\\xce\\xe6%\\x96\\xdaj\\x93\\xef\\x99m\\x94bZ!\\xec\\xb2\\xff\\xd5!y\\x08\\xe1k\\x10\\xa37\\xc6\\xderpo\\x14\\x83c\\xc8\\xf0i<G\\xeffqs}\\x19\\xf7\\x7f\\xe1\\xd9\\x91%\\xe0\\xc5\\xe7g\\xe8\\x8d\\xbf\\xa9O+&\\xa3\\'!\\xb3G\\xdd7\\x95C;\\xc2\\xa2\\x8e_/\\x8fo\\xe3\\xb7\\x90{\\xe4\\xc0\\x83\\x07.\\xb3\\xb2\\xe0\\x9b\\x08\\xbc\\x9a\\x0180\\xd7P\\x9d\\xa6L\\x82.K2\\xa0\\x85\\xb0\\x15\\t\\x13\\x16\\xbcn\\xb6\\xbf\\xd0\\xe4\\x7fDTi\\xf8\\xc0\\xb2\\xd1\\x9f\\x1d2\\x12\\xdaj%J\\xb0\\xdb\\x9a9\\xf8\\xe4B$\\xcc\\xcc\\x8f\\xf5\\xd76\\x02\\xa3\\x80\\xf1\\x98y\\xcc\\xd3\\xa3t?>\\xf0Q\\x08\\xbb\\x9d\\x1b\\xe6\\xf08]\\xba\\xb4Qp\\xa1@\\x99\\xb5g\\x91\\xd3\\'\\x0fi\\x9ds\\xf0\\xb8\\x96~\\x17\\xa5\\xc3hD\\xfd\\xe7oQe\\x17\\xf4\\xc74\\x83\\xb4\\xf8PV\\xd0d\\x9a\\x80\\x1a\\x90v\\x81\\xc6b0\\x7fJ\\x13i\\x91\\xbf\\x91\\xc3\\xa4\\n\\x8b\\x89\\x04VJ]\\xb3)J\\xabL\\x1c\\xfa\\x8bKxm\\x01$}\\x8c\\x18\\x15;\\x08\\xc5y\\x7f\\xe7\\xd6~\\x03\\xee;!\\xf3\\x91\\x94U\\x9c\\xcc\\xd2\\xc1\\x15NRr\\xaf\\x07\\xa03\\x85r\\xe7\\xf4?\\x8c\\x005W\\x8d\\xab\\xfa\\xda\\x97r\\xd3\\xbf\\xe4\\xd7q\\x10\\xf1\\xdf\\x0bT\\x9b\\xcc\\xbe\\xc70\\xdd\\x95\\x82!\\xeb@u2\\x9e-\\x1bB\\xb5\\x1b\\xde\\x02\\xc6_\\x1d\\xc8Q\\xbe\\x8b\\xd7\\x8b;6\\xf6_\\x81G\\xcd%C\\x7f\\xe6C\\xc3\\x9dz+\\xc5\\x90YV\\xc4\"\\x8aD\\x96\\xe5U\\xce\\xf7\\x96\\xbd\\xeb\\xe6\\n9\\x88u\\xf0\\xa3O$\\xc4`\\xcdz\\xb0\\xdb\\xad\\xd1P\\xbc\\x1c\\xe8O\\x97\\x9e/\\xa8\\x80\\x1e`\\xc5\\xe1F\\x07:|\\xc7\\xca\\xaa\\xc0z\\x16}-\\xf9\\xab\\xd0\\xa7\\x7f\\x1f\\xda|\\xa7T\\x0bfiCaZ]=he>\\xa7\\xf2,\\x86Ps?\\xce\\xc8\\x19 I\\xf64\\x94\\xb9\\xa7=\\xa2\\xd5\\xff\\x04\\xc3b\\xe2\\xcbY+s\\xeal|b\\x95\\x86\\x1e\\xcb\\xaam\\xbb3\\xbd9\\xcb\\xab\\n\\xaf\\x1d\\xa9\\xef\\xa5\\xeb\\xe73\\x16K8\\x9d5\\x17e\\xd56\\xed\\xa8\\xa9]z\\xa0SV\\x9d/\\x94b\\xe7\\x13^R\\x8c\\xbcC2\\xec\\xf5\\xf3\\xa7@6\\xef\\xbe3\\xb7\\xb9\\xa1H,\\x05^\\xe9Z\\x08W\\xa7?e!\\xc9\\xc3\\xf3\\x89\\xae\\x03\\xb6\\xb9\\xef\\xc1\\xe1\\xa2\\xdb=zp\\x10\\xd2\\xca\\xff0\\xeb_\\xc0K\\xb6}9<\\x99\\xd3\\xb6\\x89\\x9af;\\xefH\\x00\\xc1~n\\xd8\\x12?\\xe0\\xc7\\xaay\\xef\\xbb\\x9a1\\xbc\\x88\\x17m}\\xbex&\\x92\\xae\\xa2\\x9d=b\\xb6\\xc0\\xbc\\xc0-\\xc2\\xb5.\\x8e\\xd0\\x03\\x83p5\\xf8r%\\x8e]\\xc8\\x8b\\xfa:J\\x9e\\xc7\\x14\\x86V\\xe0\\xa9\\x1fDIl\\x16\\x87\\\\\\xa4\\xb5K;\\x08\\x87\\x1e\\xcc\\xc6\\x1e\\xbd\\x12\\xe8\\xa7\\xfc@{D\\xc7\\\\\\xfa5\\xb9n\\x81\\x82\\xf1\\xa2\\x95\\x8eL\\xda\\n\\xbe\\xc6\\xd0\\x00\\xca\\xfdv+\\xc5\\xc8\\x97\\xf7\\xdc@\\xd2\\xd0<\\xc2\\xfbe\\xf9\\xcdUi\\xa6|\\xec\\x86=\\xe0a\\xe0\\xcc,\"\\xd3\\n\\xef\\x8d\\x98\\xee\\xe5n53(\\x92\\xeax|\"W)z\\xc6\\xac\\xf1\\xe3\\xac7\\xec\\x01:;\\xf6\\xb5\\x08\\x98\\xfc\\x17]T\\xaf\\n\\xc9\\x91\\xb5\\xe6ZW\\xcbI\"\\xa5\\x1d\\x912{\\xe5\\xdb\\xab\\xfa>\\x80\\xd1\\xa7tgUKn\\x86\\xba\\xbe\\x97\\xa7\\xc0\\xdbu\\xdf\\xee\\xd5\\xfc/ \\xad\\xff\\xb9)\\xf3\\xb43\\xe9.\\xe666\\x1a\\xbc\\xd0\\xf7\\xb0k8\\x1c\\xba\\t\\x92\\xad|,(\\xe5\\xb2\\xe4X\\xa3\\x1ez\\xe1\\xce\\xfb\\x8d\\xc8FR\\xb3\\xf1\\xc9\\xc1\\\\e\\x07\\xee\\xb2y\\xc8\\xa1_\\xa3$W\\x7ff\\xc1\\xb1*0\\xf5\\xfb\\xbe\"\\x01\\x0c\\xa5\\xbas0\\xe1\\xdb/\\xa8Vs\\xbd\\xc6\\x8b\\x10L\\x82\\xff\\x16\\n;d\\x08\\x11g\\xc6|\\xe4t\\x8d\\x8b~\\x1a\\x0b\\xea\\x03\\x86lsc\\x8a\\xcf~\\xe0nH.\\x97\\nE\\xaaq\\xf3R\\xd8\\xdd\\xb8+\\x9d\\xf1\\x1b\\xbeX\\n\\xd5l\\xdd\\xb9\\xeb\\xf1\\xed~<\\xd4f\\xb0\\xe9\\xe2\\xb5\\x8d\\xa5 \\x95q\\x8d\\xe17\\xe0\\x08HA\\xe1{\\x83W>\\x98\\x85\\xb2~hP\\xdc\\xe2\\x19\\xc7\\x9f\\x93\\x9b\\x8a=\\xb0[3\\xa4<\\xbd ,\\x8f\\xe2\\xcd~\\xffK\\xc8\\x130\\xa3\\xc0\\xae\\x07\\xf1\\xa2o\\xce\\x90\\x15\\x9a^\\xb2\\xff\\x93<0X\\x1cV\\xda\\x02\\x90\\xb1\\xeb\\x15#W\\xe1\\xff\\xca\\xd0\\\\\\xee\\xbd<Z\\x89\\xaa\\xa1\\xb2U\\xa8\\xed\\xb6\\x83`\\x1b\\x05\\xc2\\x90\\x17\\xc8e\\xd1\\n\\x1c\\xcc\\x1e\\xa5R\\xcdP,\\xbc\\x8a\\x8b\\x1a[\\x1f\\x11\\x17Z\\xb8\\xd6\\xeae\\x12\\xe9\\x8a\\xaeJ2\\xb8\\x13<\\xcb\\xcb\\xa2d\\xd8\\x1c\\x9f\\xef\\xaf\\xb7\\xd8%s+\\x12\\xbab\\xe0\\xd4\\xec\\x00\\x9c\\'\\xc6\\x1bs\\xffn\\x8fb}\\x00B)r\\xac\\x08\\xbcz2;\\xce\\xd0\\xf1|\\xce\\x18\\x99p\\xf0\\x92\\xaeD\\xc5\\x15=[3d\\xf5\\xac9\\x17\\x1d\\xc0\\xc8\\x8f\\x1e$\\xc7\\x8d\\xdf\\x86\\xdd\\xadf*;\\xc6\\xf0\\x18\\xcdF\\'\\x1bDD\\xbap\\x1a\\xbd-\\rCvVG7\\\\\\x81I\\xde\\x1f\\xe8\\x9fz\\xf5\\xca\\xa6\\xd9\\x8aG\\x18\\xcc\\x90\\xb6\\x157:\\t\\xecHR\\x15\\xf2\\x11\\x8e\\x9b\\x86!_{o\\xbbK\\x14=\\xd4\\x1e\\xd6\\xa9\\x07\\xf36^!\\xf4zP\\x1aq\\xd7\\xc5\\xd7B\\x12\\xb2A_\\r\\xda\\x18G\\xed\\xbdU\\xeb\\xc7\\x0c\\xc1>\\xa0\\xb7\\xd6t(z9>\\x13\\xfe\"\\xbf\\x06\\x86\\xd8\\x0f\\xaeu\\x18\\xd6\\xde\\xdb\\xf2s\\xed{/\\xa4BGJ\\x14\\xc3\\xa5?\\x12\\x87\\xb9\\x06^\\xb8\\xd0b\\xec2dg\\x94\\x152\\x93\\x87.\\x86\\xaf\\xba\\x13\\xdd\\xae\\xbd*\\x84\\xc1<\\xffS\\xa8,5\\x88)\\x86\\xb5\\xf7\\x06\\xb19\\x9d3\\xff\\x81\\xd2\\xa4\\xe3e\\x1d\\x19j\\x83\\x00\\xc5_\\xc5\\xc8u{*\\xc5\\xb0\\xf5\\xde\\xac\\x0feg2\\x8b\\xc7\\xc5\\xfc{1\\xcfY\\xa3\\xea\\xc2~\\xbc\\xf7+\\x14gI\\xfb\\xcb&\\xfd\\xcb$\\xd6Z\\xfa\\xc8\\x8b3\\xef\\x98/\\xd6[\\x89\\xb7\\xe966\\x0cK\\x95\\xfd\\x0e\\x84\\xd6\\xef\\xec1\\xe49\\xd413\\xa2M\\xcb\\xfbuS\\x852H\\x11\\xa5+e\\xe3%\\xf8\\x11A\\xe0\\xd8\\xee\\x1a\\x86\\xef:5\\x8e\\xb1\\xf7\\xb6\\xc1\\xc9\\x1d\\x0cw7\\xbbh\\x01\\xd3\\x147\\x8a\\xcd\\xeb\\x88P6\\x84\\xb2\\x0e\\xe3\\x86\\xdf%\\x08\\xa4\\xd8\\x98\\xbcM\\x11\\t\\xddx\\x1d\\xf6\\xde\\xe6\\t|\\xddE\\xf7\"\\xc8\\xe4@\\x19\\x94u\\xa8\\xa2\\xf5\\xd6\\xe0\\x9au\\xd2h\\x99\\xfc\\x1bc\\xb0\\xc1\\xba\\xb3\\x02\\xe5&%\\xd7\\x92D\\xde\\x9b)\\x9e\\xacm$\\xdeM\\x84\\xa6\\n\\xeem\\x1d\\x18\\xac\\xbd5\\xd9\\xe0\\xa8\\xe4\\x8a\\xe4\\x9f\\xb5h\\x17\\xf4\\x02\\x15\\xb3I\\xa2\\x86\\xa4\\x8e\\x12\\xaavQxG\\xd7&^\\xcf\\xad]B\\xde\\xcc\\xd5\\x9a\\x1e\\x1d\\x06\\\\\\xff\\x84`;]\\xea\\x90$\\x92lcow\\x84\\xb9/_4l\\x99\\x81\\xb7\\xc6\\x1b\\xb3\\xaa\\x9f\\x1a\\xc3\\xf8\\xfff\\xe8\\x87\\xe8L\\x97j8I\\xb9\\x06$\\xed\\xe4\\xfe\\x0c\\x01\\xdc\\x9d*\\x1f\\xe0:\\xb4\\xa1T#+D\\xd9\\xf7\\xb5L\\x8d\\xd9XLr\\x93T\\x8a\\xb1~T\\xfaB\\x0c\\xfe\\x91:\\x94\\x1e\\xc4R\\xf81AV\\xf6G~\\x98\\xc1\\xf9F\\x8f[#\\xde_1\\xb9\\xe5Wg\\x13\\x9f\\xe1zot\\x1e7\\x7f\\xd2\\xc6o\\xe6V\\xf9{\\xfb\\xbf\\x00\\xe3\\x9a\\xa8\\xcc{\\x07\\xbf7\\xfbz\\xe1R\\x1b\\xd7k?V3\\x84\\xe1n\\xf4\\xd7\\x81\\xfe\\xbe\\xb3:\\xcd\\xde.\\xb9\\x8d\\x03\\t\\xda\\xe8|\\xfbF\"\\x04s\\x89q!\\xee\\xd7\\xf7\\x95aR\\xc2\\xff\\x9b!=\\xa0\\xa9\\xdc\\xc8H\\x8cn#B`1F\\xc7\\xdb\\xc6\\x96:\\x0c\\xdd\\xdb\\x8fI\\xa2\\xc8\"\\x98\\x87\\xadIr\\xdf2\\xc3\\xf9\\xfe\\x8d\\x08\\x8e\\xa550P\\x8d\\x89\\x1d\\x86\\xc1\\xcdC\\xfc\\x0e\\x89<\\x15\\x1eb8b\\x99\\xbd\\x9f\\xdb\\xc2\\x1ac\\xd1sOg\\xbb\\x0c\\x19\\xf9\\xd6\\xa6\\xc3!\\xf75I0CV\\xe8/\\x04\\xf1_\\t\\xac}\\r\\xea\\xd0\\xb1\\xb1@\\x0fi\\x18\\x06q\\xa1\\x8ddw\\xfc\\x10:\\xfeE\\x94\\x94\\r\\x19\\xf2<}\\x13-\\xecr+\\x02\\x02\\xc7\\xb3:>\"\\xb1*|\\x1e\\xd8K\\x19\\x1d\\x10\\xa5\\x84\\x8e\\xd4\\xfa+\\x12xEq\\x11^\\xee\\xffw\\x13\\xeai\\xccP+m#\\xcc\\x0e\\xf9\\xcd\\x93\\xdf\\x0eop\\xc7\\xc4\\x05\\xa5\\xe1C\\x86\\xacJk6\\xdcI\\xed\\xa5\\x83\\x90J\\xf6v\\x83\\x8e\\xdc\\x15\\\\\\xad\\xd0St\\x1c\\x8a\\xf2\\xcaE\\xa7\\xb1V\\x82Wr\\t\\xbep\\xc3j\\xae\\xb3I\\xd0\\xcf\\x0c\\x82\\xcb(m\\x033\\\\XH\\x9f/n\\xbf\\x12u0\\xf4\\xd5+\\x0e\\x02!\\x86,G\\xc5\\xd8K\\xd4f\\x8e\\xcc\\x13M\\xa3\\xc9\\xcc\\x80\\xf18\\x99LZ\\x13C%\\r\\xfb\\x80\\xee\\x0f\\xdc\\xee\\x954\\xd9\\xce>\\xb4\\x12\\x05\\x9a^\\x1a\\t\\xfd\\xbfq\\xea\\r5\\x0e\\xad~\\x1a\\xd9-\\xe0X\\xf5\\x8a(\\xce\\xb1\\xe8\\x86\\x0fM\\x9c\\xe1t\\x85\\xa1JZ\\xbc\\xe4\\x142|\\x13\\xd8\\x1dagd\\xed\\x86!\\xdc\\xb8\\x80\\x19\\x8at\\xffpq\\xf0\\\\|\\xdc\\x82>f\\xc8\\x8a\\x9d]ud\\x18^cX\\xab\\x0e\\xc9&\\xc3\\x07\\xd9\\x16\\xc0\\xf0\\xa0\\xe8\\rC\\xd1\\xaf\\x19\\xf2\\xb4\\xfbM\"B\\x8fg\\xc8\\xea\\xedXX\\xe8\\x9f1l\\xcc\\xe7\\\\\\xaf\\x83\\x9d*fX\\xca-C^\\xd9\\x12\\x86\\xac\\xdd\\x8d\\x9f\\xefHD\\xe8\\x17\\x18\\xb2\\xed\\xde:23\\xbc\\xc2\\xb09_\\xe8\\xf5V\\xcb\\\\\\x82\\x0c\\x81\\xe8;\\x0c\\xc5\\xa8f\\xd8\\xcd\\\\i\"B\\xbf\\xc1\\xb05\\x19s\\xf13\\x86\\xa2NV\\xe4\\x1d\\x8e#j\\x12\\n\\x9dg.R\\x97!\\xd0\\xa1\\xa4/\\xe8\\xad-0\\x1b\\x87\\x9e0\\xdc8\\xe9ri\\xc5\\xdb{\\xce\\x16\\x1b\\x86mN\\x1eY\\xc1\\x18g\\xa8fv\\xdd9\\xfdz\\x1f\\x94\\x03\\x07\\xee\\x06\\xd8\\xc5.CI\\xdbc\\x86\\x1de\\xda\\xe6\\xf7a\\x86\\xc1\\xeb\\xaa\\xaa\\xd4\\xf9\\xe5\\x86\\x89\\x11\\x9f1lL\\x0693\\xca\\x90\\xf77\\xb3Zu\\xe4z}O|\\x9e\\xaf2\\x89f\\xc8\\xaa;\\xccGmFxg\\xe9\\x0034\\xc1O9`\\x1e5\\x7f\\x10C\\xde\\xc6&C\\xe7\\xaf3\\x944\\xa6\\xc9\\xaa\\xd8\\xdb|\\xfb#>\\xcb\\xf7\\x18\\x82S\\x98a\\xad|\\xdd\\xce\\xe2\\x0fa\\x08|n\\xb8\\x89x~\\xcf\\xb0M\\x87!+c\\x93a\\x7f\"C`!\\xf2Z\\xd6\\x9bf \\x1el\\x98\\x99\\xd1gH\\x9c[\\xa9\\xee\\xd5\\x914`\\xc8c/\\xf9r\\xcf\\x0c\\xa9.C^\\r\\xfe\\xc6\\x10\\x9c\\\\pM\\xe7\\xd4\\x13|\\xe0\\x92\\xd81\\xcd\\x90\\xa5\\x19\\x9a\\xb2<`(\\x80\\xb1x\\x02\\x8d\\xa0\\xb7\\xa1\\xfc\\x14)\\xd5\\xe9\\xbb\\x0c\\x05\\xccD\\xb9\\xce\\x10:\\x06\\x8e`\\x90\\xb7\\'\\xbd\\x8eET\\xfc\\xdf\\x19R\\xe1;\\xa2K\\xef#\\xbb\\xf4\\xad\\x1b}\\xea0\\xac\\x8d\\xbeq}\\x1c\\x1a\\xf0\\x92U\\xbd!q\\xab\\xd4\\x91&bBG\\x19\\xb6\\xf3\\xa7\\x9d\\xddgx\\'\\x98\\xde[\\xc2\\xd4{\\\\[\\x86M\\x14\\x9e\\xbf\\xce\\x10\\xcd$O\\\\\\x82\\xdf\\x06Bm\\xcd\\xb7\\xf6\\'\\x0c\\xdbhT\\x1b\\xa2\\xbc\\xb7\\xc57CAY\\xbf I\\xb4\\x16\\x9f\\xab\\x9d\\xef\\xf2\\xba=\\xd4\\xa1\\xcc\\x0eB\\xd39u\\xd2\\xfa\\x00;\\xeb\\xa3\\x0c;\\xa1\\x1a\\xb7\\xd9\\xb5po\\x86\\x89\\x1a\\x07\\xa4\\x7f5\\x0c\\xdb\\tT\\x8eO\\xd595\\x1d\\x86,\\xa2\\xe6ru\\x04\\xcd\\xd3\\xeb\\xf5?|WF\\x19\\xda\\x1d5\\xd2\\xecZ\\xa8\\x19\\xa6\\x9e6\\xdcf\\xfbc\\x04Q\\xd9\\x0e\\xc4\\x9aag\\x97\\x01\\xb1\\xd4u\\xcbZ\\x86\\xc19A\\x7f+\\xa2\\x92\\x98\\xa3\"\\xd4\\\\\\xd5\\xab\\x0c\\xa9\\x18E\\xed\\xd5\\x10\\x86\\xbb\\xb5Wh\\xef\\xc9m\\xf9\\x01k\\xd0\\x9dR\\x13\\x86|\\'\\x1at\\xc0\\x83J\"\\xf3\\xd2\\x96\\xe1\\xe2\\x15\\xab\\xe1\\x8ck:\\xa7Bn\\x83\\xa5\\\\c\\xc8Sqo\\x93\\x95;\\x0c\\x8f(\\xf9d3\\xba\\x82\\xf3\\x13\\x8cY\\x8bnV2\\xc9\\x08\\xad\\xc3d\\rC\\x93U\\xf1\\x05[\\xa1\\xee\\x9cQ3\\xe9R\\x86\\x16\\x9f0\\xa4\\x83\\x95\\xd6\\xba\\xc30\\xc4?\\xbc\\xbdk\\x00\\x1c3\\xa4\\x03\\x8aD\\xe3\\xf1\"\\xea_5C3\\xd2\\x89T\\x83\\xb5M\\xe4\\xb2\\xd3\\xeb\\xf6\\x87\\xe2\\x15\\x86\\xd2\\x89\\xfe\\x87\\xd8d`\\x86d:\\x13\\\\Y\\xa3\\xba\\r\\x10\\xc3\\xder\\xed\\xbc\\xa6\\xa8\\xec\\xa0>5\\xa00\\xcd=+5\\xf3\\xa0\\xa8\\x8e?\\xa6J\\x9d\\xd3\\x81\\xc2N\\xf5\\xc4\\xaa\\xcb\\xd0\\xee\\x07\\xd2\\x90\\xc9\\xc0\\x0c+\\xdcK\\x96w-\\xdb\\x83\\xa2\\x89\\xbdt\\xd2\\xa2\\xceP\\xe0\\r\\xbb\\xd4<Q\\xd2N\\xa1\\n\\xfcq\\xe9\\xe4!\\xecB)\\xc4G\\xe0\\xb3\\x1c\\x1f\\xe0;u!\\xa7\\xd9\\x96\\xe1\\xba\\x9f\\x8c\\xb0\\x81\\x1d\\x1a3,\\x105su\\xeb\\xaa\\x0bi7_\\x0e\\xb6\\xac\\xbf\\x1dm\\xd3\\xbaW\\xbc,\\x01\\xe1H\\x12\\x96\\xaa\\xa4b\\xf0\\xacL\\x8e\\x9as\\xf8\\x02\\xb9\\xb9\\xa0\\x86<\\xcc\\'\\x81&\\xa3\\x9e\\x01\\xa3\\x97\\x9b\\x87\\xdaL\\xa40\\x9c\\xbdv\\xc0\\x0c\\xa5\\x81\\xf5\\xbd\\xd9\\xc2\\xcc\\xf8\\xd2\\xccE\\xbd\\xb7\\xc5_\\xed\\xbdHa\\xf3\\xc2A\\x0cyi\\x10C(~\\x92HC\\x83\\x1b)\\x1ce\\x02%v_\\x86Z\\x944\\xb5\\x044i6t\\xf0\\x03\\xfdV\\x0b\\x17\\xe3L\\xac\\xd9\\x9d\\x19\\x16\\x1d\\x93\\xaf\\t\\xc3\\xa5\\x13zN\\xf5#p\\xe3\\xf3#\\x8f\\x9b\\xc3\\x9c\\xbe,\\xbeS\\x08*\\xed,\\xeai\\xa3\\x0b|\\xce\\x0f\\xb3\\x85j\\xc8\\xd7\\xec@\\t\\x17M\\x9c\\xa44.\\x83\\xed|7Agu=\\x1f_\\xd9\\xba\\xdcF\\x88\\xca\\xb5bX\\x1b\\xe2\\xc6\\x9c\\xb2\\xcb\\xfa\\xce;\\x83\\xafl{pn\\xb2\\n|U\\x84`\\xa4\\xe0?\\xd09\\xbag\\x18*^2\\x01\\x97\\x8f\\x06I\\xb2\\x7f\\xc8^\\xbf\\x8a\\xd9\\x95(\\xe11_\\xe3\\xa9Yz\\xbf\\xecK\\x80ef\\xfb\\xa0\\x13\\x1d\\xcf\\x8a\\xaa\\r7\\x7f\\x9a\\xe3\\xe5\\x06\\xfe\\t\\x83\\xe2\\x0b\\x08\\xb1&)g`\\x8aw\\'\\x8bI\\xee\\x978\\xb4\\xcct\\x9fd{e:+)\\xe2@\\x92\\x87\\x1f\\xf7S~$\\xd5\\xe4\\xa8\\xc9\\x8a\\xc4\\x1a08\\xe5$\\x95n\\'\\xf7\\x8a\\xe7\\'r\\'W\\x0f\\xb9\\xc2\\x92\\xa2k\\xb4f\\xcf\\x7f\\x9a\\xae \\xf4oZ\\xac\\x19\\n,\\xb4\\xd1$h\\x04\\x87\\xf9[\\xf5\\x80$\\xbe\\rY\\x9f\\x97\\x14\\x89\\n\\\\\\xfe0/\\xaa\\x97\\xe2\\x11#\\xe9!t\\x8b\\x87\\x99\\xc7Gl\\xb9hk>H\\x8a\\xdcVBJ\\xbf\\xb4\\xd7\\xe9\\x1a\\xa4\\xae\\x1e\\x8dO\\xbc\\xd2\\x94I\\x19\\xad;q\\'\\xc4>\\x8f\\x0cV\\xa7C\\xf2\\xaa\"\\xd7\\x92\\xdc\\xfe\\xc0\\xee\\xcbm~G\\xac\\xf1\\xdd\"\"\\xd8\\xd1\\xef\\x97H\\xbb\\x0f\\xcc\\x97\\xed\\x12\\x07\\x95\\xa8\\x0e\\xc9K\\n\\xa9\\xeeT|[\\xdb\\xc8F=\\xce\\xcd\\x99B\\x15\\xb9!\\x11\\xa1b6\\xbf7G\\xd0\\x82%\\x0bn0\\xca9\\xe9\\xe7\\xcb\\xd6;Jv\\xdf\\xa4(\\x1bM\\xf3\\xcd^G\\xa8\\xe3t\\x90\\xe3}\\x87\\xe0\\x9b\\x83\\xb6u\\xa48\\xa3gG\\'#6{f\\x92A\\x85\\xa4\\x7f$\\xd8\\xdf3\\xd3\\xc9\\x17`\\n\\xe9\\x8a\\xcfx\\x1b\\xb0@\\x88g\\x93I\\x89\\x8f\\x1aR\\x8eh\\xbb\\xefi\\xbf\\xfewu#\\xb1\\x9d\\xdc\\x15zgW\\'\\xe7#\\xb0\\x0e\\xd9\\xdb=}\\xd2\"2\\xf7z\\xa7!\\xd4`\\xe9\\xa4\\xd7\\xc4\\xfa\\xbf\\xe6C\\xebQ\\xd7\\x8c\\xd3\\x0cqb\\x86\\xb9\\xcb\\xab\\x99]\\xe6\\xc9\\xe1\\xae\\x85\\x95\\xbd\\xb5\\xdc5\\xb6Gj\\'d\\xe7?\\xbb\\xe5?\\xcd\\xf8\\xf9\\x19m\\x07)\\x86\\xa4T\\xdf\\xfe\\xe5#}d\\xb9\\xb3\\xa0\\xf1\\xdeF\\x19\\xc2\\xbd\\xd0_\\xb7\\xfd\\xaa\\xdc\\xf3d\\xba\\x0c\\x8dz)1\\xbd\\xa8\\x8f\\xac5\\x94\\x10\\x07\\xb9jy\\x08t\\xefI+\\xe5k\\xa3Q\\x9c\\x9d\\xfa\\xb2\\xe90\\xec\\xa6G9\\x1f\\xdc\\xe3\\x0c\\x7f\\xedDmZ\\x1ff\\xb0\\x1f\\x7f\\xc1~!t#r\\xe1p\\xba\\xd4\\xeeVg\\xe9R\\xaf\\xe9\\xc7\\xfa\\x115\\x07\\x96I\\xb0oV\\r\\xf6\\x8d\\xf5\\x1b\\xa98\\x90\\xb0\\xf6\\xa7*\\x87\\x97\\x84h,(\\xd3V\\x1c\\x18xk\\x8fpk\\x16\\xb3L\\x85\\xfa\\x86\\x98\\x8cK\\xed\\xbd\\x8dV\\x8d\\xd8_/\\xaa\\xc0\\x8b\\xba\\xa0\\x8dO\\x12\\x1a\\x86\\x12)+m\\xc6\\x8f\\xacM\\xe3[L:c,\\xa5^\\xd9\\xaf\\xbd\\xb7+\\x95?\\x9c]\\xa5\\xe8\\xa8\\xea\\x07\\xd59U\\xc5\\x0e\\xf7\\xd7t\\xa3K:F\\xbd~\\x97\\x9c\\xa3\\xea\\xf5qC\\x10\\x16\\x99-X\\xb1\\xb9\\xfbKr\\xc3\\xb9\\xab\\x1d\\xc8\\xd9\\x9fJ]\\xb0u\\x03E\\xef\\r]\\x11\\xe4\\xf0\\xd3\\x87>\\xd4\\x11\\x1f\\xb2HX\\x94\\x01t\\xa4\\x1eV\\x9f\\xc6Q\\x99#\\x95kN\\xd2%>O43\\xd3c\\x91xY\\x96y\\xc9\\xde\\xfa\\x9b\\xcd&;\\x1b\\x88\\xb7fb\\x9f>x}\\xd83\\x14v\\xacL\\xc8\\x90\\x8e\\x83\\x13\\x97n^c\\xa8\\xf6\\xd6\\xb6dU\\xe8\\x81\\xa5\\xf7\\x9a\\xeer\\xc1V1@\\xd947g\\xa8\\x13\\x99\\x1dH4?\\xfb\\x8d\\xda\\x1f!&{\\x14n\\xcb\\x10W3\\xab\\x97I]\\\\\\x1b\\x95\\x91\\x1f]\\xfc\\xc3\\x82j\\xa0\\xc2\\xf7\\x15zo\\xa3\\x15\\xe96\\x8bpl\\x8d\\xa3\\x86\\x17\\x15c\\x16\\x1cV\\xa43:\\x85\\x95+8m\\xc9\\xee\\x91\\x9d\\xff)\\x1c0[d\\xf6\\xefx\\xce\\xb4\\x92G\\x18\\xc2}\\x9f\\xba8\\x08\\x9f\\xb5\\x88\\x05Y\\xe7\\xcaayv\\xc0\\x90Jf\\xcf\\xfe\\xe4\\xd9p\\xc5\\xf2\\xbe\\x08\\xb6\\xd0L\\x04I\\x9d\\x14\\x05\\xbc\\xb7\\x1e\\xc3\\xa5G\\x8a|\\xf2\\xc65\\x1d\\x88g_\\xb2!\\xf8\\xfd\\xca\\xe5\\x1c\\xd9TRg\\\\l\\x8a\\xe4\\x9e\\t\\xb3cp\\xe1\\xbe\\xe3x\\xb6j\\x8c\\xdaB\\xe82\\x8c3\\xb6-\\xd4*^[\\x89hf\\xd0r\\xafr\\xf9\\x92\\xc3\\xde\\xda\\xc1\\xbf\\xfcJ\\xd1D\\x84\\xcd\\xd9a\\xf2\\xee\\nB~\\xaeKGm\\xb5^\\xb1]}\\xdcVSQ\\x10^U\\xa4\\xa6\\xde\\xb5u\\xc6\\xb15)`\\xc2\\x87\\x8f\\xbe\\x06\\x96\\x14Q\\xff\\xdcD\\xdba\\x82\\xfd\\\\\\x19\\xd6\\xba\\x1eY2\\xc6\\xdb\\xd1h\\xc0B\\xa6hi\\xd0B6\\xdeD\\x89f\\xd1\\xef\\x95\\xa0?4J2@\\x8f\\xe1\\xb2\\x0eN\\x11\\t\\xa3\\xc5\\xa0\\xf9\\x91R\\xc7&?2E\\x86\\xdex\\x948\\xc7\\xaer*?S\\xc6\\x0f\\x81\\xb9S\\xf0}\\xb6r\\xfb\\xdaDb\\xa4\\xe6\\xc3||\\x89\\x83Wg\\xf6\\x85\\xd6;\\xab_~\\xbaN1;1\\xcd$\\xcf\\xcaxa\\x94\\xa4\\xdd\\xdf\\xa0\\x9d\\x8c\\xed\\x8b\\xe6UN\\xc4\\x1a\\'\\xe8Xw\\xf3W\\x9f\\xe5q\\x14\\xc3\\r\\xb3Q:g\\x96\\x99\\xaf\\x0c\\xeb]\\xb3gZ.\\xe90\\xf8/\\xab\\x8a\\x9f\\xe1\\xab6\\xa5-\\xa2\\x9c\\xe4\\xdf\\xc7\\x11=\\xafjG\\x12\\xedj\\x93\\x05L\\xe1@\\x92\\xbc8\\x96P\\xd9\\xa1\\xc7\\xad\\x9ag\\x96\\xa4g0\\x0e\\x1d\\xff\\xd7\\xc7_\\x0b\\x167-\\xee\\x84R\\xd3]%\\xd0E\\xbd)\\x9f\\x84^g\\xe4\\r\\xae\\xf2:\\x8eM\\x85\\x14\\x8d\\xf9\\xf6\\x90\\x85\\x98\\xaf %)\\xa4k\\xda\\xed\\x00>\\x1bU\\xb9\\xbcS\\xf0\\xa2\\xe8\\xd4\\xe9\\x91\\x8du\\x95P\\\\\\\\\\xd2\\xe9\\x9f\\xe7\\xf9]\\xa4%\\x1a\\xee\\xab]\\x9a\\x9b\\xa4T\\xda\\xf0w\\x93\\x83\\xe0\\xcc\\x9ab\\xe6t\\xa5r\\xf2-\\xd2\\x17\\x1eX\\x98\\xed/\\xc0\\xe3\\x87<f\\xed\\xf0?\\xbao\\xb9EX\\x97go\\xb2\\xa6I&\\xa9\\xa8s\\xe3S\\x0b\\x05\\xdf\\n\\xedwjA^\\x85\\x81-FU\\r\\x12?\\xdd}h\\xdb\\x90$\\xc9|\\xc7\\x1b\\xb3u.,(\\x97\\xdcL\\xc20AG\\x05Z)\\xb5\\x94\\xe7zf\\xc9\\t\\xbbp\\xc7h\\x81\\x9eZ\\xd5S\\x12\\xc1a\\xce\\x01g\\x0e\\xf9\\xd3{\\x0ez.\\x1f\\xfd\\xcc\\xad\\xe3\\x9bg\\xc5\\x1fx\\x15\\xf8t\\xde\\x1d4\\xe5\\xd1\\x13\\xde\\xcf\\x11\\x90t\\xccUl\\x01w\\xdc}\\x1d\\xde~\\xf3pQ\\x95s\\xca8ke,1-\\xc6\\x8b\\x02\\x1a\\x0e\\x90Z\\xd9\\xb3u\\xd1\\x1a\\x96\\xcf\\xb86z\\xd4\\x1f\\x84\\x19\\xd3\\xa24\\x8f9\\x1f\\xf8\\x97\\xd1\\xfd\\xad.\\xee\\x93\\xe6\\xe3\\x02j\\xdfCy\\x00F#0\\xcf\\xa8\\xb5\\xcb\\xf5G\\xe9\\xf74\\x899\\xc8\\x9d\\xac\\xab\\xecjE\\n\\xc5V> U\\xe6\\x07\\xc0\\x0f\\xc2M=\\xec\\x8d\\xf0\\x80\\xee\\xe1\\xaf\\x0b\\xb6uwt^|\\x18zb\\x1f=\\x97\\xff7\\xb8P\\x00Z\\x81\\x17m\\x97\\x88\\xdc\\xb9\\'\\xb3\\x81\\x88\\xb6\\xf3\\xee\\'1\\xdf\\xff\\xfc\\tQpX\\x84\\xe8\\x01\\xa4p\\xc7g\\x8b\\xf4\\x10\\xbf\\x1f\\xb7\\xbd\\xc19k\\xee\\x81\\xc9\\x1c\\xd6O\\xe3\\xa9}\\x82t\\x8d\\x95\\x05\\x1aQGjbh\\xbd\\xea\\xbc\\xfeF\\xc7\\xde\\x1c]$\\xcae\\xff2\\x9b?\\xcfs\\x90\\xfe\\x0e\\\\*\\xf6\\xd4U\\xfa{T\\xd1D\\x0c)\\x9f`\\x97lk\\x17\\xfb\\xb9,\\xfc_\\xb1@\\xd2S\\xbbf\\x9b\\x84\\x9e\\xe8\\xc0\\x94\\x9f2\\xc7\\xf7\\xff\\xc0S\\x80\\x87p\\xa0RL\\xa9\\x82U\\x1b\\xcc\\x90rVP\\xf6Q\\xfcDS\\xc1\\x7f\\xc4\\x96\\x12WI*-u\\xe3\\xa7\\xcf3E\\xba\\t\\xf6\\x8a\\xc8\\x8a\\xf4\\x13\\x82\\x9f\\xdc\\x85\\xf9W\\xc4\\xab\\x8b2\\xaf\\xfe\\x93\\x83\\xee\\xebxD)\\xd9\\t\\x13&L\\x980a\\xc2\\x9d\\xb0H0vT\\x10\\xa2\\x89\\xa8\\x1d\\x07\\xd5\\x8f\\x97\\xe4\\xcc\\xc1#\\xa9\\x18\\xe6\\xc2#\\xfb\\xaa\\xda\\xa3gB\\xa8\\xd8\\x08o\\xdd\\xb9_\\xdex\\xd5\\xd9[o\\xee\\x17\\x88\\xa4p\\xc0k\\x14\\xbd\\xc0\\xcb6\\xe2\\xdbG\\xf5\\x0e]\\xd6\\x80_\\xcf\\xf9\\xd7\\xdbV\\x81\\xba\\x01\\xc2\\x912\\x15f\\xbb\\x04\\xe8\\t4\\xc3%o\\xa0,\\x879\\xac\\x1erx90Le\\x809\\xd5\\xee\\x05t\\x81\\x0b\\xccN\\t\\xedg\\x9b\\x0eS\\x0c\\xcd%\\xea\\xab\\x01\\xa9\\x9c\\xb4L\\xfb\\x0c\\xb3?a\\x04\\x19\\x06g41\\x04\\xc7\\xcbWt\\xad\\xaa1\\xee\\x1f\\xd8\\x7f\\xd3?\\xcf\\xf6\\x80\\xf5.C\\xef\\xfd\\xf5\\x0f\\x10_\\xfa?V\\xf9\\x9f\\xcb\\x1c\\xb9\\xf7\\x97\\xe8D\\xafA\\xc8\\t\\x83\\x18\\x12\\x1e\\x19\\xc7l_Q\\xa8-Z\\xd5G\\xc6\\xb3M\\x8aC\\xdf\\xdd \\x80Y\\xef\\xfb\\xc2\\x0cN/1\\xb3T<\\x07\\x90\\x98o\\xdc\\x137(%\\x8f\\x18:8\\xf1\\xf7\\xb2\\x0e\\xe2W4\\xa7Z\\xf1L\\xf1\\x86B\\x00\\xab\\xdfK\\x15\\x1aG\\xa8\\xbeB\\xfc9\\xc3\\x9d]&\\xac\\r\\x06:*|\\xc0\\x91\\x86\\x06T4\\x18V\\x88!\\xe3\\xfb&,\\x12)l\\xcc\\x19|\\x7f\\x9cI\\x80!\\x9a\\x14\\x97w\\xad\\xce\\xf2\\r\\x84\\xfeq\\x8b\\x00C\\x86|\\x86R\\x9cM\\xc8\\xd0G\\xb2H\\x84q\\x86\\xc7W\\xde\\xcb\\xce\\x97\\xb5\\xcb\\x14\\xaf\\xab\\x9d\\xb6\\xbe\\x88LB\\x18\\xdeu\\xc7\\xf67\\xd0\\x1d\\x87\\xc7h\\xfd\\xba\\xceM\\xcc\\x10\\'Q\\xee\\xd7\\xe3\\x0c\\x19\\xeb\\xc3\\x0f\\x97\\x05\\xfct\\x1b\\xf9\\xf3M\\xe63\\x0b\\xdcK\\xfd\\x87>^\\xed\\x0b\\xa0\\xadE\\xb0\\xcd\\xd79\\x91!ji1\\xbb\\xc2\\x10\\xe1\\xd2|y\\xf5\\xc1\\xc4\\x7f\\xe0R\\xab\\xa9<[\\x84\\xaa\\xc3\\xd0\\xc3\\x05\\xabX\\xcc\\xf0\\x82\\n&^\\x06\\xeb\\xb9\\x98a\\x055\\xa69\\xf3\\x80\\x99\\x87:\\x07j\\x1e\\xf3\\rr\\xb3\\xde\\x9f\\xcd\\xe4\\x87~|D\\xb0\\x98\\x04z&\\x96\\xa01\\xa6p\\xd90\\xcb?\\xa0\\xbf.\\xd6@\\x97\\x9aZ\\xd2\\xf9\\x02f\\xa8\\x9dS\\xc6\\x0ca\\xd1\\xa4Hv\\x19\\xb7\\x82\\xc1\\xd3\\xd39f\\xdc\\xd5]\\x0b]}\\x07\\xd1\\xf9\\x0f\\xc2\\x0bP\\x81\\xf9\\xfb\\x9a{\\t\\x81\\xd0.o\\xff[\\x82!\\xf8\\xb6\\xb6O\\xef&\\x13\\xbct\\xa3P\\x15*\\xa4eF/\\xc6\\x1f\\x11\\xfa\\x07\\xae\\xffn\\xbc\\xaf\\x90;\\x1a\\x82s\\xecs-q\\x03\\xb8\\x0e6\\x87\\x0el\\xe3&&\\x1b\\xe6\\x97\\xb0h\\x8f\\x19\\xc7\\xa6\\t\\xdf;\\xdd\\xd8\\xe8\\x86\\xf8\\xd6\\xcbm\\xf3\\x14\\xb0\\xe6(\\xdd>\\xf4\\xf9\\xd4\\x13&L\\x980a\\xc2\\x84\\t\\x13&L\\x980a\\xc2\\x84\\t\\x13&L\\x980a\\xc2\\x84\\t\\x13&L\\x980a\\xc2\\xb3\\xe0\\xffmR\\x96\\x9br\\xea\\xfb\\x8a\\x00\\x00\\x00\\x00IEND\\xaeB`\\x82'}"
            ]
          },
          "metadata": {
            "tags": []
          },
          "execution_count": 185
        }
      ]
    },
    {
      "cell_type": "markdown",
      "metadata": {
        "id": "A6qaFFN1nJtq"
      },
      "source": [
        "**Generating the Word Cloud**"
      ]
    },
    {
      "cell_type": "code",
      "metadata": {
        "id": "eCv8HfTA7XFD",
        "colab": {
          "base_uri": "https://localhost:8080/"
        },
        "outputId": "5f3ec222-677e-4792-e28b-bf7606188556"
      },
      "source": [
        "# generating the word cloud \n",
        "from PIL import Image\n",
        "\n",
        "background = np.array(Image.open(\"/content/download.png\"))\n",
        "wc=WordCloud(background_color=\"green\",\n",
        "            mask=background)\n",
        "wc.generate(strr)\n",
        "wc.to_file(\"/content/download.png\")\n",
        "\n"
      ],
      "execution_count": null,
      "outputs": [
        {
          "output_type": "execute_result",
          "data": {
            "text/plain": [
              "<wordcloud.wordcloud.WordCloud at 0x7fd129324978>"
            ]
          },
          "metadata": {
            "tags": []
          },
          "execution_count": 186
        }
      ]
    },
    {
      "cell_type": "markdown",
      "metadata": {
        "id": "6ghwzesjnPbj"
      },
      "source": [
        "**Seeing the Word Cloud Generation Image**"
      ]
    },
    {
      "cell_type": "code",
      "metadata": {
        "id": "zyf6a515T9t4",
        "colab": {
          "base_uri": "https://localhost:8080/",
          "height": 317
        },
        "outputId": "0b9bc577-95cd-4ec5-aff1-13ecec22077c"
      },
      "source": [
        "#for show image\n",
        "from IPython.display import Image\n",
        "Image(\"/content/download.png\", width=300, height=300)\n"
      ],
      "execution_count": null,
      "outputs": [
        {
          "output_type": "execute_result",
          "data": {
            "image/png": "[encoded data removed]",
            "text/plain": [
              "<IPython.core.display.Image object>"
            ]
          },
          "metadata": {
            "tags": [],
            "image/png": {
              "width": 300,
              "height": 300
            }
          },
          "execution_count": 187
        }
      ]
    },
    {
      "cell_type": "markdown",
      "metadata": {
        "id": "2hgS7zRunXYD"
      },
      "source": [
        "**Data shape function**\n",
        "here 4861 rows and 20 columns"
      ]
    },
    {
      "cell_type": "code",
      "metadata": {
        "id": "4VV7QWILcQ0n",
        "colab": {
          "base_uri": "https://localhost:8080/"
        },
        "outputId": "8caf9496-de9e-45eb-fa1c-653997eb637a"
      },
      "source": [
        "fd.shape"
      ],
      "execution_count": null,
      "outputs": [
        {
          "output_type": "execute_result",
          "data": {
            "text/plain": [
              "(4861, 20)"
            ]
          },
          "metadata": {
            "tags": []
          },
          "execution_count": 188
        }
      ]
    },
    {
      "cell_type": "markdown",
      "metadata": {
        "id": "dp85SQ3BniyZ"
      },
      "source": [
        "**Getting columns names and data of a specific Column**"
      ]
    },
    {
      "cell_type": "code",
      "metadata": {
        "id": "xIRQBzWrfgtv",
        "colab": {
          "base_uri": "https://localhost:8080/"
        },
        "outputId": "01286d06-65a7-480c-89f4-39605b299ffb"
      },
      "source": [
        "fd.columns\n",
        "fd.text"
      ],
      "execution_count": null,
      "outputs": [
        {
          "output_type": "execute_result",
          "data": {
            "text/plain": [
              "0        But are you giving him a Tesla? Because he des...\n",
              "1                    David was just hoping for some help 😢\n",
              "2        We ain’t forgot that time he tricked us all in...\n",
              "3                                          get him a tesla\n",
              "4                                         david ur so hung\n",
              "                               ...                        \n",
              "19409                               @amalxia was HAHAHAHAA\n",
              "19411                                              GOODBYE\n",
              "19505                                    @valeria__anaya 🥺\n",
              "19510                   @_maaadiii @elaa.mls @sara.2561 💀💀\n",
              "19581                                          @barberjade\n",
              "Name: text, Length: 4861, dtype: object"
            ]
          },
          "metadata": {
            "tags": []
          },
          "execution_count": 160
        }
      ]
    },
    {
      "cell_type": "markdown",
      "metadata": {
        "id": "Y-DWIpgjnsFW"
      },
      "source": [
        "**Print all the data of a single column using loop**"
      ]
    },
    {
      "cell_type": "code",
      "metadata": {
        "id": "XapAHM-jc4Dw"
      },
      "source": [
        "for i in fd.like_count:\n",
        "  print(i)"
      ],
      "execution_count": null,
      "outputs": []
    },
    {
      "cell_type": "markdown",
      "metadata": {
        "id": "rbL0Se6pn0Sf"
      },
      "source": [
        "**Checking maximum number of like using max function**"
      ]
    },
    {
      "cell_type": "code",
      "metadata": {
        "colab": {
          "base_uri": "https://localhost:8080/"
        },
        "id": "vIUhR6cxdPHJ",
        "outputId": "a1f00784-5574-4390-a259-a7819f878b44"
      },
      "source": [
        "fd.like_count.max()"
      ],
      "execution_count": null,
      "outputs": [
        {
          "output_type": "execute_result",
          "data": {
            "text/plain": [
              "337153"
            ]
          },
          "metadata": {
            "tags": []
          },
          "execution_count": 162
        }
      ]
    },
    {
      "cell_type": "markdown",
      "metadata": {
        "id": "qADhgN0rn-d7"
      },
      "source": [
        "**Use of min Function**"
      ]
    },
    {
      "cell_type": "code",
      "metadata": {
        "colab": {
          "base_uri": "https://localhost:8080/"
        },
        "id": "ccASQSwtdUii",
        "outputId": "e47f0605-fdb4-4dcd-ff46-d26e381a7379"
      },
      "source": [
        "fd.like_count.min()"
      ],
      "execution_count": null,
      "outputs": [
        {
          "output_type": "execute_result",
          "data": {
            "text/plain": [
              "0"
            ]
          },
          "metadata": {
            "tags": []
          },
          "execution_count": 163
        }
      ]
    },
    {
      "cell_type": "markdown",
      "metadata": {
        "id": "hCSW9b2foERm"
      },
      "source": [
        "**Use of Mean**"
      ]
    },
    {
      "cell_type": "code",
      "metadata": {
        "colab": {
          "base_uri": "https://localhost:8080/"
        },
        "id": "PeP9KOHedXy3",
        "outputId": "e85c9e5a-c78e-4e7f-904a-da490e9bb004"
      },
      "source": [
        "fd.like_count.mean()"
      ],
      "execution_count": null,
      "outputs": [
        {
          "output_type": "execute_result",
          "data": {
            "text/plain": [
              "286.3318247274223"
            ]
          },
          "metadata": {
            "tags": []
          },
          "execution_count": 164
        }
      ]
    },
    {
      "cell_type": "markdown",
      "metadata": {
        "id": "geCEbivxoLk-"
      },
      "source": [
        "**Use of Median**"
      ]
    },
    {
      "cell_type": "code",
      "metadata": {
        "colab": {
          "base_uri": "https://localhost:8080/"
        },
        "id": "HLyBBXEMfXBY",
        "outputId": "b62b3b2f-2cc8-49fe-8773-922216e34ef5"
      },
      "source": [
        "fd.like_count.median()"
      ],
      "execution_count": null,
      "outputs": [
        {
          "output_type": "execute_result",
          "data": {
            "text/plain": [
              "2.0"
            ]
          },
          "metadata": {
            "tags": []
          },
          "execution_count": 165
        }
      ]
    },
    {
      "cell_type": "markdown",
      "metadata": {
        "id": "jKS5M5KPrsX8"
      },
      "source": [
        "**Filter on whole comment and writing it onto a different text**\n",
        "\n",
        "*   here i am using a nested loop\n",
        "*   and a single condition\n",
        "\n"
      ]
    },
    {
      "cell_type": "code",
      "metadata": {
        "id": "VdLPNaFkosFr"
      },
      "source": [
        "f= open(\"/content/drive/MyDrive/project_data/final_comments.txt\",\"w\")\n",
        "for i in fd.text:\n",
        "  for j in final_list:\n",
        "    if j in i:\n",
        "      pass\n",
        "    else:\n",
        "      f.write(i+'\\n')\n",
        "f.close()"
      ],
      "execution_count": null,
      "outputs": []
    },
    {
      "cell_type": "markdown",
      "metadata": {
        "id": "l-MJ-aB5sBaz"
      },
      "source": [
        "**Here is reading the filtered comments and removing the duplicates**"
      ]
    },
    {
      "cell_type": "code",
      "metadata": {
        "id": "tWhRbsxToTew"
      },
      "source": [
        "cmnt_list = []\n",
        "cmnt = open('/content/drive/MyDrive/project_data/final_comments.txt', 'r')\n",
        "if cmnt.mode == 'r':\n",
        "  cmnt_wrd = cmnt.read()\n",
        "for i in range(len(cmnt_wrd)):\n",
        "  cmnt_list.insert(i,cmnt_wrd[i])\n",
        "\n",
        "cmnt_list = cmnt_wrd.split('\\n')\n",
        "\n",
        "cmnt_list = list(dict.fromkeys(cmnt_list))\n",
        "cmnt_list\n",
        "\n"
      ],
      "execution_count": null,
      "outputs": []
    },
    {
      "cell_type": "code",
      "metadata": {
        "id": "jAV1brRB1usE",
        "colab": {
          "base_uri": "https://localhost:8080/",
          "height": 204
        },
        "outputId": "9e39dc8a-b153-4db4-9667-bd735b2d4b25"
      },
      "source": [
        "reg_df = fd[['comment_id','video_id','like_count']]\n",
        "reg_df.head()"
      ],
      "execution_count": null,
      "outputs": [
        {
          "output_type": "execute_result",
          "data": {
            "text/html": [
              "<div>\n",
              "<style scoped>\n",
              "    .dataframe tbody tr th:only-of-type {\n",
              "        vertical-align: middle;\n",
              "    }\n",
              "\n",
              "    .dataframe tbody tr th {\n",
              "        vertical-align: top;\n",
              "    }\n",
              "\n",
              "    .dataframe thead th {\n",
              "        text-align: right;\n",
              "    }\n",
              "</style>\n",
              "<table border=\"1\" class=\"dataframe\">\n",
              "  <thead>\n",
              "    <tr style=\"text-align: right;\">\n",
              "      <th></th>\n",
              "      <th>comment_id</th>\n",
              "      <th>video_id</th>\n",
              "      <th>like_count</th>\n",
              "    </tr>\n",
              "  </thead>\n",
              "  <tbody>\n",
              "    <tr>\n",
              "      <th>0</th>\n",
              "      <td>6816879848683438085</td>\n",
              "      <td>6816821384652557574</td>\n",
              "      <td>161</td>\n",
              "    </tr>\n",
              "    <tr>\n",
              "      <th>1</th>\n",
              "      <td>6816846992812015622</td>\n",
              "      <td>6816821384652557574</td>\n",
              "      <td>1165</td>\n",
              "    </tr>\n",
              "    <tr>\n",
              "      <th>2</th>\n",
              "      <td>6816942564911628294</td>\n",
              "      <td>6816821384652557574</td>\n",
              "      <td>249</td>\n",
              "    </tr>\n",
              "    <tr>\n",
              "      <th>3</th>\n",
              "      <td>6816824764519301125</td>\n",
              "      <td>6816821384652557574</td>\n",
              "      <td>4038</td>\n",
              "    </tr>\n",
              "    <tr>\n",
              "      <th>4</th>\n",
              "      <td>6816821633249001477</td>\n",
              "      <td>6816821384652557574</td>\n",
              "      <td>100</td>\n",
              "    </tr>\n",
              "  </tbody>\n",
              "</table>\n",
              "</div>"
            ],
            "text/plain": [
              "            comment_id             video_id  like_count\n",
              "0  6816879848683438085  6816821384652557574         161\n",
              "1  6816846992812015622  6816821384652557574        1165\n",
              "2  6816942564911628294  6816821384652557574         249\n",
              "3  6816824764519301125  6816821384652557574        4038\n",
              "4  6816821633249001477  6816821384652557574         100"
            ]
          },
          "metadata": {
            "tags": []
          },
          "execution_count": 168
        }
      ]
    },
    {
      "cell_type": "markdown",
      "metadata": {
        "id": "j1y___zNWoaD"
      },
      "source": [
        "**Starting Regression**"
      ]
    },
    {
      "cell_type": "markdown",
      "metadata": {
        "id": "0YPXpg6-tlso"
      },
      "source": [
        "**Ploting the graph**\n",
        "here is **like_count** on Y-Axis and **Video_id** on X-axis"
      ]
    },
    {
      "cell_type": "code",
      "metadata": {
        "colab": {
          "base_uri": "https://localhost:8080/",
          "height": 291
        },
        "id": "nF-m7QmdwKzI",
        "outputId": "20736769-88d6-4212-b0d0-25d9b5fce6e4"
      },
      "source": [
        "plt.scatter(reg_df.like_count,reg_df.video_id, color='green')\n",
        "plt.ylabel('like_count')\n",
        "plt.xlabel('video_id')\n",
        "plt.show()"
      ],
      "execution_count": null,
      "outputs": [
        {
          "output_type": "display_data",
          "data": {
            "image/png": "[encoded data removed]",
            "text/plain": [
              "<Figure size 432x288 with 1 Axes>"
            ]
          },
          "metadata": {
            "tags": [],
            "needs_background": "light"
          }
        }
      ]
    },
    {
      "cell_type": "markdown",
      "metadata": {
        "id": "wc8C1-jSt96U"
      },
      "source": [
        "**Dividing the data into 80% into indx variable**"
      ]
    },
    {
      "cell_type": "code",
      "metadata": {
        "id": "t9XIN5ykw1-Q",
        "colab": {
          "base_uri": "https://localhost:8080/"
        },
        "outputId": "6677a6c1-6869-40dd-bdde-e440334436e6"
      },
      "source": [
        "indx = np.random.rand(len(reg_df))<0.8\n",
        "indx"
      ],
      "execution_count": null,
      "outputs": [
        {
          "output_type": "execute_result",
          "data": {
            "text/plain": [
              "array([ True,  True, False, ...,  True, False,  True])"
            ]
          },
          "metadata": {
            "tags": []
          },
          "execution_count": 170
        }
      ]
    },
    {
      "cell_type": "markdown",
      "metadata": {
        "id": "0DQQ4sl3uQNP"
      },
      "source": [
        "**Here is Train and test variable holding data**"
      ]
    },
    {
      "cell_type": "code",
      "metadata": {
        "id": "CvJUFyKLyklo"
      },
      "source": [
        "train = reg_df[indx]\n",
        "test = reg_df[~indx]"
      ],
      "execution_count": null,
      "outputs": []
    },
    {
      "cell_type": "markdown",
      "metadata": {
        "id": "8lKQbbCHuh25"
      },
      "source": [
        "**Seeing the shape of train variable**"
      ]
    },
    {
      "cell_type": "code",
      "metadata": {
        "colab": {
          "base_uri": "https://localhost:8080/"
        },
        "id": "fONxI4fNyrsE",
        "outputId": "bbd8e684-1372-414f-b4ca-2e9ef8a99d3d"
      },
      "source": [
        "train.shape"
      ],
      "execution_count": null,
      "outputs": [
        {
          "output_type": "execute_result",
          "data": {
            "text/plain": [
              "(3937, 3)"
            ]
          },
          "metadata": {
            "tags": []
          },
          "execution_count": 172
        }
      ]
    },
    {
      "cell_type": "code",
      "metadata": {
        "id": "G2Yzw_P9yzv1"
      },
      "source": [
        "from sklearn import linear_model\n",
        "lreg = linear_model.LinearRegression()\n"
      ],
      "execution_count": null,
      "outputs": []
    },
    {
      "cell_type": "code",
      "metadata": {
        "id": "x7F2-kMgy0yr",
        "colab": {
          "base_uri": "https://localhost:8080/"
        },
        "outputId": "6f17e503-bdce-4da5-bf8c-a03845ded3fc"
      },
      "source": [
        "#Convert your data independent variable and dependaent variable\n",
        "train_x = np.asanyarray(train['video_id'])\n",
        "train_y = np.asanyarray(train['like_count'])\n",
        "lreg.fit(train_x.reshape(-1,1),train_y)\n"
      ],
      "execution_count": null,
      "outputs": [
        {
          "output_type": "execute_result",
          "data": {
            "text/plain": [
              "LinearRegression(copy_X=True, fit_intercept=True, n_jobs=None, normalize=False)"
            ]
          },
          "metadata": {
            "tags": []
          },
          "execution_count": 174
        }
      ]
    },
    {
      "cell_type": "code",
      "metadata": {
        "id": "EEMDm2_4zFMC",
        "colab": {
          "base_uri": "https://localhost:8080/"
        },
        "outputId": "94a03ef0-4fa8-494f-8a96-c00af61bc7f2"
      },
      "source": [
        "print('Theta-0: ', lreg.coef_)\n",
        "print('Intercept:' , lreg.intercept_)"
      ],
      "execution_count": null,
      "outputs": [
        {
          "output_type": "stream",
          "text": [
            "Theta-0:  [-1.6600354e-14]\n",
            "Intercept: 114030.84099820373\n"
          ],
          "name": "stdout"
        }
      ]
    },
    {
      "cell_type": "markdown",
      "metadata": {
        "id": "QFrNKvhivV1E"
      },
      "source": [
        "**Testing**\n"
      ]
    },
    {
      "cell_type": "code",
      "metadata": {
        "id": "5B3RE4eNzGKJ",
        "colab": {
          "base_uri": "https://localhost:8080/"
        },
        "outputId": "41382380-fb25-43be-ce9b-9b75d8c66362"
      },
      "source": [
        "y_hat = lreg.predict([[6816821384652557574]])\n",
        "y_hat"
      ],
      "execution_count": null,
      "outputs": [
        {
          "output_type": "execute_result",
          "data": {
            "text/plain": [
              "array([869.19304734])"
            ]
          },
          "metadata": {
            "tags": []
          },
          "execution_count": 176
        }
      ]
    },
    {
      "cell_type": "code",
      "metadata": {
        "id": "0GE8CjUTzNO3"
      },
      "source": [
        "test_x = np.asanyarray(test['video_id'])\n",
        "test_y = np.asanyarray(test['like_count'])\n",
        "test_y_hat = lreg.predict(test_x.reshape(-1,1))"
      ],
      "execution_count": null,
      "outputs": []
    },
    {
      "cell_type": "code",
      "metadata": {
        "id": "MAIfqz5tzUMs",
        "colab": {
          "base_uri": "https://localhost:8080/"
        },
        "outputId": "ac654513-cf49-4d16-938a-ffe7ff322428"
      },
      "source": [
        "test_x\n",
        "test_y_hat"
      ],
      "execution_count": null,
      "outputs": [
        {
          "output_type": "execute_result",
          "data": {
            "text/plain": [
              "array([869.19304734, 869.19304734, 869.19304734, 869.19304734,\n",
              "       869.19304734, 869.19304734, 869.19304734, 869.19304734,\n",
              "       869.19304734, 869.19304734, 869.19304734, 869.19304734,\n",
              "       869.19304734, 869.19304734, 869.19304734, 869.19304734,\n",
              "       869.19304734, 869.19304734, 869.19304734, 869.19304734,\n",
              "       869.19304734, 869.19304734, 869.19304734, 869.19304734,\n",
              "       869.19304734, 869.19304734, 869.19304734, 869.19304734,\n",
              "       869.19304734, 869.19304734, 869.19304734, 869.19304734,\n",
              "       869.19304734, 869.19304734, 869.19304734, 869.19304734,\n",
              "       869.19304734, 869.19304734, 869.19304734, 869.19304734,\n",
              "       869.19304734, 869.19304734, 869.19304734, 869.19304734,\n",
              "       869.19304734, 869.19304734, 869.19304734, 869.19304734,\n",
              "       869.19304734, 869.19304734, 869.19304734, 869.19304734,\n",
              "       869.19304734, 869.19304734, 869.19304734, 869.19304734,\n",
              "       869.19304734, 869.19304734, 869.19304734, 869.19304734,\n",
              "       869.19304734, 869.19304734, 869.19304734, 869.19304734,\n",
              "       869.19304734, 869.19304734, 869.19304734, 869.19304734,\n",
              "       869.19304734, 869.19304734, 869.19304734, 869.19304734,\n",
              "       869.19304734, 869.19304734, 869.19304734, 869.19304734,\n",
              "       869.19304734, 869.19304734, 869.19304734, 869.19304734,\n",
              "       869.19304734, 869.19304734, 869.19304734, 869.19304734,\n",
              "       869.19304734, 869.19304734, 869.19304734, 869.19304734,\n",
              "       869.19304734, 869.19304734, 869.19304734, 869.19304734,\n",
              "       869.19304734, 869.19304734, 869.19304734, 869.19304734,\n",
              "       869.19304734, 869.19304734, 869.19304734, 869.19304734,\n",
              "       869.19304734, 869.19304734, 869.19304734, 869.19304734,\n",
              "       869.19304734, 869.19304734, 869.19304734, 869.19304734,\n",
              "       869.19304734, 869.19304734, 869.19304734, 869.19304734,\n",
              "       869.19304734, 869.19304734, 869.19304734, 869.19304734,\n",
              "       869.19304734, 869.19304734, 869.19304734, 869.19304734,\n",
              "       869.19304734, 869.19304734, 869.19304734, 869.19304734,\n",
              "       869.19304734, 869.19304734, 869.19304734, 869.19304734,\n",
              "       869.19304734, 869.19304734, 869.19304734, 869.19304734,\n",
              "       869.19304734, 869.19304734, 869.19304734, 869.19304734,\n",
              "       869.19304734, 869.19304734, 869.19304734, 869.19304734,\n",
              "       869.19304734, 869.19304734, 869.19304734, 869.19304734,\n",
              "       869.19304734, 869.19304734, 869.19304734, 869.19304734,\n",
              "       869.19304734, 869.19304734, 869.19304734, 869.19304734,\n",
              "       869.19304734, 869.19304734, 869.19304734, 869.19304734,\n",
              "       869.19304734, 869.19304734, 869.19304734, 869.19304734,\n",
              "       869.19304734, 869.19304734, 869.19304734, 869.19304734,\n",
              "       869.19304734, 869.19304734, 869.19304734, 869.19304734,\n",
              "       869.19304734, 869.19304734, 869.19304734, 869.19304734,\n",
              "       869.19304734, 869.19304734, 869.19304734, 869.19304734,\n",
              "       869.19304734, 869.19304734, 869.19304734, 869.19304734,\n",
              "       869.19304734, 869.19304734, 869.19304734, 869.19304734,\n",
              "       869.19304734, 869.19304734, 869.19304734, 869.19304734,\n",
              "       869.19304734, 869.19304734, 869.19304734, 869.19304734,\n",
              "       869.19304734, 869.19304734, 869.19304734, 869.19304734,\n",
              "       869.19304734, 869.19304734, 869.19304734, 869.19304734,\n",
              "       869.19304734, 869.19304734, 869.19304734, 869.19304734,\n",
              "       869.19304734, 869.19304734, 869.19304734, 869.19304734,\n",
              "       869.19304734, 869.19304734, 869.19304734, 869.19304734,\n",
              "       869.19304734, 869.19304734, 869.19304734, 869.19304734,\n",
              "       869.19304734, 869.19304734, 869.19304734, 869.19304734,\n",
              "       869.19304734, 869.19304734, 869.19304734, 869.19304734,\n",
              "       869.19304734, 869.19304734, 869.19304734, 869.19304734,\n",
              "       869.19304734, 869.19304734, 869.19304734, 869.19304734,\n",
              "       869.19304734, 869.19304734, 869.19304734, 869.19304734,\n",
              "       869.19304734, 869.19304734, 869.19304734, 869.19304734,\n",
              "       869.19304734, 869.19304734, 869.19304734, 869.19304734,\n",
              "       869.19304734, 869.19304734, 869.19304734, 869.19304734,\n",
              "       869.19304734, 869.19304734, 869.19304734, 869.19304734,\n",
              "       869.19304734, 869.19304734, 869.19304734, 869.19304734,\n",
              "       869.19304734, 869.19304734, 869.19304734, 869.19304734,\n",
              "       869.19304734, 869.19304734, 869.19304734, 869.19304734,\n",
              "       869.19304734, 869.19304734, 869.19304734, 869.19304734,\n",
              "       869.19304734, 869.19304734, 869.19304734, 869.19304734,\n",
              "       869.19304734, 869.19304734, 869.19304734, 869.19304734,\n",
              "       869.19304734, 869.19304734, 869.19304734, 869.19304734,\n",
              "       869.19304734, 869.19304734, 869.19304734, 869.19304734,\n",
              "       869.19304734, 869.19304734, 869.19304734, 869.19304734,\n",
              "       869.19304734, 869.19304734, 869.19304734, 869.19304734,\n",
              "       869.19304734, 869.19304734, 869.19304734, 869.19304734,\n",
              "       869.19304734, 869.19304734, 869.19304734, 869.19304734,\n",
              "       869.19304734, 869.19304734, 869.19304734, 869.19304734,\n",
              "       869.19304734, 869.19304734, 869.19304734, 869.19304734,\n",
              "       869.19304734, 869.19304734, 869.19304734, 869.19304734,\n",
              "       869.19304734, 869.19304734, 869.19304734,   1.51257253,\n",
              "         1.51257253,   1.51257253,   1.51257253,   1.51257253,\n",
              "         1.51257253,   1.51257253,   1.51257253,   1.51257253,\n",
              "         1.51257253,   1.51257253,   1.51257253,   1.51257253,\n",
              "         1.51257253,   1.51257253,   1.51257253,   1.51257253,\n",
              "         1.51257253,   1.51257253,   1.51257253,   1.51257253,\n",
              "         1.51257253,   1.51257253,   1.51257253,   1.51257253,\n",
              "         1.51257253,   1.51257253,   1.51257253,   1.51257253,\n",
              "         1.51257253,   1.51257253,   1.51257253,   1.51257253,\n",
              "         1.51257253,   1.51257253,   1.51257253,   1.51257253,\n",
              "         1.51257253,   1.51257253,   1.51257253,   1.51257253,\n",
              "         1.51257253,   1.51257253,   1.51257253,   1.51257253,\n",
              "         1.51257253,   1.51257253,   1.51257253,   1.51257253,\n",
              "         1.51257253,   1.51257253,   1.51257253,   1.51257253,\n",
              "         1.51257253,   1.51257253,   1.51257253,   1.51257253,\n",
              "         1.51257253,   1.51257253,   1.51257253,   1.51257253,\n",
              "         1.51257253,   1.51257253,   1.51257253,   1.51257253,\n",
              "         1.51257253,   1.51257253,   1.51257253,   1.51257253,\n",
              "         1.51257253,   1.51257253,   1.51257253,   1.51257253,\n",
              "         1.51257253,   1.51257253,   1.51257253,   1.51257253,\n",
              "         1.51257253,   1.51257253,   1.51257253,   1.51257253,\n",
              "         1.51257253,   1.51257253,   1.51257253,   1.51257253,\n",
              "         1.51257253,   1.51257253,   1.51257253,   1.51257253,\n",
              "         1.51257253,   1.51257253,   1.51257253,   1.51257253,\n",
              "         1.51257253,   1.51257253,   1.51257253,   1.51257253,\n",
              "         1.51257253,   1.51257253,   1.51257253,   1.51257253,\n",
              "         1.51257253,   1.51257253,   1.51257253,   1.51257253,\n",
              "         1.51257253,   1.51257253,   1.51257253,   1.51257253,\n",
              "         1.51257253,   1.51257253,   1.51257253,   1.51257253,\n",
              "         1.51257253,   1.51257253,   1.51257253,   1.51257253,\n",
              "         1.51257253,   1.51257253,   1.51257253,   1.51257253,\n",
              "         1.51257253,   1.51257253,   1.51257253,   1.51257253,\n",
              "         1.51257253,   1.51257253,   1.51257253,   1.51257253,\n",
              "         1.51257253,   1.51257253,   1.51257253,   1.51257253,\n",
              "         1.51257253,   1.51257253,   1.51257253,   1.51257253,\n",
              "         1.51257253,   1.51257253,   1.51257253,   1.51257253,\n",
              "         1.51257253,   1.51257253,   1.51257253,   1.51257253,\n",
              "         1.51257253,   1.51257253,   1.51257253,   1.51257253,\n",
              "         1.51257253,   1.51257253,   1.51257253,   1.51257253,\n",
              "         1.51257253,   1.51257253,   1.51257253,   1.51257253,\n",
              "         1.51257253,   1.51257253,   1.51257253,   1.51257253,\n",
              "         1.51257253,   1.51257253,   1.51257253,   1.51257253,\n",
              "         1.51257253,   1.51257253,   1.51257253,   1.51257253,\n",
              "         1.51257253,   1.51257253,   1.51257253,   1.51257253,\n",
              "         1.51257253,   1.51257253,   1.51257253,   1.51257253,\n",
              "         1.51257253,   1.51257253,   1.51257253,   1.51257253,\n",
              "         1.51257253,   1.51257253,   1.51257253,   1.51257253,\n",
              "         1.51257253,   1.51257253,   1.51257253,   1.51257253,\n",
              "         1.51257253,   1.51257253,   1.51257253,   1.51257253,\n",
              "         1.51257253,   1.51257253,   1.51257253,   1.51257253,\n",
              "         1.51257253,   1.51257253,   1.51257253,   1.51257253,\n",
              "         1.51257253,   1.51257253,   1.51257253,   1.51257253,\n",
              "         1.51257253,   1.51257253,   1.51257253,   1.51257253,\n",
              "         1.51257253,   1.51257253,   1.51257253,   1.51257253,\n",
              "         1.51257253,   1.51257253,   1.51257253,   1.51257253,\n",
              "         1.51257253,   1.51257253,   1.51257253,   1.51257253,\n",
              "         1.51257253,   1.51257253,   1.51257253,   1.51257253,\n",
              "         1.51257253,   1.51257253,   1.51257253,   1.51257253,\n",
              "         1.51257253,   1.51257253,   1.51257253,   1.51257253,\n",
              "         1.51257253,   1.51257253,   1.51257253,   1.51257253,\n",
              "         1.51257253,   1.51257253,   1.51257253,   1.51257253,\n",
              "         1.51257253,   1.51257253,   1.51257253,   1.51257253,\n",
              "         1.51257253,   1.51257253,   1.51257253,   1.51257253,\n",
              "         1.51257253,   1.51257253,   1.51257253,   1.51257253,\n",
              "         1.51257253,   1.51257253,   1.51257253,   1.51257253,\n",
              "         1.51257253,   1.51257253,   1.51257253,   1.51257253,\n",
              "         1.51257253,   1.51257253,   1.51257253,   1.51257253,\n",
              "         1.51257253,   1.51257253,   1.51257253,   1.51257253,\n",
              "         1.51257253,   1.51257253,   1.51257253,   1.51257253,\n",
              "         1.51257253,   1.51257253,   1.51257253,   1.51257253,\n",
              "         1.51257253,   1.51257253,   1.51257253,   1.51257253,\n",
              "         1.51257253,   1.51257253,   1.51257253,   1.51257253,\n",
              "         1.51257253,   1.51257253,   1.51257253,   1.51257253,\n",
              "         1.51257253,   1.51257253,   1.51257253,   1.51257253,\n",
              "         1.51257253,   1.51257253,   1.51257253,   1.51257253,\n",
              "         1.51257253,   1.51257253,   1.51257253,   1.51257253,\n",
              "         1.51257253,   1.51257253,   1.51257253,   1.51257253,\n",
              "         1.51257253,   1.51257253,   1.51257253,   1.51257253,\n",
              "         1.51257253,   1.51257253,   1.51257253,   1.51257253,\n",
              "         1.51257253,   1.51257253,   1.51257253,   1.51257253,\n",
              "         1.51257253,   1.51257253,   1.51257253,   1.51257253,\n",
              "         1.51257253,   1.51257253,   1.51257253,   1.51257253,\n",
              "         1.51257253,   1.51257253,   1.51257253,   1.51257253,\n",
              "         1.51257253,   1.51257253,   1.51257253,   1.51257253,\n",
              "         1.51257253,   1.51257253,   1.51257253,   1.51257253,\n",
              "         1.51257253,   1.51257253,   1.51257253,   1.51257253,\n",
              "         1.51257253,   1.51257253,   1.51257253,   1.51257253,\n",
              "         1.51257253,   1.51257253,   1.51257253,   1.51257253,\n",
              "         1.51257253,   1.51257253,   1.51257253,   1.51257253,\n",
              "         1.51257253,   1.51257253,   1.51257253,   1.51257253,\n",
              "         1.51257253,   1.51257253,   1.51257253,   1.51257253,\n",
              "         1.51257253,   1.51257253,   1.51257253,   1.51257253,\n",
              "         1.51257253,   1.51257253,   1.51257253,   1.51257253,\n",
              "         1.51257253,   1.51257253,   1.51257253,   1.51257253,\n",
              "         1.51257253,   1.51257253,   1.51257253,   1.51257253,\n",
              "         1.51257253,   1.51257253,   1.51257253,   1.51257253,\n",
              "         1.51257253,   1.51257253,   1.51257253,   1.51257253,\n",
              "         1.51257253,   1.51257253,   1.51257253,   1.51257253,\n",
              "         1.51257253,   1.51257253,   1.51257253,   1.51257253,\n",
              "         1.51257253,   1.51257253,   1.51257253,   1.51257253,\n",
              "         1.51257253,   1.51257253,   1.51257253,   1.51257253,\n",
              "         1.51257253,   1.51257253,   1.51257253,   1.51257253,\n",
              "         1.51257253,   1.51257253,   1.51257253,   1.51257253,\n",
              "         1.51257253,   1.51257253,   1.51257253,   1.51257253,\n",
              "         1.51257253,   1.51257253,   1.51257253,   1.51257253,\n",
              "         1.51257253,   1.51257253,   1.51257253,   1.51257253,\n",
              "         1.51257253,   1.51257253,   1.51257253,   1.51257253,\n",
              "         1.51257253,   1.51257253,   1.51257253,   1.51257253,\n",
              "         1.51257253,   1.51257253,   1.51257253,   1.51257253,\n",
              "         1.51257253,   1.51257253,   1.51257253,   1.51257253,\n",
              "         1.51257253,   1.51257253,   1.51257253,   1.51257253,\n",
              "         1.51257253,   1.51257253,   1.51257253,   1.51257253,\n",
              "         1.51257253,   1.51257253,   1.51257253,   1.51257253,\n",
              "         1.51257253,   1.51257253,   1.51257253,   1.51257253,\n",
              "         1.51257253,   1.51257253,   1.51257253,   1.51257253,\n",
              "         1.51257253,   1.51257253,   1.51257253,   1.51257253,\n",
              "         1.51257253,   1.51257253,   1.51257253,   1.51257253,\n",
              "         1.51257253,   1.51257253,   1.51257253,   1.51257253,\n",
              "         1.51257253,   1.51257253,   1.51257253,   1.51257253,\n",
              "         1.51257253,   1.51257253,   1.51257253,   1.51257253,\n",
              "         1.51257253,   1.51257253,   1.51257253,   1.51257253,\n",
              "         1.51257253,   1.51257253,   1.51257253,   1.51257253,\n",
              "         1.51257253,   1.51257253,   1.51257253,   1.51257253,\n",
              "         1.51257253,   1.51257253,   1.51257253,   1.51257253,\n",
              "         1.51257253,   1.51257253,   1.51257253,   1.51257253,\n",
              "         1.51257253,   1.51257253,   1.51257253,   1.51257253,\n",
              "         1.51257253,   1.51257253,   1.51257253,   1.51257253,\n",
              "         1.51257253,   1.51257253,   1.51257253,   1.51257253,\n",
              "         1.51257253,   1.51257253,   1.51257253,   1.51257253,\n",
              "         1.51257253,   1.51257253,   1.51257253,   1.51257253,\n",
              "         1.51257253,   1.51257253,   1.51257253,   1.51257253,\n",
              "         1.51257253,   1.51257253,   1.51257253,   1.51257253,\n",
              "         1.51257253,   1.51257253,   1.51257253,   1.51257253,\n",
              "         1.51257253,   1.51257253,   1.51257253,   1.51257253,\n",
              "         1.51257253,   1.51257253,   1.51257253,   1.51257253,\n",
              "         1.51257253,   1.51257253,   1.51257253,   1.51257253,\n",
              "         1.51257253,   1.51257253,   1.51257253,   1.51257253,\n",
              "         1.51257253,   1.51257253,   1.51257253,   1.51257253,\n",
              "         1.51257253,   1.51257253,   1.51257253,   1.51257253,\n",
              "         1.51257253,   1.51257253,   1.51257253,   1.51257253,\n",
              "         1.51257253,   1.51257253,   1.51257253,   1.51257253,\n",
              "         1.51257253,   1.51257253,   1.51257253,   1.51257253,\n",
              "         1.51257253,   1.51257253,   1.51257253,   1.51257253,\n",
              "         1.51257253,   1.51257253,   1.51257253,   1.51257253,\n",
              "         1.51257253,   1.51257253,   1.51257253,   1.51257253,\n",
              "         1.51257253,   1.51257253,   1.51257253,   1.51257253,\n",
              "         1.51257253,   1.51257253,   1.51257253,   1.51257253,\n",
              "         1.51257253,   1.51257253,   1.51257253,   1.51257253,\n",
              "         1.51257253,   1.51257253,   1.51257253,   1.51257253,\n",
              "         1.51257253,   1.51257253,   1.51257253,   1.51257253,\n",
              "         1.51257253,   1.51257253,   1.51257253,   1.51257253,\n",
              "         1.51257253,   1.51257253,   1.51257253,   1.51257253,\n",
              "         1.51257253,   1.51257253,   1.51257253,   1.51257253])"
            ]
          },
          "metadata": {
            "tags": []
          },
          "execution_count": 178
        }
      ]
    },
    {
      "cell_type": "code",
      "metadata": {
        "id": "PtTh2BP2zfJL",
        "colab": {
          "base_uri": "https://localhost:8080/",
          "height": 280
        },
        "outputId": "1ac2aa7e-95a1-4039-af18-9bb990eafa1d"
      },
      "source": [
        "plt.scatter(train.video_id,train.like_count,color='blue')\n",
        "plt.plot(test_x,test_y_hat,'r-')\n",
        "plt.show()"
      ],
      "execution_count": null,
      "outputs": [
        {
          "output_type": "display_data",
          "data": {
            "image/png": "[encoded data removed]",
            "text/plain": [
              "<Figure size 432x288 with 1 Axes>"
            ]
          },
          "metadata": {
            "tags": [],
            "needs_background": "light"
          }
        }
      ]
    },
    {
      "cell_type": "code",
      "metadata": {
        "colab": {
          "base_uri": "https://localhost:8080/"
        },
        "id": "qCv1ELo8zimL",
        "outputId": "6113bdad-e647-47c9-ab49-40cd96744d6e"
      },
      "source": [
        "from sklearn.metrics import r2_score\n",
        "print('R2 Score: %2f'%r2_score(test_y,test_y_hat))"
      ],
      "execution_count": null,
      "outputs": [
        {
          "output_type": "stream",
          "text": [
            "R2 Score: 0.005833\n"
          ],
          "name": "stdout"
        }
      ]
    },
    {
      "cell_type": "code",
      "metadata": {
        "id": "CSIj6h4W0R_v",
        "colab": {
          "base_uri": "https://localhost:8080/"
        },
        "outputId": "97ac9b64-9ef1-49a8-9e14-a69c954579b4"
      },
      "source": [
        "fd.head\n",
        "fd.columns"
      ],
      "execution_count": null,
      "outputs": [
        {
          "output_type": "execute_result",
          "data": {
            "text/plain": [
              "Index(['comment_id', 'text', 'video_id', 'create_time', 'like_count', 'status',\n",
              "       'unique_id', 'nickname', 'is_private', 'language', 'signature',\n",
              "       'custom_verify', 'uid', 'sec_uid', 'avatar_thumb', 'region', 'ins_id',\n",
              "       'youtube_channel_title', 'youtube_channel_id', 'twitter_id'],\n",
              "      dtype='object')"
            ]
          },
          "metadata": {
            "tags": []
          },
          "execution_count": 181
        }
      ]
    },
    {
      "cell_type": "code",
      "metadata": {
        "id": "u8q6P1zoeM4J"
      },
      "source": [
        "reg1 = fd.like_count.drop_duplicates()"
      ],
      "execution_count": null,
      "outputs": []
    },
    {
      "cell_type": "code",
      "metadata": {
        "id": "PJq_wJ2rm4mL",
        "colab": {
          "base_uri": "https://localhost:8080/"
        },
        "outputId": "7fa502f5-7f7d-40c5-9725-237974bd837c"
      },
      "source": [
        "fd.columns"
      ],
      "execution_count": null,
      "outputs": [
        {
          "output_type": "execute_result",
          "data": {
            "text/plain": [
              "Index(['comment_id', 'text', 'video_id', 'create_time', 'like_count', 'status',\n",
              "       'unique_id', 'nickname', 'is_private', 'language', 'signature',\n",
              "       'custom_verify', 'uid', 'sec_uid', 'avatar_thumb', 'region', 'ins_id',\n",
              "       'youtube_channel_title', 'youtube_channel_id', 'twitter_id'],\n",
              "      dtype='object')"
            ]
          },
          "metadata": {
            "tags": []
          },
          "execution_count": 183
        }
      ]
    },
    {
      "cell_type": "markdown",
      "metadata": {
        "id": "8Tr1konmvBxl"
      },
      "source": [
        "**Ploting the Graph**\n",
        "Creatime_time column graph "
      ]
    },
    {
      "cell_type": "code",
      "metadata": {
        "id": "U5XDp1a9W9BD",
        "colab": {
          "base_uri": "https://localhost:8080/",
          "height": 276
        },
        "outputId": "f80b1c2a-29ad-488b-d591-4bca31d37dd8"
      },
      "source": [
        "plt.plot(fd.create_time)\n",
        "plt.ylabel('y-label')\n",
        "plt.show()"
      ],
      "execution_count": null,
      "outputs": [
        {
          "output_type": "display_data",
          "data": {
            "image/png": "[encoded data removed]",
            "text/plain": [
              "<Figure size 432x288 with 1 Axes>"
            ]
          },
          "metadata": {
            "tags": [],
            "needs_background": "light"
          }
        }
      ]
    }
  ]
}